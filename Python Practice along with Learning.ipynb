{
 "cells": [
  {
   "cell_type": "code",
   "execution_count": 1,
   "id": "5311c230",
   "metadata": {},
   "outputs": [
    {
     "name": "stdout",
     "output_type": "stream",
     "text": [
      "Hello World\n"
     ]
    }
   ],
   "source": [
    "print (\"Hello World\")"
   ]
  },
  {
   "cell_type": "code",
   "execution_count": 2,
   "id": "80b59171",
   "metadata": {},
   "outputs": [
    {
     "name": "stdout",
     "output_type": "stream",
     "text": [
      "What is your name ?Dinesh\n"
     ]
    }
   ],
   "source": [
    "#### INPUT Functtion\n",
    "\n",
    "name = input(\"What is your name ?\")"
   ]
  },
  {
   "cell_type": "code",
   "execution_count": 4,
   "id": "b87eaa22",
   "metadata": {},
   "outputs": [
    {
     "name": "stdout",
     "output_type": "stream",
     "text": [
      "Wlecome to UpGrad Dinesh\n"
     ]
    }
   ],
   "source": [
    "print (\"Wlecome to UpGrad\", name)"
   ]
  },
  {
   "cell_type": "code",
   "execution_count": 6,
   "id": "78b0e454",
   "metadata": {},
   "outputs": [
    {
     "name": "stdout",
     "output_type": "stream",
     "text": [
      "               \n",
      "      .--.        \n",
      "     |o_o |    \n",
      "     |:_/ |    \n",
      "    //   \\ \\ \n",
      "   (|     | )  \n",
      "  /'\\_   _/`\\ \n",
      "  \\___)=(___/ \n"
     ]
    }
   ],
   "source": [
    "print(\"               \")\n",
    "print(\"      .--.        \")\n",
    "print(\"     |o_o |    \")\n",
    "print(\"     |:_/ |    \")\n",
    "print(\"    //   \\\\ \\\\ \")\n",
    "print(\"   (|     | )  \")\n",
    "print(\"  /'\\_   _/`\\\\ \")\n",
    "print(\"  \\\\___)=(___/ \")"
   ]
  },
  {
   "cell_type": "code",
   "execution_count": 7,
   "id": "4ad9760d",
   "metadata": {},
   "outputs": [
    {
     "name": "stdout",
     "output_type": "stream",
     "text": [
      "3.0\n"
     ]
    }
   ],
   "source": [
    "x = 3.5\n",
    "print(float(int(x)))"
   ]
  },
  {
   "cell_type": "markdown",
   "id": "4f2891b1",
   "metadata": {},
   "source": [
    "# Variables"
   ]
  },
  {
   "cell_type": "code",
   "execution_count": 10,
   "id": "2af78735",
   "metadata": {},
   "outputs": [
    {
     "name": "stdout",
     "output_type": "stream",
     "text": [
      "Dinesh\n",
      "Meena\n"
     ]
    }
   ],
   "source": [
    "var1 = \"Dinesh\"\n",
    "print (var1)\n",
    "\n",
    "\n",
    "var2 = \"Meena\"\n",
    "print (var2)\n"
   ]
  },
  {
   "cell_type": "code",
   "execution_count": 12,
   "id": "cc35c7c3",
   "metadata": {},
   "outputs": [],
   "source": [
    "var3 = 6\n",
    "var4 = 4.5\n"
   ]
  },
  {
   "cell_type": "code",
   "execution_count": 15,
   "id": "5e5ce3d2",
   "metadata": {},
   "outputs": [
    {
     "name": "stdout",
     "output_type": "stream",
     "text": [
      "Dinesh Meena\n",
      "6 Space 4.5\n"
     ]
    }
   ],
   "source": [
    "print (var1,var2)\n",
    "print (var3,\"Space\",var4)"
   ]
  },
  {
   "cell_type": "markdown",
   "id": "67b41cb2",
   "metadata": {},
   "source": []
  },
  {
   "cell_type": "code",
   "execution_count": 17,
   "id": "182c0af3",
   "metadata": {},
   "outputs": [
    {
     "name": "stdout",
     "output_type": "stream",
     "text": [
      "what is your favauraite number5\n",
      "5\n"
     ]
    }
   ],
   "source": [
    "number = input (\"what is your favauraite number\")\n",
    "print (number)"
   ]
  },
  {
   "cell_type": "code",
   "execution_count": 18,
   "id": "69b6383b",
   "metadata": {},
   "outputs": [
    {
     "name": "stdout",
     "output_type": "stream",
     "text": [
      "Eneter your nameDineshKu\n",
      "DineshKu\n"
     ]
    }
   ],
   "source": [
    "name = input (\"Eneter your name\")\n",
    "print (\"Welcome\", name)"
   ]
  },
  {
   "cell_type": "code",
   "execution_count": 20,
   "id": "2f655696",
   "metadata": {},
   "outputs": [
    {
     "name": "stdout",
     "output_type": "stream",
     "text": [
      "Shavi\n"
     ]
    }
   ],
   "source": [
    "name2 = \"Shavi\"\n",
    "print (name2)"
   ]
  },
  {
   "cell_type": "code",
   "execution_count": 24,
   "id": "482d18f6",
   "metadata": {},
   "outputs": [],
   "source": [
    "Name = 4"
   ]
  },
  {
   "cell_type": "code",
   "execution_count": 27,
   "id": "04de145b",
   "metadata": {},
   "outputs": [
    {
     "name": "stdout",
     "output_type": "stream",
     "text": [
      "4 DineshKu Shavi\n"
     ]
    }
   ],
   "source": [
    "print (Name, name, name2)"
   ]
  },
  {
   "cell_type": "markdown",
   "id": "36531e09",
   "metadata": {},
   "source": [
    "# calculate the age of a person in months. "
   ]
  },
  {
   "cell_type": "code",
   "execution_count": 28,
   "id": "5e44e2f9",
   "metadata": {},
   "outputs": [
    {
     "name": "stdout",
     "output_type": "stream",
     "text": [
      "Enter Your Age31\n",
      "You are 313131313131313131313131 month old\n"
     ]
    }
   ],
   "source": [
    "age = input (\"Enter Your Age\")\n",
    "print (\"You are\" , age*12, \"month old\")"
   ]
  },
  {
   "cell_type": "code",
   "execution_count": 30,
   "id": "edc0ccb5",
   "metadata": {},
   "outputs": [],
   "source": []
  },
  {
   "cell_type": "code",
   "execution_count": 31,
   "id": "35283ac7",
   "metadata": {},
   "outputs": [
    {
     "name": "stdout",
     "output_type": "stream",
     "text": [
      "Enter Your Age32\n",
      "You are 384 month old\n"
     ]
    }
   ],
   "source": [
    "age = input (\"Enter Your Age\")\n",
    "age = int (age)\n",
    "print (\"You are\" , age*12, \"month old\")"
   ]
  },
  {
   "cell_type": "markdown",
   "id": "7b2814b7",
   "metadata": {},
   "source": [
    "# How to find the Data Type for a variables in Python"
   ]
  },
  {
   "cell_type": "code",
   "execution_count": 33,
   "id": "bf87a2cb",
   "metadata": {},
   "outputs": [],
   "source": [
    "integer_num = 1\n",
    "floating_num = 1.3\n",
    "string = 'Mike'\n",
    "boolean = True"
   ]
  },
  {
   "cell_type": "code",
   "execution_count": 34,
   "id": "7a9acdc2",
   "metadata": {},
   "outputs": [
    {
     "data": {
      "text/plain": [
       "int"
      ]
     },
     "execution_count": 34,
     "metadata": {},
     "output_type": "execute_result"
    }
   ],
   "source": [
    "type(integer_num)"
   ]
  },
  {
   "cell_type": "code",
   "execution_count": 35,
   "id": "c324a601",
   "metadata": {},
   "outputs": [
    {
     "data": {
      "text/plain": [
       "float"
      ]
     },
     "execution_count": 35,
     "metadata": {},
     "output_type": "execute_result"
    }
   ],
   "source": [
    "type(floating_num)"
   ]
  },
  {
   "cell_type": "code",
   "execution_count": 36,
   "id": "31936de9",
   "metadata": {},
   "outputs": [
    {
     "data": {
      "text/plain": [
       "str"
      ]
     },
     "execution_count": 36,
     "metadata": {},
     "output_type": "execute_result"
    }
   ],
   "source": [
    "type(string)"
   ]
  },
  {
   "cell_type": "code",
   "execution_count": 37,
   "id": "ab1545f5",
   "metadata": {},
   "outputs": [
    {
     "data": {
      "text/plain": [
       "bool"
      ]
     },
     "execution_count": 37,
     "metadata": {},
     "output_type": "execute_result"
    }
   ],
   "source": [
    "type(boolean)"
   ]
  },
  {
   "cell_type": "code",
   "execution_count": 38,
   "id": "c56e36f2",
   "metadata": {},
   "outputs": [],
   "source": [
    "# Type Casting variable in Python"
   ]
  },
  {
   "cell_type": "code",
   "execution_count": 63,
   "id": "25828a35",
   "metadata": {},
   "outputs": [],
   "source": [
    "a = 7\n"
   ]
  },
  {
   "cell_type": "code",
   "execution_count": 64,
   "id": "486d86ff",
   "metadata": {},
   "outputs": [
    {
     "name": "stdout",
     "output_type": "stream",
     "text": [
      "True\n"
     ]
    }
   ],
   "source": [
    "print (bool(a))"
   ]
  },
  {
   "cell_type": "code",
   "execution_count": 65,
   "id": "43c1abbe",
   "metadata": {},
   "outputs": [
    {
     "name": "stdout",
     "output_type": "stream",
     "text": [
      "7\n"
     ]
    }
   ],
   "source": [
    "print (int(a))"
   ]
  },
  {
   "cell_type": "code",
   "execution_count": 66,
   "id": "de6ee4eb",
   "metadata": {},
   "outputs": [
    {
     "name": "stdout",
     "output_type": "stream",
     "text": [
      "7.0\n"
     ]
    }
   ],
   "source": [
    "print (float(a))"
   ]
  },
  {
   "cell_type": "code",
   "execution_count": 67,
   "id": "306b7cf4",
   "metadata": {},
   "outputs": [
    {
     "name": "stdout",
     "output_type": "stream",
     "text": [
      "7.0\n"
     ]
    }
   ],
   "source": [
    "print (float(a))"
   ]
  },
  {
   "cell_type": "code",
   "execution_count": 68,
   "id": "f88e8ef6",
   "metadata": {},
   "outputs": [
    {
     "name": "stdout",
     "output_type": "stream",
     "text": [
      "7\n"
     ]
    }
   ],
   "source": [
    "print (str(a))"
   ]
  },
  {
   "cell_type": "code",
   "execution_count": 69,
   "id": "4ad4040b",
   "metadata": {},
   "outputs": [
    {
     "name": "stdout",
     "output_type": "stream",
     "text": [
      "3.0\n"
     ]
    }
   ],
   "source": [
    "x = 3.5\n",
    "print(float(int(x)))"
   ]
  },
  {
   "cell_type": "code",
   "execution_count": 70,
   "id": "5e71eaee",
   "metadata": {},
   "outputs": [
    {
     "ename": "NameError",
     "evalue": "name 'Varma' is not defined",
     "output_type": "error",
     "traceback": [
      "\u001b[1;31m---------------------------------------------------------------------------\u001b[0m",
      "\u001b[1;31mNameError\u001b[0m                                 Traceback (most recent call last)",
      "Cell \u001b[1;32mIn[70], line 1\u001b[0m\n\u001b[1;32m----> 1\u001b[0m name \u001b[38;5;241m=\u001b[39m Varma\n\u001b[0;32m      3\u001b[0m \u001b[38;5;28mprint\u001b[39m(\u001b[38;5;28mtype\u001b[39m(name))\n",
      "\u001b[1;31mNameError\u001b[0m: name 'Varma' is not defined"
     ]
    }
   ],
   "source": [
    "name = Varma\n",
    "\n",
    "print(type(name))"
   ]
  },
  {
   "cell_type": "code",
   "execution_count": null,
   "id": "42763d53",
   "metadata": {},
   "outputs": [],
   "source": [
    "# Arithmetic Operations"
   ]
  },
  {
   "cell_type": "code",
   "execution_count": 11,
   "id": "c5d186eb",
   "metadata": {},
   "outputs": [
    {
     "name": "stdout",
     "output_type": "stream",
     "text": [
      " Addition of A and B =  44\n"
     ]
    }
   ],
   "source": [
    "a = 30\n",
    "b = 14\n",
    "print (\" Addition of A and B = \" , a+b)\n"
   ]
  },
  {
   "cell_type": "code",
   "execution_count": 12,
   "id": "a58e594d",
   "metadata": {},
   "outputs": [
    {
     "name": "stdout",
     "output_type": "stream",
     "text": [
      " Substraction  of A and B =  16\n"
     ]
    }
   ],
   "source": [
    "print (\" Substraction  of A and B = \" , a-b)\n"
   ]
  },
  {
   "cell_type": "code",
   "execution_count": 13,
   "id": "2f9d4162",
   "metadata": {},
   "outputs": [
    {
     "name": "stdout",
     "output_type": "stream",
     "text": [
      " Multiplication  of A and B =  420\n"
     ]
    }
   ],
   "source": [
    "print (\" Multiplication  of A and B = \" , a*b)\n"
   ]
  },
  {
   "cell_type": "code",
   "execution_count": 14,
   "id": "dfde2711",
   "metadata": {},
   "outputs": [
    {
     "name": "stdout",
     "output_type": "stream",
     "text": [
      " Division  of A and B =  2.142857142857143\n"
     ]
    }
   ],
   "source": [
    "print (\" Division  of A and B = \" , a/b)\n"
   ]
  },
  {
   "cell_type": "code",
   "execution_count": 15,
   "id": "67e60b2d",
   "metadata": {},
   "outputs": [
    {
     "name": "stdout",
     "output_type": "stream",
     "text": [
      " Floor Division  of A and B =  2\n"
     ]
    }
   ],
   "source": [
    "print (\" Floor Division  of A and B = \" , a//b)\n"
   ]
  },
  {
   "cell_type": "code",
   "execution_count": 18,
   "id": "19b1fcca",
   "metadata": {},
   "outputs": [
    {
     "name": "stdout",
     "output_type": "stream",
     "text": [
      " Modulus or Remainder =  2\n"
     ]
    }
   ],
   "source": [
    "print (\" Modulus or Remainder = \" , a % b) # 30 = 2*14 +2\n",
    "\n"
   ]
  },
  {
   "cell_type": "code",
   "execution_count": 19,
   "id": "4c603716",
   "metadata": {},
   "outputs": [
    {
     "name": "stdout",
     "output_type": "stream",
     "text": [
      " Exponantial = 478296900000000000000\n"
     ]
    }
   ],
   "source": [
    "print (\" Exponantial =\" , a**b)\n"
   ]
  },
  {
   "cell_type": "code",
   "execution_count": 20,
   "id": "ef2db1fe",
   "metadata": {},
   "outputs": [
    {
     "name": "stdout",
     "output_type": "stream",
     "text": [
      "11.857142857142858\n"
     ]
    }
   ],
   "source": [
    "# Complex Operation\n",
    "\n",
    "print((4 * 5) -9 + 6/7)"
   ]
  },
  {
   "cell_type": "code",
   "execution_count": 21,
   "id": "9168c56c",
   "metadata": {},
   "outputs": [
    {
     "data": {
      "text/plain": [
       "0.8571428571428571"
      ]
     },
     "execution_count": 21,
     "metadata": {},
     "output_type": "execute_result"
    }
   ],
   "source": [
    "6/7"
   ]
  },
  {
   "cell_type": "code",
   "execution_count": 22,
   "id": "73d8c96b",
   "metadata": {},
   "outputs": [],
   "source": [
    " a = 4 + (8 ** 2) - 3 ** 2 % 1 "
   ]
  },
  {
   "cell_type": "code",
   "execution_count": 23,
   "id": "c9b7ed2b",
   "metadata": {},
   "outputs": [
    {
     "data": {
      "text/plain": [
       "64"
      ]
     },
     "execution_count": 23,
     "metadata": {},
     "output_type": "execute_result"
    }
   ],
   "source": [
    "(8 ** 2)"
   ]
  },
  {
   "cell_type": "code",
   "execution_count": 24,
   "id": "a3cccb99",
   "metadata": {},
   "outputs": [
    {
     "data": {
      "text/plain": [
       "68"
      ]
     },
     "execution_count": 24,
     "metadata": {},
     "output_type": "execute_result"
    }
   ],
   "source": [
    "4+64 - 3 ** 2 % 1 "
   ]
  },
  {
   "cell_type": "code",
   "execution_count": 25,
   "id": "daa3aa12",
   "metadata": {},
   "outputs": [
    {
     "data": {
      "text/plain": [
       "1.1"
      ]
     },
     "execution_count": 25,
     "metadata": {},
     "output_type": "execute_result"
    }
   ],
   "source": [
    "5.5/5"
   ]
  },
  {
   "cell_type": "code",
   "execution_count": 26,
   "id": "be2f73b7",
   "metadata": {},
   "outputs": [
    {
     "ename": "NameError",
     "evalue": "name 'X' is not defined",
     "output_type": "error",
     "traceback": [
      "\u001b[1;31m---------------------------------------------------------------------------\u001b[0m",
      "\u001b[1;31mNameError\u001b[0m                                 Traceback (most recent call last)",
      "Cell \u001b[1;32mIn[26], line 4\u001b[0m\n\u001b[0;32m      2\u001b[0m y \u001b[38;5;241m=\u001b[39m \u001b[38;5;241m2.5\u001b[39m\n\u001b[0;32m      3\u001b[0m z \u001b[38;5;241m=\u001b[39m \u001b[38;5;241m5\u001b[39m\n\u001b[1;32m----> 4\u001b[0m \u001b[38;5;28mprint\u001b[39m(\u001b[43mX\u001b[49m \u001b[38;5;241m+\u001b[39m y \u001b[38;5;241m/\u001b[39m z)\n",
      "\u001b[1;31mNameError\u001b[0m: name 'X' is not defined"
     ]
    }
   ],
   "source": [
    "x = 3\n",
    "y = 2.5\n",
    "z = 5\n",
    "print(X + y / z)\n"
   ]
  },
  {
   "cell_type": "code",
   "execution_count": 28,
   "id": "be6b3f68",
   "metadata": {},
   "outputs": [
    {
     "data": {
      "text/plain": [
       "-2"
      ]
     },
     "execution_count": 28,
     "metadata": {},
     "output_type": "execute_result"
    }
   ],
   "source": [
    "4 % (1 + 9)**2 - 60 // (7 + 2)      "
   ]
  },
  {
   "cell_type": "code",
   "execution_count": 29,
   "id": "5ea2650c",
   "metadata": {},
   "outputs": [
    {
     "data": {
      "text/plain": [
       "4"
      ]
     },
     "execution_count": 29,
     "metadata": {},
     "output_type": "execute_result"
    }
   ],
   "source": [
    "4 % 10"
   ]
  },
  {
   "cell_type": "code",
   "execution_count": 30,
   "id": "c8788eee",
   "metadata": {},
   "outputs": [
    {
     "data": {
      "text/plain": [
       "10"
      ]
     },
     "execution_count": 30,
     "metadata": {},
     "output_type": "execute_result"
    }
   ],
   "source": [
    "4**2 -60 // 9"
   ]
  },
  {
   "cell_type": "code",
   "execution_count": 31,
   "id": "5f434d1f",
   "metadata": {},
   "outputs": [
    {
     "data": {
      "text/plain": [
       "-2"
      ]
     },
     "execution_count": 31,
     "metadata": {},
     "output_type": "execute_result"
    }
   ],
   "source": [
    "4 % 10**2 - 60 // 9\n"
   ]
  },
  {
   "cell_type": "markdown",
   "id": "a7c7017f",
   "metadata": {},
   "source": [
    "# String Operations\n",
    "#### 90% of the data in the world is in form of text data; as we have seen in the last few segments, python handles text data generally via the string data type; and this makes 'strings'  perhaps one of the most important data types and hence, learning how to work with strings is crucial. In the next set of videos, you will learn about various operations and manipulations applicable to a string. "
   ]
  },
  {
   "cell_type": "markdown",
   "id": "12bb5862",
   "metadata": {},
   "source": []
  },
  {
   "cell_type": "code",
   "execution_count": 32,
   "id": "c5cf4751",
   "metadata": {},
   "outputs": [],
   "source": [
    "#Whenever we are assigning a char or string we use '' which represents a character\n",
    "c = 'z'\n",
    "d = 'Mike'\n",
    "#You can also use \" \" double quotes instead of single quotes for strings\n",
    "e = \"John\""
   ]
  },
  {
   "cell_type": "code",
   "execution_count": 33,
   "id": "5da22b83",
   "metadata": {},
   "outputs": [
    {
     "ename": "SyntaxError",
     "evalue": "invalid syntax (3538756740.py, line 2)",
     "output_type": "error",
     "traceback": [
      "\u001b[1;36m  Cell \u001b[1;32mIn[33], line 2\u001b[1;36m\u001b[0m\n\u001b[1;33m    print('I didn't know that')\u001b[0m\n\u001b[1;37m                  ^\u001b[0m\n\u001b[1;31mSyntaxError\u001b[0m\u001b[1;31m:\u001b[0m invalid syntax\n"
     ]
    }
   ],
   "source": [
    "#Now when we want to include words with a single quote such as \"didn't\", \"I'll\".. we might end up with a error\n",
    "print('I didn't know that')\n"
   ]
  },
  {
   "cell_type": "code",
   "execution_count": 34,
   "id": "802f425e",
   "metadata": {},
   "outputs": [
    {
     "name": "stdout",
     "output_type": "stream",
     "text": [
      "'I didn't know that'\n"
     ]
    }
   ],
   "source": [
    "#Now when we want to include words with a single quote such as \"didn't\", \"I'll\".. we might end up with a error\n",
    "print(\"'I didn't know that'\")\n"
   ]
  },
  {
   "cell_type": "code",
   "execution_count": 35,
   "id": "25711c18",
   "metadata": {},
   "outputs": [
    {
     "name": "stdout",
     "output_type": "stream",
     "text": [
      "I didn't know that\n"
     ]
    }
   ],
   "source": [
    "#Now when we want to include words with a single quote such as \"didn't\", \"I'll\".. we might end up with a error\n",
    "print('I didn\\'t know that')\n"
   ]
  },
  {
   "cell_type": "code",
   "execution_count": 36,
   "id": "744022ac",
   "metadata": {},
   "outputs": [
    {
     "name": "stdout",
     "output_type": "stream",
     "text": [
      "Hi Bob \n",
      "\n",
      "How are you?\n"
     ]
    }
   ],
   "source": [
    "#Now that '\\' escape character which we saw earlier can also be used for other stuff like adding a new line\n",
    "print(\"Hi Bob \\n\\nHow are you?\")"
   ]
  },
  {
   "cell_type": "code",
   "execution_count": 37,
   "id": "694ffd5e",
   "metadata": {
    "scrolled": true
   },
   "outputs": [
    {
     "name": "stdout",
     "output_type": "stream",
     "text": [
      "Hi Dinesh \n",
      "\n",
      " I am good, \n",
      " How about you ?\n"
     ]
    }
   ],
   "source": [
    "print(\"Hi Dinesh \\n\\n I am good, \\n How about you ?\")"
   ]
  },
  {
   "cell_type": "markdown",
   "id": "8e62b7fa",
   "metadata": {},
   "source": [
    "Now apart adding new lines to a string we can also add another to a pre-existing string, let's see how -\n",
    "\n",
    "###String Concatenation\n"
   ]
  },
  {
   "cell_type": "code",
   "execution_count": 3,
   "id": "1e0844f0",
   "metadata": {},
   "outputs": [
    {
     "name": "stdout",
     "output_type": "stream",
     "text": [
      "What Flavour You Like ?Jamoon\n",
      "What tupe of dessart you line to Eat at the end of Food ?Vennila ice with Jamoon\n"
     ]
    }
   ],
   "source": [
    "# Let's try building a system that could ask for flavour, and the type of desert user wants\n",
    "\n",
    "flavour = input (\"What Flavour You Like ?\")\n",
    "destype =  input (\"What tupe of dessart you line to Eat at the end of Food ?\")"
   ]
  },
  {
   "cell_type": "code",
   "execution_count": 4,
   "id": "5bf61969",
   "metadata": {},
   "outputs": [
    {
     "name": "stdout",
     "output_type": "stream",
     "text": [
      "You have enterd JamoonVennila ice with Jamoon\n"
     ]
    }
   ],
   "source": [
    "print (\"You have enterd\", flavour+destype)"
   ]
  },
  {
   "cell_type": "code",
   "execution_count": 5,
   "id": "4b5307e3",
   "metadata": {
    "scrolled": true
   },
   "outputs": [
    {
     "name": "stdout",
     "output_type": "stream",
     "text": [
      "What flavour would you like Vennila\n",
      "What type of dessert would you like Ice Creame with Jamoon\n",
      "You have ordered Vennila-Ice Creame with Jamoon\n"
     ]
    }
   ],
   "source": [
    "#Let's try building a system that could ask for flavour, and the type of desert user wants\n",
    "flavour=input(\"What flavour would you like \")\n",
    "dessert_type=input(\"What type of dessert would you like \")\n",
    "print(\"You have ordered\", flavour+\"-\"+dessert_type)"
   ]
  },
  {
   "cell_type": "markdown",
   "id": "60f7ee2c",
   "metadata": {},
   "source": [
    "##String Manipulation"
   ]
  },
  {
   "cell_type": "markdown",
   "id": "ab0ee1b4",
   "metadata": {},
   "source": [
    "#### Indexing In Strings <br>\n",
    "- Forward indexing starts with 0\n",
    "- Reverse indexing starts with the last character as -1 in a python string\n",
    "- Strings are immutable which, means they cannot be changed once created.\n",
    "- Strings can be modified by slicing a part of it and concatenating with another\n"
   ]
  },
  {
   "cell_type": "code",
   "execution_count": 80,
   "id": "fd7a2a35",
   "metadata": {},
   "outputs": [
    {
     "data": {
      "text/plain": [
       "82"
      ]
     },
     "execution_count": 80,
     "metadata": {},
     "output_type": "execute_result"
    }
   ],
   "source": [
    "# Len() function\n",
    "string = \"I have not failed. I’ve just found 10,000 ways that won’t work. – Thomas A. Edison\"\n",
    "len(string)"
   ]
  },
  {
   "cell_type": "code",
   "execution_count": 11,
   "id": "3cb5c43a",
   "metadata": {},
   "outputs": [
    {
     "data": {
      "text/plain": [
       "'I'"
      ]
     },
     "execution_count": 11,
     "metadata": {},
     "output_type": "execute_result"
    }
   ],
   "source": [
    "# 1st Carector\n",
    "\n",
    "string[0]"
   ]
  },
  {
   "cell_type": "code",
   "execution_count": 12,
   "id": "60d96b56",
   "metadata": {},
   "outputs": [
    {
     "data": {
      "text/plain": [
       "'e'"
      ]
     },
     "execution_count": 12,
     "metadata": {},
     "output_type": "execute_result"
    }
   ],
   "source": [
    "# 1st Carector\n",
    "\n",
    "string[5]"
   ]
  },
  {
   "cell_type": "code",
   "execution_count": 13,
   "id": "d7432412",
   "metadata": {},
   "outputs": [
    {
     "data": {
      "text/plain": [
       "'n'"
      ]
     },
     "execution_count": 13,
     "metadata": {},
     "output_type": "execute_result"
    }
   ],
   "source": [
    "# find last cahrector of string \n",
    "\n",
    "string[81]"
   ]
  },
  {
   "cell_type": "code",
   "execution_count": 15,
   "id": "6ba05b46",
   "metadata": {},
   "outputs": [
    {
     "data": {
      "text/plain": [
       "'n'"
      ]
     },
     "execution_count": 15,
     "metadata": {},
     "output_type": "execute_result"
    }
   ],
   "source": [
    "# find last cahrector of string using negative indexing\n",
    "string[-1]"
   ]
  },
  {
   "cell_type": "code",
   "execution_count": 16,
   "id": "5b083506",
   "metadata": {},
   "outputs": [
    {
     "data": {
      "text/plain": [
       "'d'"
      ]
     },
     "execution_count": 16,
     "metadata": {},
     "output_type": "execute_result"
    }
   ],
   "source": [
    "# find last cahrector of string using negative indexing\n",
    "string[-5]"
   ]
  },
  {
   "cell_type": "code",
   "execution_count": 17,
   "id": "71bb7c4c",
   "metadata": {},
   "outputs": [],
   "source": [
    "string1 = 'mvqugvqhc2ndoi'"
   ]
  },
  {
   "cell_type": "code",
   "execution_count": 18,
   "id": "55c509ed",
   "metadata": {},
   "outputs": [
    {
     "data": {
      "text/plain": [
       "14"
      ]
     },
     "execution_count": 18,
     "metadata": {},
     "output_type": "execute_result"
    }
   ],
   "source": [
    "len(string1)"
   ]
  },
  {
   "cell_type": "code",
   "execution_count": 19,
   "id": "39da7b9e",
   "metadata": {},
   "outputs": [
    {
     "ename": "TypeError",
     "evalue": "'str' object does not support item assignment",
     "output_type": "error",
     "traceback": [
      "\u001b[1;31m---------------------------------------------------------------------------\u001b[0m",
      "\u001b[1;31mTypeError\u001b[0m                                 Traceback (most recent call last)",
      "Cell \u001b[1;32mIn[19], line 1\u001b[0m\n\u001b[1;32m----> 1\u001b[0m string[\u001b[38;5;241m2\u001b[39m] \u001b[38;5;241m=\u001b[39m \u001b[38;5;124m'\u001b[39m\u001b[38;5;124mt\u001b[39m\u001b[38;5;124m'\u001b[39m\n",
      "\u001b[1;31mTypeError\u001b[0m: 'str' object does not support item assignment"
     ]
    }
   ],
   "source": [
    "string[2] = 't'"
   ]
  },
  {
   "cell_type": "code",
   "execution_count": 20,
   "id": "d738bc42",
   "metadata": {},
   "outputs": [
    {
     "name": "stdout",
     "output_type": "stream",
     "text": [
      "I have not failed. I’ve just found 10,000 ways that won’t work. – Thomas A. Edison\n"
     ]
    }
   ],
   "source": [
    "print(string)"
   ]
  },
  {
   "cell_type": "code",
   "execution_count": 21,
   "id": "2c7f3ead",
   "metadata": {},
   "outputs": [
    {
     "name": "stdout",
     "output_type": "stream",
     "text": [
      "Enter Firest NameYASH\n",
      "Enter Secont NameSHAARWIN\n",
      "Enter your last NameKUMARA\n"
     ]
    }
   ],
   "source": [
    "string1 = input(\"Enter Firest Name\")\n",
    "string2 = input (\"Enter Secont Name\")\n",
    "string3 = input (\"Enter your last Name\")\n",
    "\n"
   ]
  },
  {
   "cell_type": "code",
   "execution_count": 23,
   "id": "19f32a6e",
   "metadata": {},
   "outputs": [
    {
     "name": "stdout",
     "output_type": "stream",
     "text": [
      "YASH SHAARWIN  KUMARA\n"
     ]
    }
   ],
   "source": [
    "print(string1+\" \"+string2+\"  \"+string3)"
   ]
  },
  {
   "cell_type": "code",
   "execution_count": 25,
   "id": "78f14f19",
   "metadata": {},
   "outputs": [
    {
     "name": "stdout",
     "output_type": "stream",
     "text": [
      "YASH SHAARWIN  KUMARA\n"
     ]
    }
   ],
   "source": [
    "print(string1+\" \"+string2+\"  \"+string3)"
   ]
  },
  {
   "cell_type": "markdown",
   "id": "5f6553ea",
   "metadata": {},
   "source": [
    "#### Slicing In Strings\n",
    "- string[start:end:step]"
   ]
  },
  {
   "cell_type": "code",
   "execution_count": 42,
   "id": "c840fcbb",
   "metadata": {},
   "outputs": [
    {
     "name": "stdout",
     "output_type": "stream",
     "text": [
      "I have not failed. I’ve just found 10,000 ways that won’t work. \n"
     ]
    }
   ],
   "source": [
    "#slicing by specifying start and end index\n",
    "statement = \"I have not failed. I’ve just found 10,000 ways that won’t work. – Thomas A. Edison\"\n",
    "sliced_statement = statement[0:64]\n",
    "print(sliced_statement)"
   ]
  },
  {
   "cell_type": "code",
   "execution_count": 46,
   "id": "2ed83aac",
   "metadata": {},
   "outputs": [
    {
     "name": "stdout",
     "output_type": "stream",
     "text": [
      "I have not failed. I’ve just found 10,000 ways that won’t work. \n"
     ]
    }
   ],
   "source": [
    "print(sliced_statement)"
   ]
  },
  {
   "cell_type": "code",
   "execution_count": 47,
   "id": "45d517cd",
   "metadata": {},
   "outputs": [
    {
     "name": "stdout",
     "output_type": "stream",
     "text": [
      "5 girls \n",
      "3 boys in a class\n"
     ]
    }
   ],
   "source": [
    "batch = \"5 girls 3 boys in a class\"\n",
    "girls = batch[ :8]\n",
    "print(girls)\n",
    "\n",
    "print(batch[ 8: ])"
   ]
  },
  {
   "cell_type": "code",
   "execution_count": 48,
   "id": "00262b4f",
   "metadata": {},
   "outputs": [
    {
     "name": "stdout",
     "output_type": "stream",
     "text": [
      "3 boys in a class\n"
     ]
    }
   ],
   "source": [
    "print(batch[ 8: ])"
   ]
  },
  {
   "cell_type": "code",
   "execution_count": 49,
   "id": "84e1aa18",
   "metadata": {},
   "outputs": [
    {
     "name": "stdout",
     "output_type": "stream",
     "text": [
      "3 boys in a class\n"
     ]
    }
   ],
   "source": [
    "print(batch[ 8: ])"
   ]
  },
  {
   "cell_type": "code",
   "execution_count": 50,
   "id": "4dbec3b2",
   "metadata": {},
   "outputs": [
    {
     "name": "stdout",
     "output_type": "stream",
     "text": [
      "3 boys in a class\n"
     ]
    }
   ],
   "source": [
    "print(batch[ 8: ])"
   ]
  },
  {
   "cell_type": "code",
   "execution_count": 53,
   "id": "45933cd6",
   "metadata": {},
   "outputs": [
    {
     "name": "stdout",
     "output_type": "stream",
     "text": [
      "3 boys in a class\n"
     ]
    }
   ],
   "source": [
    "print(batch[ 8: ])"
   ]
  },
  {
   "cell_type": "code",
   "execution_count": 54,
   "id": "1c35054c",
   "metadata": {},
   "outputs": [
    {
     "name": "stdout",
     "output_type": "stream",
     "text": [
      "5 girls \n",
      "3 boys in a class\n"
     ]
    }
   ],
   "source": [
    "print(girls)\n",
    "\n",
    "print(batch[ 8: ])"
   ]
  },
  {
   "cell_type": "code",
   "execution_count": null,
   "id": "6d4440f3",
   "metadata": {},
   "outputs": [],
   "source": []
  },
  {
   "cell_type": "code",
   "execution_count": 55,
   "id": "b6c237e0",
   "metadata": {},
   "outputs": [
    {
     "name": "stdout",
     "output_type": "stream",
     "text": [
      "False\n"
     ]
    }
   ],
   "source": [
    "String = \" John! Did you attend the confreance on advanced machine leardning\"\n",
    "print ('Lincoln' in String)"
   ]
  },
  {
   "cell_type": "code",
   "execution_count": 56,
   "id": "45547f2e",
   "metadata": {},
   "outputs": [
    {
     "name": "stdout",
     "output_type": "stream",
     "text": [
      "False\n"
     ]
    }
   ],
   "source": [
    "print ('Lincoln' in String)"
   ]
  },
  {
   "cell_type": "code",
   "execution_count": 57,
   "id": "9c4adca5",
   "metadata": {},
   "outputs": [
    {
     "name": "stdout",
     "output_type": "stream",
     "text": [
      "False\n"
     ]
    }
   ],
   "source": [
    "print ('behzad' in String)"
   ]
  },
  {
   "cell_type": "code",
   "execution_count": 58,
   "id": "bd7ac8ce",
   "metadata": {},
   "outputs": [
    {
     "name": "stdout",
     "output_type": "stream",
     "text": [
      "True\n"
     ]
    }
   ],
   "source": [
    "print ('machine' in String)"
   ]
  },
  {
   "cell_type": "code",
   "execution_count": 72,
   "id": "fd35db41",
   "metadata": {},
   "outputs": [
    {
     "name": "stdout",
     "output_type": "stream",
     "text": [
      "Python\n"
     ]
    },
    {
     "data": {
      "text/plain": [
       "25"
      ]
     },
     "execution_count": 72,
     "metadata": {},
     "output_type": "execute_result"
    }
   ],
   "source": [
    "Q = \"I love Python programming\"\n",
    "#print ('Python' in Q)\n",
    "sliceword = Q [-18:-12]\n",
    "print (sliceword)\n",
    "len(Q)"
   ]
  },
  {
   "cell_type": "code",
   "execution_count": 73,
   "id": "c68093fa",
   "metadata": {},
   "outputs": [
    {
     "data": {
      "text/plain": [
       "'e'"
      ]
     },
     "execution_count": 73,
     "metadata": {},
     "output_type": "execute_result"
    }
   ],
   "source": [
    "x = 'len'\n",
    "x[len(x * 2) - 5]"
   ]
  },
  {
   "cell_type": "code",
   "execution_count": 74,
   "id": "7aca62b1",
   "metadata": {},
   "outputs": [
    {
     "ename": "SyntaxError",
     "evalue": "invalid character '‘' (U+2018) (724425218.py, line 1)",
     "output_type": "error",
     "traceback": [
      "\u001b[1;36m  Cell \u001b[1;32mIn[74], line 1\u001b[1;36m\u001b[0m\n\u001b[1;33m    len(‘Python’)\u001b[0m\n\u001b[1;37m        ^\u001b[0m\n\u001b[1;31mSyntaxError\u001b[0m\u001b[1;31m:\u001b[0m invalid character '‘' (U+2018)\n"
     ]
    }
   ],
   "source": [
    "len(‘Python’)"
   ]
  },
  {
   "cell_type": "code",
   "execution_count": 88,
   "id": "b8f980b7",
   "metadata": {},
   "outputs": [
    {
     "name": "stdout",
     "output_type": "stream",
     "text": [
      "[1]\n"
     ]
    }
   ],
   "source": [
    "x = 'len'\n",
    "x =  [len (x * 2) -5]\n",
    "print (x)"
   ]
  },
  {
   "cell_type": "code",
   "execution_count": 84,
   "id": "8fcfc187",
   "metadata": {},
   "outputs": [
    {
     "ename": "TypeError",
     "evalue": "'builtin_function_or_method' object is not subscriptable",
     "output_type": "error",
     "traceback": [
      "\u001b[1;31m---------------------------------------------------------------------------\u001b[0m",
      "\u001b[1;31mTypeError\u001b[0m                                 Traceback (most recent call last)",
      "Cell \u001b[1;32mIn[84], line 1\u001b[0m\n\u001b[1;32m----> 1\u001b[0m \u001b[38;5;28;43mlen\u001b[39;49m\u001b[43m[\u001b[49m\u001b[43mx\u001b[49m\u001b[43m]\u001b[49m\n",
      "\u001b[1;31mTypeError\u001b[0m: 'builtin_function_or_method' object is not subscriptable"
     ]
    }
   ],
   "source": []
  },
  {
   "cell_type": "code",
   "execution_count": 81,
   "id": "668dadb2",
   "metadata": {},
   "outputs": [
    {
     "data": {
      "text/plain": [
       "3"
      ]
     },
     "execution_count": 81,
     "metadata": {},
     "output_type": "execute_result"
    }
   ],
   "source": [
    "len(x)"
   ]
  },
  {
   "cell_type": "code",
   "execution_count": 86,
   "id": "2dad0212",
   "metadata": {},
   "outputs": [
    {
     "name": "stdout",
     "output_type": "stream",
     "text": [
      "[6]\n"
     ]
    }
   ],
   "source": [
    "print (x)"
   ]
  },
  {
   "cell_type": "code",
   "execution_count": 89,
   "id": "e04846a0",
   "metadata": {},
   "outputs": [],
   "source": [
    " a = 4 + (8 ** 2) - 3 ** 2 % 1 \n"
   ]
  },
  {
   "cell_type": "code",
   "execution_count": 90,
   "id": "83ff808d",
   "metadata": {},
   "outputs": [
    {
     "name": "stdout",
     "output_type": "stream",
     "text": [
      "68\n"
     ]
    }
   ],
   "source": []
  },
  {
   "cell_type": "code",
   "execution_count": null,
   "id": "22028db0",
   "metadata": {},
   "outputs": [],
   "source": [
    "print(a)"
   ]
  },
  {
   "cell_type": "markdown",
   "id": "73db3a60",
   "metadata": {},
   "source": [
    "#### String methods\n",
    "- upper()\n",
    "- lower()\n",
    "- strip()\n",
    "- count(substring,begin,end)\n",
    "- https://docs.python.org/3.7/library/stdtypes.html#string-methods"
   ]
  },
  {
   "cell_type": "code",
   "execution_count": 93,
   "id": "b2fa831a",
   "metadata": {},
   "outputs": [
    {
     "data": {
      "text/plain": [
       "'I AM UPPER CASED'"
      ]
     },
     "execution_count": 93,
     "metadata": {},
     "output_type": "execute_result"
    }
   ],
   "source": [
    "#Upper\n",
    "\n",
    "small = \"i am upper cased\"\n",
    "small.upper()"
   ]
  },
  {
   "cell_type": "code",
   "execution_count": 92,
   "id": "348fb7e0",
   "metadata": {},
   "outputs": [
    {
     "data": {
      "text/plain": [
       "'I AM UPPER CASED'"
      ]
     },
     "execution_count": 92,
     "metadata": {},
     "output_type": "execute_result"
    }
   ],
   "source": [
    "small.upper()"
   ]
  },
  {
   "cell_type": "code",
   "execution_count": 98,
   "id": "0ced8207",
   "metadata": {},
   "outputs": [
    {
     "data": {
      "text/plain": [
       "' i am lower casedddd'"
      ]
     },
     "execution_count": 98,
     "metadata": {},
     "output_type": "execute_result"
    }
   ],
   "source": [
    "#Lower\n",
    "\n",
    "large = \" I AM LOWER CASEDddd\"\n",
    "large.lower()"
   ]
  },
  {
   "cell_type": "code",
   "execution_count": 99,
   "id": "7288f400",
   "metadata": {},
   "outputs": [
    {
     "name": "stdout",
     "output_type": "stream",
     "text": [
      " i am lower casedddd\n"
     ]
    }
   ],
   "source": [
    "print(large.lower())"
   ]
  },
  {
   "cell_type": "code",
   "execution_count": 102,
   "id": "4d7579ed",
   "metadata": {},
   "outputs": [
    {
     "name": "stdout",
     "output_type": "stream",
     "text": [
      "There is some space at the end          \n"
     ]
    }
   ],
   "source": [
    "# RStrip () Function Reomve all spaces from RIGHT side string\n",
    "some_sentence = \"There is some space at the end          \"\n",
    "print(some_sentence)"
   ]
  },
  {
   "cell_type": "code",
   "execution_count": 105,
   "id": "b24fb62a",
   "metadata": {},
   "outputs": [
    {
     "name": "stdout",
     "output_type": "stream",
     "text": [
      "There is some space at the end\n"
     ]
    },
    {
     "data": {
      "text/plain": [
       "40"
      ]
     },
     "execution_count": 105,
     "metadata": {},
     "output_type": "execute_result"
    }
   ],
   "source": [
    "print(some_sentence.rstrip())\n",
    "len(some_sentence)"
   ]
  },
  {
   "cell_type": "code",
   "execution_count": 107,
   "id": "0486fa7b",
   "metadata": {},
   "outputs": [
    {
     "name": "stdout",
     "output_type": "stream",
     "text": [
      "There is some space at the end          aaaaa\n",
      "There is some space at the end          \n"
     ]
    }
   ],
   "source": [
    "# RStrip () Function\n",
    "some_sentence = \"There is some space at the end          aaaaa\"\n",
    "print(some_sentence)\n",
    "print(some_sentence.rstrip('a'))"
   ]
  },
  {
   "cell_type": "code",
   "execution_count": 111,
   "id": "40f557f9",
   "metadata": {},
   "outputs": [
    {
     "name": "stdout",
     "output_type": "stream",
     "text": [
      "      Trim whitespaces      \n",
      "Trim whitespaces      \n"
     ]
    }
   ],
   "source": [
    "#LStrip Reomve all spaces from Leftside string\n",
    "spaces = \"      Trim whitespaces      \"\n",
    "print(spaces)\n",
    "print(spaces.lstrip())\n"
   ]
  },
  {
   "cell_type": "code",
   "execution_count": 125,
   "id": "674945dc",
   "metadata": {},
   "outputs": [
    {
     "name": "stdout",
     "output_type": "stream",
     "text": [
      "444########\n",
      "********444\n"
     ]
    }
   ],
   "source": [
    "num_with_char = \"********444########\"\n",
    "print(num_with_char.lstrip('*'))\n",
    "print(num_with_char.rstrip('#'))"
   ]
  },
  {
   "cell_type": "code",
   "execution_count": 116,
   "id": "22f611a9",
   "metadata": {},
   "outputs": [
    {
     "name": "stdout",
     "output_type": "stream",
     "text": [
      "444\n"
     ]
    }
   ],
   "source": [
    "num_with_char = \"********444########\"\n",
    "print(num_with_char.lstrip('*').rstrip('#'))"
   ]
  },
  {
   "cell_type": "code",
   "execution_count": 122,
   "id": "18cdc2fc",
   "metadata": {},
   "outputs": [
    {
     "name": "stdout",
     "output_type": "stream",
     "text": [
      "['Hello', 'World!']\n"
     ]
    }
   ],
   "source": [
    "a = \"Hello World!\"\n",
    "print(a.split(\" \"))"
   ]
  },
  {
   "cell_type": "code",
   "execution_count": 128,
   "id": "6588aa81",
   "metadata": {},
   "outputs": [
    {
     "name": "stdout",
     "output_type": "stream",
     "text": [
      "2\n",
      "1\n"
     ]
    }
   ],
   "source": [
    "#String Count\n",
    "\n",
    "string = 'I love breaking bad'\n",
    "print (string.count ('a'))\n",
    "print (string.count ('i',3))"
   ]
  },
  {
   "cell_type": "code",
   "execution_count": 129,
   "id": "9154caa8",
   "metadata": {},
   "outputs": [
    {
     "name": "stdout",
     "output_type": "stream",
     "text": [
      "1\n"
     ]
    }
   ],
   "source": [
    "print (string.count('i',2))"
   ]
  },
  {
   "cell_type": "code",
   "execution_count": 130,
   "id": "62621486",
   "metadata": {},
   "outputs": [
    {
     "name": "stdout",
     "output_type": "stream",
     "text": [
      "Data Analysis Pandas\n"
     ]
    }
   ],
   "source": [
    "# String Format\n",
    "\n",
    "A = \"Data\"\n",
    "B = \"Analysis\"\n",
    "C = \"Pandas\"\n",
    "print (A,B,C)"
   ]
  },
  {
   "cell_type": "code",
   "execution_count": 131,
   "id": "29b2f03f",
   "metadata": {},
   "outputs": [
    {
     "name": "stdout",
     "output_type": "stream",
     "text": [
      "Data Analysis using Pandas\n"
     ]
    }
   ],
   "source": [
    "print (A,B,'using',C)"
   ]
  },
  {
   "cell_type": "code",
   "execution_count": 134,
   "id": "bbdd3bce",
   "metadata": {},
   "outputs": [
    {
     "name": "stdout",
     "output_type": "stream",
     "text": [
      "Data Analysis using Pandas\n"
     ]
    }
   ],
   "source": [
    "print(\"{0} {1} using {2}\".format(A,B,C))"
   ]
  },
  {
   "cell_type": "code",
   "execution_count": 133,
   "id": "714d7b69",
   "metadata": {},
   "outputs": [
    {
     "name": "stdout",
     "output_type": "stream",
     "text": [
      "Help on class str in module builtins:\n",
      "\n",
      "class str(object)\n",
      " |  str(object='') -> str\n",
      " |  str(bytes_or_buffer[, encoding[, errors]]) -> str\n",
      " |  \n",
      " |  Create a new string object from the given object. If encoding or\n",
      " |  errors is specified, then the object must expose a data buffer\n",
      " |  that will be decoded using the given encoding and error handler.\n",
      " |  Otherwise, returns the result of object.__str__() (if defined)\n",
      " |  or repr(object).\n",
      " |  encoding defaults to sys.getdefaultencoding().\n",
      " |  errors defaults to 'strict'.\n",
      " |  \n",
      " |  Methods defined here:\n",
      " |  \n",
      " |  __add__(self, value, /)\n",
      " |      Return self+value.\n",
      " |  \n",
      " |  __contains__(self, key, /)\n",
      " |      Return key in self.\n",
      " |  \n",
      " |  __eq__(self, value, /)\n",
      " |      Return self==value.\n",
      " |  \n",
      " |  __format__(self, format_spec, /)\n",
      " |      Return a formatted version of the string as described by format_spec.\n",
      " |  \n",
      " |  __ge__(self, value, /)\n",
      " |      Return self>=value.\n",
      " |  \n",
      " |  __getattribute__(self, name, /)\n",
      " |      Return getattr(self, name).\n",
      " |  \n",
      " |  __getitem__(self, key, /)\n",
      " |      Return self[key].\n",
      " |  \n",
      " |  __getnewargs__(...)\n",
      " |  \n",
      " |  __gt__(self, value, /)\n",
      " |      Return self>value.\n",
      " |  \n",
      " |  __hash__(self, /)\n",
      " |      Return hash(self).\n",
      " |  \n",
      " |  __iter__(self, /)\n",
      " |      Implement iter(self).\n",
      " |  \n",
      " |  __le__(self, value, /)\n",
      " |      Return self<=value.\n",
      " |  \n",
      " |  __len__(self, /)\n",
      " |      Return len(self).\n",
      " |  \n",
      " |  __lt__(self, value, /)\n",
      " |      Return self<value.\n",
      " |  \n",
      " |  __mod__(self, value, /)\n",
      " |      Return self%value.\n",
      " |  \n",
      " |  __mul__(self, value, /)\n",
      " |      Return self*value.\n",
      " |  \n",
      " |  __ne__(self, value, /)\n",
      " |      Return self!=value.\n",
      " |  \n",
      " |  __repr__(self, /)\n",
      " |      Return repr(self).\n",
      " |  \n",
      " |  __rmod__(self, value, /)\n",
      " |      Return value%self.\n",
      " |  \n",
      " |  __rmul__(self, value, /)\n",
      " |      Return value*self.\n",
      " |  \n",
      " |  __sizeof__(self, /)\n",
      " |      Return the size of the string in memory, in bytes.\n",
      " |  \n",
      " |  __str__(self, /)\n",
      " |      Return str(self).\n",
      " |  \n",
      " |  capitalize(self, /)\n",
      " |      Return a capitalized version of the string.\n",
      " |      \n",
      " |      More specifically, make the first character have upper case and the rest lower\n",
      " |      case.\n",
      " |  \n",
      " |  casefold(self, /)\n",
      " |      Return a version of the string suitable for caseless comparisons.\n",
      " |  \n",
      " |  center(self, width, fillchar=' ', /)\n",
      " |      Return a centered string of length width.\n",
      " |      \n",
      " |      Padding is done using the specified fill character (default is a space).\n",
      " |  \n",
      " |  count(...)\n",
      " |      S.count(sub[, start[, end]]) -> int\n",
      " |      \n",
      " |      Return the number of non-overlapping occurrences of substring sub in\n",
      " |      string S[start:end].  Optional arguments start and end are\n",
      " |      interpreted as in slice notation.\n",
      " |  \n",
      " |  encode(self, /, encoding='utf-8', errors='strict')\n",
      " |      Encode the string using the codec registered for encoding.\n",
      " |      \n",
      " |      encoding\n",
      " |        The encoding in which to encode the string.\n",
      " |      errors\n",
      " |        The error handling scheme to use for encoding errors.\n",
      " |        The default is 'strict' meaning that encoding errors raise a\n",
      " |        UnicodeEncodeError.  Other possible values are 'ignore', 'replace' and\n",
      " |        'xmlcharrefreplace' as well as any other name registered with\n",
      " |        codecs.register_error that can handle UnicodeEncodeErrors.\n",
      " |  \n",
      " |  endswith(...)\n",
      " |      S.endswith(suffix[, start[, end]]) -> bool\n",
      " |      \n",
      " |      Return True if S ends with the specified suffix, False otherwise.\n",
      " |      With optional start, test S beginning at that position.\n",
      " |      With optional end, stop comparing S at that position.\n",
      " |      suffix can also be a tuple of strings to try.\n",
      " |  \n",
      " |  expandtabs(self, /, tabsize=8)\n",
      " |      Return a copy where all tab characters are expanded using spaces.\n",
      " |      \n",
      " |      If tabsize is not given, a tab size of 8 characters is assumed.\n",
      " |  \n",
      " |  find(...)\n",
      " |      S.find(sub[, start[, end]]) -> int\n",
      " |      \n",
      " |      Return the lowest index in S where substring sub is found,\n",
      " |      such that sub is contained within S[start:end].  Optional\n",
      " |      arguments start and end are interpreted as in slice notation.\n",
      " |      \n",
      " |      Return -1 on failure.\n",
      " |  \n",
      " |  format(...)\n",
      " |      S.format(*args, **kwargs) -> str\n",
      " |      \n",
      " |      Return a formatted version of S, using substitutions from args and kwargs.\n",
      " |      The substitutions are identified by braces ('{' and '}').\n",
      " |  \n",
      " |  format_map(...)\n",
      " |      S.format_map(mapping) -> str\n",
      " |      \n",
      " |      Return a formatted version of S, using substitutions from mapping.\n",
      " |      The substitutions are identified by braces ('{' and '}').\n",
      " |  \n",
      " |  index(...)\n",
      " |      S.index(sub[, start[, end]]) -> int\n",
      " |      \n",
      " |      Return the lowest index in S where substring sub is found,\n",
      " |      such that sub is contained within S[start:end].  Optional\n",
      " |      arguments start and end are interpreted as in slice notation.\n",
      " |      \n",
      " |      Raises ValueError when the substring is not found.\n",
      " |  \n",
      " |  isalnum(self, /)\n",
      " |      Return True if the string is an alpha-numeric string, False otherwise.\n",
      " |      \n",
      " |      A string is alpha-numeric if all characters in the string are alpha-numeric and\n",
      " |      there is at least one character in the string.\n",
      " |  \n",
      " |  isalpha(self, /)\n",
      " |      Return True if the string is an alphabetic string, False otherwise.\n",
      " |      \n",
      " |      A string is alphabetic if all characters in the string are alphabetic and there\n",
      " |      is at least one character in the string.\n",
      " |  \n",
      " |  isascii(self, /)\n",
      " |      Return True if all characters in the string are ASCII, False otherwise.\n",
      " |      \n",
      " |      ASCII characters have code points in the range U+0000-U+007F.\n",
      " |      Empty string is ASCII too.\n",
      " |  \n",
      " |  isdecimal(self, /)\n",
      " |      Return True if the string is a decimal string, False otherwise.\n",
      " |      \n",
      " |      A string is a decimal string if all characters in the string are decimal and\n",
      " |      there is at least one character in the string.\n",
      " |  \n",
      " |  isdigit(self, /)\n",
      " |      Return True if the string is a digit string, False otherwise.\n",
      " |      \n",
      " |      A string is a digit string if all characters in the string are digits and there\n",
      " |      is at least one character in the string.\n",
      " |  \n",
      " |  isidentifier(self, /)\n",
      " |      Return True if the string is a valid Python identifier, False otherwise.\n",
      " |      \n",
      " |      Call keyword.iskeyword(s) to test whether string s is a reserved identifier,\n",
      " |      such as \"def\" or \"class\".\n",
      " |  \n",
      " |  islower(self, /)\n",
      " |      Return True if the string is a lowercase string, False otherwise.\n",
      " |      \n",
      " |      A string is lowercase if all cased characters in the string are lowercase and\n",
      " |      there is at least one cased character in the string.\n",
      " |  \n",
      " |  isnumeric(self, /)\n",
      " |      Return True if the string is a numeric string, False otherwise.\n",
      " |      \n",
      " |      A string is numeric if all characters in the string are numeric and there is at\n",
      " |      least one character in the string.\n",
      " |  \n",
      " |  isprintable(self, /)\n",
      " |      Return True if the string is printable, False otherwise.\n",
      " |      \n",
      " |      A string is printable if all of its characters are considered printable in\n",
      " |      repr() or if it is empty.\n",
      " |  \n",
      " |  isspace(self, /)\n",
      " |      Return True if the string is a whitespace string, False otherwise.\n",
      " |      \n",
      " |      A string is whitespace if all characters in the string are whitespace and there\n",
      " |      is at least one character in the string.\n",
      " |  \n",
      " |  istitle(self, /)\n",
      " |      Return True if the string is a title-cased string, False otherwise.\n",
      " |      \n",
      " |      In a title-cased string, upper- and title-case characters may only\n",
      " |      follow uncased characters and lowercase characters only cased ones.\n",
      " |  \n",
      " |  isupper(self, /)\n",
      " |      Return True if the string is an uppercase string, False otherwise.\n",
      " |      \n",
      " |      A string is uppercase if all cased characters in the string are uppercase and\n",
      " |      there is at least one cased character in the string.\n",
      " |  \n",
      " |  join(self, iterable, /)\n",
      " |      Concatenate any number of strings.\n",
      " |      \n",
      " |      The string whose method is called is inserted in between each given string.\n",
      " |      The result is returned as a new string.\n",
      " |      \n",
      " |      Example: '.'.join(['ab', 'pq', 'rs']) -> 'ab.pq.rs'\n",
      " |  \n",
      " |  ljust(self, width, fillchar=' ', /)\n",
      " |      Return a left-justified string of length width.\n",
      " |      \n",
      " |      Padding is done using the specified fill character (default is a space).\n",
      " |  \n",
      " |  lower(self, /)\n",
      " |      Return a copy of the string converted to lowercase.\n",
      " |  \n",
      " |  lstrip(self, chars=None, /)\n",
      " |      Return a copy of the string with leading whitespace removed.\n",
      " |      \n",
      " |      If chars is given and not None, remove characters in chars instead.\n",
      " |  \n",
      " |  partition(self, sep, /)\n",
      " |      Partition the string into three parts using the given separator.\n",
      " |      \n",
      " |      This will search for the separator in the string.  If the separator is found,\n",
      " |      returns a 3-tuple containing the part before the separator, the separator\n",
      " |      itself, and the part after it.\n",
      " |      \n",
      " |      If the separator is not found, returns a 3-tuple containing the original string\n",
      " |      and two empty strings.\n",
      " |  \n",
      " |  removeprefix(self, prefix, /)\n",
      " |      Return a str with the given prefix string removed if present.\n",
      " |      \n",
      " |      If the string starts with the prefix string, return string[len(prefix):].\n",
      " |      Otherwise, return a copy of the original string.\n",
      " |  \n",
      " |  removesuffix(self, suffix, /)\n",
      " |      Return a str with the given suffix string removed if present.\n",
      " |      \n",
      " |      If the string ends with the suffix string and that suffix is not empty,\n",
      " |      return string[:-len(suffix)]. Otherwise, return a copy of the original\n",
      " |      string.\n",
      " |  \n",
      " |  replace(self, old, new, count=-1, /)\n",
      " |      Return a copy with all occurrences of substring old replaced by new.\n",
      " |      \n",
      " |        count\n",
      " |          Maximum number of occurrences to replace.\n",
      " |          -1 (the default value) means replace all occurrences.\n",
      " |      \n",
      " |      If the optional argument count is given, only the first count occurrences are\n",
      " |      replaced.\n",
      " |  \n",
      " |  rfind(...)\n",
      " |      S.rfind(sub[, start[, end]]) -> int\n",
      " |      \n",
      " |      Return the highest index in S where substring sub is found,\n",
      " |      such that sub is contained within S[start:end].  Optional\n",
      " |      arguments start and end are interpreted as in slice notation.\n",
      " |      \n",
      " |      Return -1 on failure.\n",
      " |  \n",
      " |  rindex(...)\n",
      " |      S.rindex(sub[, start[, end]]) -> int\n",
      " |      \n",
      " |      Return the highest index in S where substring sub is found,\n",
      " |      such that sub is contained within S[start:end].  Optional\n",
      " |      arguments start and end are interpreted as in slice notation.\n",
      " |      \n",
      " |      Raises ValueError when the substring is not found.\n",
      " |  \n",
      " |  rjust(self, width, fillchar=' ', /)\n",
      " |      Return a right-justified string of length width.\n",
      " |      \n",
      " |      Padding is done using the specified fill character (default is a space).\n",
      " |  \n",
      " |  rpartition(self, sep, /)\n",
      " |      Partition the string into three parts using the given separator.\n",
      " |      \n",
      " |      This will search for the separator in the string, starting at the end. If\n",
      " |      the separator is found, returns a 3-tuple containing the part before the\n",
      " |      separator, the separator itself, and the part after it.\n",
      " |      \n",
      " |      If the separator is not found, returns a 3-tuple containing two empty strings\n",
      " |      and the original string.\n",
      " |  \n",
      " |  rsplit(self, /, sep=None, maxsplit=-1)\n",
      " |      Return a list of the words in the string, using sep as the delimiter string.\n",
      " |      \n",
      " |        sep\n",
      " |          The delimiter according which to split the string.\n",
      " |          None (the default value) means split according to any whitespace,\n",
      " |          and discard empty strings from the result.\n",
      " |        maxsplit\n",
      " |          Maximum number of splits to do.\n",
      " |          -1 (the default value) means no limit.\n",
      " |      \n",
      " |      Splits are done starting at the end of the string and working to the front.\n",
      " |  \n",
      " |  rstrip(self, chars=None, /)\n",
      " |      Return a copy of the string with trailing whitespace removed.\n",
      " |      \n",
      " |      If chars is given and not None, remove characters in chars instead.\n",
      " |  \n",
      " |  split(self, /, sep=None, maxsplit=-1)\n",
      " |      Return a list of the words in the string, using sep as the delimiter string.\n",
      " |      \n",
      " |      sep\n",
      " |        The delimiter according which to split the string.\n",
      " |        None (the default value) means split according to any whitespace,\n",
      " |        and discard empty strings from the result.\n",
      " |      maxsplit\n",
      " |        Maximum number of splits to do.\n",
      " |        -1 (the default value) means no limit.\n",
      " |  \n",
      " |  splitlines(self, /, keepends=False)\n",
      " |      Return a list of the lines in the string, breaking at line boundaries.\n",
      " |      \n",
      " |      Line breaks are not included in the resulting list unless keepends is given and\n",
      " |      true.\n",
      " |  \n",
      " |  startswith(...)\n",
      " |      S.startswith(prefix[, start[, end]]) -> bool\n",
      " |      \n",
      " |      Return True if S starts with the specified prefix, False otherwise.\n",
      " |      With optional start, test S beginning at that position.\n",
      " |      With optional end, stop comparing S at that position.\n",
      " |      prefix can also be a tuple of strings to try.\n",
      " |  \n",
      " |  strip(self, chars=None, /)\n",
      " |      Return a copy of the string with leading and trailing whitespace removed.\n",
      " |      \n",
      " |      If chars is given and not None, remove characters in chars instead.\n",
      " |  \n",
      " |  swapcase(self, /)\n",
      " |      Convert uppercase characters to lowercase and lowercase characters to uppercase.\n",
      " |  \n",
      " |  title(self, /)\n",
      " |      Return a version of the string where each word is titlecased.\n",
      " |      \n",
      " |      More specifically, words start with uppercased characters and all remaining\n",
      " |      cased characters have lower case.\n",
      " |  \n",
      " |  translate(self, table, /)\n",
      " |      Replace each character in the string using the given translation table.\n",
      " |      \n",
      " |        table\n",
      " |          Translation table, which must be a mapping of Unicode ordinals to\n",
      " |          Unicode ordinals, strings, or None.\n",
      " |      \n",
      " |      The table must implement lookup/indexing via __getitem__, for instance a\n",
      " |      dictionary or list.  If this operation raises LookupError, the character is\n",
      " |      left untouched.  Characters mapped to None are deleted.\n",
      " |  \n",
      " |  upper(self, /)\n",
      " |      Return a copy of the string converted to uppercase.\n",
      " |  \n",
      " |  zfill(self, width, /)\n",
      " |      Pad a numeric string with zeros on the left, to fill a field of the given width.\n",
      " |      \n",
      " |      The string is never truncated.\n",
      " |  \n",
      " |  ----------------------------------------------------------------------\n",
      " |  Static methods defined here:\n",
      " |  \n",
      " |  __new__(*args, **kwargs) from builtins.type\n",
      " |      Create and return a new object.  See help(type) for accurate signature.\n",
      " |  \n",
      " |  maketrans(...)\n",
      " |      Return a translation table usable for str.translate().\n",
      " |      \n",
      " |      If there is only one argument, it must be a dictionary mapping Unicode\n",
      " |      ordinals (integers) or characters to Unicode ordinals, strings or None.\n",
      " |      Character keys will be then converted to ordinals.\n",
      " |      If there are two arguments, they must be strings of equal length, and\n",
      " |      in the resulting dictionary, each character in x will be mapped to the\n",
      " |      character at the same position in y. If there is a third argument, it\n",
      " |      must be a string, whose characters will be mapped to None in the result.\n",
      "\n"
     ]
    }
   ],
   "source": [
    "help(str)"
   ]
  },
  {
   "cell_type": "code",
   "execution_count": null,
   "id": "d31e87f0",
   "metadata": {},
   "outputs": [],
   "source": []
  },
  {
   "cell_type": "markdown",
   "id": "5c74f44a",
   "metadata": {},
   "source": [
    "# Data Structure in python"
   ]
  },
  {
   "cell_type": "code",
   "execution_count": 1,
   "id": "cb996af5",
   "metadata": {},
   "outputs": [],
   "source": [
    "#We would ask the user for his name and mobile number\n",
    "name= input(\"What's your name \")\n",
    "number= input(\"What's your number \")"
   ]
  },
  {
   "cell_type": "code",
   "execution_count": 2,
   "id": "e71b9154",
   "metadata": {},
   "outputs": [
    {
     "name": "stdout",
     "output_type": "stream",
     "text": [
      "Dinesh 777\n"
     ]
    }
   ],
   "source": [
    "print(name,number)"
   ]
  },
  {
   "cell_type": "code",
   "execution_count": 5,
   "id": "5a264ef2",
   "metadata": {},
   "outputs": [
    {
     "name": "stdout",
     "output_type": "stream",
     "text": [
      "862\n"
     ]
    }
   ],
   "source": [
    "# randomly assign the value\n",
    "\n",
    "from random import seed\n",
    "from random import randint\n",
    "\n",
    "# generate a three digit random integers for user id\n",
    "value = randint(100, 999)\n",
    "print(value)"
   ]
  },
  {
   "cell_type": "code",
   "execution_count": 7,
   "id": "7417a610",
   "metadata": {},
   "outputs": [
    {
     "name": "stdout",
     "output_type": "stream",
     "text": [
      "Dinesh 777 862\n"
     ]
    }
   ],
   "source": [
    "print(name,number,value)\n",
    "# Last genrated value will print)"
   ]
  },
  {
   "cell_type": "code",
   "execution_count": 8,
   "id": "5accbb71",
   "metadata": {},
   "outputs": [
    {
     "name": "stdout",
     "output_type": "stream",
     "text": [
      "597\n"
     ]
    }
   ],
   "source": [
    "# randomly assign the value\n",
    "\n",
    "from random import seed\n",
    "from random import randint\n",
    "\n",
    "# generate a three digit random integers for user id\n",
    "value = randint(100, 999)\n",
    "print(value)"
   ]
  },
  {
   "cell_type": "code",
   "execution_count": 9,
   "id": "18e6a336",
   "metadata": {},
   "outputs": [
    {
     "name": "stdout",
     "output_type": "stream",
     "text": [
      "Dinesh 777 597\n"
     ]
    }
   ],
   "source": [
    "print(name,number,value)\n"
   ]
  },
  {
   "cell_type": "code",
   "execution_count": 10,
   "id": "91b6968e",
   "metadata": {},
   "outputs": [],
   "source": [
    "list1 = [name,number,value]"
   ]
  },
  {
   "cell_type": "code",
   "execution_count": 11,
   "id": "c9b9c110",
   "metadata": {},
   "outputs": [
    {
     "data": {
      "text/plain": [
       "['Dinesh', '777', 597]"
      ]
     },
     "execution_count": 11,
     "metadata": {},
     "output_type": "execute_result"
    }
   ],
   "source": [
    "list1"
   ]
  },
  {
   "cell_type": "code",
   "execution_count": null,
   "id": "02b0342c",
   "metadata": {},
   "outputs": [],
   "source": [
    "#  List   "
   ]
  },
  {
   "cell_type": "code",
   "execution_count": 16,
   "id": "b7b73110",
   "metadata": {},
   "outputs": [
    {
     "data": {
      "text/plain": [
       "['India', 11, 'feb', 2024, 'Bengaluru']"
      ]
     },
     "execution_count": 16,
     "metadata": {},
     "output_type": "execute_result"
    }
   ],
   "source": [
    "L = [\"India\",11,\"feb\",2024,\"Bengaluru\"] # Genaral List with value charector and numbers\n",
    "L"
   ]
  },
  {
   "cell_type": "code",
   "execution_count": 19,
   "id": "7072b3a7",
   "metadata": {},
   "outputs": [
    {
     "data": {
      "text/plain": [
       "['DELL EMC OFFICE',\n",
       " ' Mahadevapura',\n",
       " [['India', 11, 'feb', 2024, 'Bengaluru']],\n",
       " [2023, 2024],\n",
       " 45]"
      ]
     },
     "execution_count": 19,
     "metadata": {},
     "output_type": "execute_result"
    }
   ],
   "source": [
    "# NestedList\n",
    "\n",
    "nestlist = [\"DELL EMC OFFICE\", \" Mahadevapura\",[L],[2023,2024],45]\n",
    "nestlist"
   ]
  },
  {
   "cell_type": "code",
   "execution_count": 20,
   "id": "cb35083a",
   "metadata": {},
   "outputs": [
    {
     "data": {
      "text/plain": [
       "5"
      ]
     },
     "execution_count": 20,
     "metadata": {},
     "output_type": "execute_result"
    }
   ],
   "source": [
    "len(nestlist)"
   ]
  },
  {
   "cell_type": "code",
   "execution_count": 28,
   "id": "4d803bdc",
   "metadata": {},
   "outputs": [
    {
     "data": {
      "text/plain": [
       "' Mahadevapura'"
      ]
     },
     "execution_count": 28,
     "metadata": {},
     "output_type": "execute_result"
    }
   ],
   "source": [
    "nestlist[1]"
   ]
  },
  {
   "cell_type": "code",
   "execution_count": 32,
   "id": "e9df40d9",
   "metadata": {},
   "outputs": [
    {
     "data": {
      "text/plain": [
       "[['India', 11, 'feb', 2024, 'Bengaluru']]"
      ]
     },
     "execution_count": 32,
     "metadata": {},
     "output_type": "execute_result"
    }
   ],
   "source": [
    "nestlist[2]"
   ]
  },
  {
   "cell_type": "code",
   "execution_count": 33,
   "id": "4b967730",
   "metadata": {},
   "outputs": [
    {
     "data": {
      "text/plain": [
       "45"
      ]
     },
     "execution_count": 33,
     "metadata": {},
     "output_type": "execute_result"
    }
   ],
   "source": [
    "nestlist[4]"
   ]
  },
  {
   "cell_type": "code",
   "execution_count": 34,
   "id": "05deb51a",
   "metadata": {},
   "outputs": [
    {
     "data": {
      "text/plain": [
       "45"
      ]
     },
     "execution_count": 34,
     "metadata": {},
     "output_type": "execute_result"
    }
   ],
   "source": [
    "nestlist[-1]"
   ]
  },
  {
   "cell_type": "code",
   "execution_count": 35,
   "id": "00b89121",
   "metadata": {},
   "outputs": [
    {
     "data": {
      "text/plain": [
       "['DELL EMC OFFICE',\n",
       " ' Mahadevapura',\n",
       " [['India', 11, 'feb', 2024, 'Bengaluru']],\n",
       " [2023, 2024],\n",
       " 45]"
      ]
     },
     "execution_count": 35,
     "metadata": {},
     "output_type": "execute_result"
    }
   ],
   "source": [
    "nestlist"
   ]
  },
  {
   "cell_type": "code",
   "execution_count": 36,
   "id": "c50d4519",
   "metadata": {},
   "outputs": [
    {
     "data": {
      "text/plain": [
       "45"
      ]
     },
     "execution_count": 36,
     "metadata": {},
     "output_type": "execute_result"
    }
   ],
   "source": [
    "nestlist[-1]"
   ]
  },
  {
   "cell_type": "code",
   "execution_count": 37,
   "id": "b4f145e0",
   "metadata": {},
   "outputs": [
    {
     "data": {
      "text/plain": [
       "[2023, 2024]"
      ]
     },
     "execution_count": 37,
     "metadata": {},
     "output_type": "execute_result"
    }
   ],
   "source": [
    "nestlist[-2]"
   ]
  },
  {
   "cell_type": "code",
   "execution_count": 40,
   "id": "050a3af6",
   "metadata": {},
   "outputs": [
    {
     "data": {
      "text/plain": [
       "[['India', 11, 'feb', 2024, 'Bengaluru']]"
      ]
     },
     "execution_count": 40,
     "metadata": {},
     "output_type": "execute_result"
    }
   ],
   "source": [
    "nestlist[-3]"
   ]
  },
  {
   "cell_type": "code",
   "execution_count": 43,
   "id": "9914f6b5",
   "metadata": {},
   "outputs": [
    {
     "data": {
      "text/plain": [
       "[2023, 2024]"
      ]
     },
     "execution_count": 43,
     "metadata": {},
     "output_type": "execute_result"
    }
   ],
   "source": [
    "nestlist[-2]"
   ]
  },
  {
   "cell_type": "code",
   "execution_count": 44,
   "id": "2da4a9a2",
   "metadata": {},
   "outputs": [
    {
     "data": {
      "text/plain": [
       "2023"
      ]
     },
     "execution_count": 44,
     "metadata": {},
     "output_type": "execute_result"
    }
   ],
   "source": [
    "nestlist[-2][0]"
   ]
  },
  {
   "cell_type": "code",
   "execution_count": 47,
   "id": "89000fa0",
   "metadata": {},
   "outputs": [
    {
     "ename": "IndexError",
     "evalue": "list index out of range",
     "output_type": "error",
     "traceback": [
      "\u001b[1;31m---------------------------------------------------------------------------\u001b[0m",
      "\u001b[1;31mIndexError\u001b[0m                                Traceback (most recent call last)",
      "Cell \u001b[1;32mIn[47], line 1\u001b[0m\n\u001b[1;32m----> 1\u001b[0m \u001b[43mnestlist\u001b[49m\u001b[43m[\u001b[49m\u001b[38;5;241;43m-\u001b[39;49m\u001b[38;5;241;43m3\u001b[39;49m\u001b[43m]\u001b[49m\u001b[43m[\u001b[49m\u001b[38;5;241;43m1\u001b[39;49m\u001b[43m]\u001b[49m\n",
      "\u001b[1;31mIndexError\u001b[0m: list index out of range"
     ]
    }
   ],
   "source": [
    "nestlist[-3][1]"
   ]
  },
  {
   "cell_type": "code",
   "execution_count": 48,
   "id": "90ca0a90",
   "metadata": {},
   "outputs": [
    {
     "data": {
      "text/plain": [
       "['India', 11, 'feb', 2024, 'Bengaluru']"
      ]
     },
     "execution_count": 48,
     "metadata": {},
     "output_type": "execute_result"
    }
   ],
   "source": [
    "nestlist[-3][0]"
   ]
  },
  {
   "cell_type": "code",
   "execution_count": 49,
   "id": "06e65002",
   "metadata": {},
   "outputs": [
    {
     "data": {
      "text/plain": [
       "['DELL EMC OFFICE',\n",
       " ' Mahadevapura',\n",
       " [['India', 11, 'feb', 2024, 'Bengaluru']],\n",
       " [2023, 2024],\n",
       " 45]"
      ]
     },
     "execution_count": 49,
     "metadata": {},
     "output_type": "execute_result"
    }
   ],
   "source": [
    "nestlist"
   ]
  },
  {
   "cell_type": "code",
   "execution_count": 50,
   "id": "ff963682",
   "metadata": {},
   "outputs": [
    {
     "data": {
      "text/plain": [
       "[' Mahadevapura', [['India', 11, 'feb', 2024, 'Bengaluru']]]"
      ]
     },
     "execution_count": 50,
     "metadata": {},
     "output_type": "execute_result"
    }
   ],
   "source": [
    "nestlist[1:3]"
   ]
  },
  {
   "cell_type": "code",
   "execution_count": 51,
   "id": "4311e4cd",
   "metadata": {},
   "outputs": [
    {
     "data": {
      "text/plain": [
       "['DELL EMC OFFICE', ' Mahadevapura', [['India', 11, 'feb', 2024, 'Bengaluru']]]"
      ]
     },
     "execution_count": 51,
     "metadata": {},
     "output_type": "execute_result"
    }
   ],
   "source": [
    "nestlist[0:3]"
   ]
  },
  {
   "cell_type": "code",
   "execution_count": 53,
   "id": "31f95fa2",
   "metadata": {},
   "outputs": [
    {
     "data": {
      "text/plain": [
       "'Chemistry'"
      ]
     },
     "execution_count": 53,
     "metadata": {},
     "output_type": "execute_result"
    }
   ],
   "source": [
    "# Indexing example \n",
    "L = [\"Chemistry\", \"Biology\", [1989, 2004], (\"Oreily\", \"Pearson\")]\n",
    "L[0]\n",
    "\n"
   ]
  },
  {
   "cell_type": "code",
   "execution_count": 54,
   "id": "7cba9caa",
   "metadata": {},
   "outputs": [
    {
     "data": {
      "text/plain": [
       "['Chemistry', 'Biology', [1989, 2004]]"
      ]
     },
     "execution_count": 54,
     "metadata": {},
     "output_type": "execute_result"
    }
   ],
   "source": [
    "# Slicing\n",
    "L[0:3]"
   ]
  },
  {
   "cell_type": "code",
   "execution_count": 55,
   "id": "d8ca2bdf",
   "metadata": {},
   "outputs": [
    {
     "data": {
      "text/plain": [
       "[1, 4, 9, 16, 25]"
      ]
     },
     "execution_count": 55,
     "metadata": {},
     "output_type": "execute_result"
    }
   ],
   "source": [
    "squares = [1, 4, 9, 16, 25]\n",
    "squares"
   ]
  },
  {
   "cell_type": "code",
   "execution_count": 57,
   "id": "e229a36d",
   "metadata": {},
   "outputs": [
    {
     "data": {
      "text/plain": [
       "1"
      ]
     },
     "execution_count": 57,
     "metadata": {},
     "output_type": "execute_result"
    }
   ],
   "source": [
    "squares[0]\n"
   ]
  },
  {
   "cell_type": "code",
   "execution_count": 58,
   "id": "30100cdd",
   "metadata": {},
   "outputs": [
    {
     "data": {
      "text/plain": [
       "25"
      ]
     },
     "execution_count": 58,
     "metadata": {},
     "output_type": "execute_result"
    }
   ],
   "source": [
    "squares[-1]\n"
   ]
  },
  {
   "cell_type": "code",
   "execution_count": 59,
   "id": "8e3afa62",
   "metadata": {},
   "outputs": [
    {
     "data": {
      "text/plain": [
       "9"
      ]
     },
     "execution_count": 59,
     "metadata": {},
     "output_type": "execute_result"
    }
   ],
   "source": [
    "squares[-3]"
   ]
  },
  {
   "cell_type": "code",
   "execution_count": 60,
   "id": "24c74a44",
   "metadata": {},
   "outputs": [
    {
     "data": {
      "text/plain": [
       "[9, 16, 25]"
      ]
     },
     "execution_count": 60,
     "metadata": {},
     "output_type": "execute_result"
    }
   ],
   "source": [
    "squares[-3:]"
   ]
  },
  {
   "cell_type": "code",
   "execution_count": 61,
   "id": "ed39d33c",
   "metadata": {},
   "outputs": [
    {
     "data": {
      "text/plain": [
       "[1, 4, 9, 16, 25, 36, 49, 64, 81, 100]"
      ]
     },
     "execution_count": 61,
     "metadata": {},
     "output_type": "execute_result"
    }
   ],
   "source": [
    "squares + [36, 49, 64, 81, 100]"
   ]
  },
  {
   "cell_type": "code",
   "execution_count": 66,
   "id": "2dbacc89",
   "metadata": {},
   "outputs": [
    {
     "data": {
      "text/plain": [
       "64"
      ]
     },
     "execution_count": 66,
     "metadata": {},
     "output_type": "execute_result"
    }
   ],
   "source": [
    "cubes = [1, 8, 27, 65, 125]  # something's wrong here\n",
    "4 ** 3  # the cube of 4 is 64, not 65!\n",
    "\n"
   ]
  },
  {
   "cell_type": "code",
   "execution_count": 67,
   "id": "e037942d",
   "metadata": {},
   "outputs": [
    {
     "data": {
      "text/plain": [
       "[1, 8, 27, 64, 125]"
      ]
     },
     "execution_count": 67,
     "metadata": {},
     "output_type": "execute_result"
    }
   ],
   "source": [
    "cubes[3] = 64  # replace the wrong value\n",
    "cubes"
   ]
  },
  {
   "cell_type": "code",
   "execution_count": 71,
   "id": "01fb83a6",
   "metadata": {},
   "outputs": [
    {
     "name": "stdout",
     "output_type": "stream",
     "text": [
      "['Chemistry', 'Biology', [1989, 2004], ('Oreily', 'Pearson')]\n"
     ]
    }
   ],
   "source": [
    "#Membership in Lists\n",
    "L\n",
    "print(L)\n",
    "L1 = [1,2,3,4,5,6,7,8,9,0]"
   ]
  },
  {
   "cell_type": "code",
   "execution_count": 72,
   "id": "682e03ab",
   "metadata": {},
   "outputs": [
    {
     "data": {
      "text/plain": [
       "[1, 2, 3, 4, 5, 6, 7, 8, 9, 0]"
      ]
     },
     "execution_count": 72,
     "metadata": {},
     "output_type": "execute_result"
    }
   ],
   "source": [
    "L1"
   ]
  },
  {
   "cell_type": "code",
   "execution_count": 73,
   "id": "629243f4",
   "metadata": {},
   "outputs": [
    {
     "name": "stdout",
     "output_type": "stream",
     "text": [
      "True\n"
     ]
    }
   ],
   "source": [
    "print(1 in L1)"
   ]
  },
  {
   "cell_type": "code",
   "execution_count": 74,
   "id": "cd052f3f",
   "metadata": {},
   "outputs": [
    {
     "name": "stdout",
     "output_type": "stream",
     "text": [
      "False\n"
     ]
    }
   ],
   "source": [
    "print(11 in L1)"
   ]
  },
  {
   "cell_type": "code",
   "execution_count": 75,
   "id": "dd2145f3",
   "metadata": {},
   "outputs": [
    {
     "data": {
      "text/plain": [
       "[1, 2, 3, 4, 5, 6, 7, 8, 9, 0, 10, 11, 12]"
      ]
     },
     "execution_count": 75,
     "metadata": {},
     "output_type": "execute_result"
    }
   ],
   "source": [
    "# List Concatination\n",
    "\n",
    "newlist= L1+ [10,11,12]\n",
    "newlist"
   ]
  },
  {
   "cell_type": "code",
   "execution_count": 77,
   "id": "bf1efe23",
   "metadata": {},
   "outputs": [
    {
     "name": "stdout",
     "output_type": "stream",
     "text": [
      "True\n"
     ]
    }
   ],
   "source": [
    "print(11 in newlist)"
   ]
  },
  {
   "cell_type": "code",
   "execution_count": 78,
   "id": "274cb4d2",
   "metadata": {},
   "outputs": [
    {
     "data": {
      "text/plain": [
       "['Chemistry', 'Biology', [1989, 2004], ('Oreily', 'Pearson')]"
      ]
     },
     "execution_count": 78,
     "metadata": {},
     "output_type": "execute_result"
    }
   ],
   "source": [
    "L"
   ]
  },
  {
   "cell_type": "code",
   "execution_count": 79,
   "id": "d8a342d1",
   "metadata": {},
   "outputs": [
    {
     "data": {
      "text/plain": [
       "[1989, 2004]"
      ]
     },
     "execution_count": 79,
     "metadata": {},
     "output_type": "execute_result"
    }
   ],
   "source": [
    "# Replacing Values in List\n",
    "# Replace the \"Biology \"with \"Physics\"\n",
    "\n",
    "L[2]"
   ]
  },
  {
   "cell_type": "code",
   "execution_count": 80,
   "id": "9b854cef",
   "metadata": {},
   "outputs": [
    {
     "data": {
      "text/plain": [
       "'Biology'"
      ]
     },
     "execution_count": 80,
     "metadata": {},
     "output_type": "execute_result"
    }
   ],
   "source": [
    "L[1]"
   ]
  },
  {
   "cell_type": "code",
   "execution_count": 81,
   "id": "8aa670fc",
   "metadata": {},
   "outputs": [
    {
     "data": {
      "text/plain": [
       "['Chemistry', 'Pshysics', [1989, 2004], ('Oreily', 'Pearson')]"
      ]
     },
     "execution_count": 81,
     "metadata": {},
     "output_type": "execute_result"
    }
   ],
   "source": [
    "L[1]= \"Pshysics\"\n",
    "L"
   ]
  },
  {
   "cell_type": "markdown",
   "id": "a35f59b4",
   "metadata": {},
   "source": [
    "#### You can check the members of a list by using the \"in\" keyword. The membership check operation returns a boolean output. Lists are mutable, which means the elements of a list can be changed. Take a look at the video below:"
   ]
  },
  {
   "cell_type": "code",
   "execution_count": 82,
   "id": "a4af7613",
   "metadata": {},
   "outputs": [
    {
     "data": {
      "text/plain": [
       "[1, 2, 3, 4, 5, 6, 7, 8, 9, 0]"
      ]
     },
     "execution_count": 82,
     "metadata": {},
     "output_type": "execute_result"
    }
   ],
   "source": [
    "L1"
   ]
  },
  {
   "cell_type": "code",
   "execution_count": 84,
   "id": "a32b754e",
   "metadata": {},
   "outputs": [
    {
     "data": {
      "text/plain": [
       "[1, 2, 3, 4, 5, 6, 7, 8, 9, 0, 10, 11, 12]"
      ]
     },
     "execution_count": 84,
     "metadata": {},
     "output_type": "execute_result"
    }
   ],
   "source": [
    "newlist"
   ]
  },
  {
   "cell_type": "code",
   "execution_count": 85,
   "id": "be810274",
   "metadata": {},
   "outputs": [
    {
     "data": {
      "text/plain": [
       "[1, 2, 3, 4, 5, 6, 7, 8, 9, 0]"
      ]
     },
     "execution_count": 85,
     "metadata": {},
     "output_type": "execute_result"
    }
   ],
   "source": [
    "L1"
   ]
  },
  {
   "cell_type": "code",
   "execution_count": 86,
   "id": "c1b33043",
   "metadata": {},
   "outputs": [
    {
     "data": {
      "text/plain": [
       "['Chemistry', 'Pshysics', [1989, 2004], ('Oreily', 'Pearson')]"
      ]
     },
     "execution_count": 86,
     "metadata": {},
     "output_type": "execute_result"
    }
   ],
   "source": [
    "L"
   ]
  },
  {
   "cell_type": "code",
   "execution_count": 88,
   "id": "40534af1",
   "metadata": {},
   "outputs": [
    {
     "data": {
      "text/plain": [
       "['Chemistry', 'Pshysics', [1989, 2004], ('Oreily', 'Pearson'), 5, 7]"
      ]
     },
     "execution_count": 88,
     "metadata": {},
     "output_type": "execute_result"
    }
   ],
   "source": [
    "# extend([])\n",
    "#List Extend without changing values in exitsing List\n",
    "L\n",
    "newL=L+[5,7]\n",
    "newL"
   ]
  },
  {
   "cell_type": "code",
   "execution_count": 89,
   "id": "da2c730e",
   "metadata": {},
   "outputs": [
    {
     "data": {
      "text/plain": [
       "['Chemistry', 'Pshysics', [1989, 2004], ('Oreily', 'Pearson')]"
      ]
     },
     "execution_count": 89,
     "metadata": {},
     "output_type": "execute_result"
    }
   ],
   "source": [
    "L\n"
   ]
  },
  {
   "cell_type": "code",
   "execution_count": 90,
   "id": "0cc5f498",
   "metadata": {},
   "outputs": [
    {
     "data": {
      "text/plain": [
       "['Chemistry', 'Pshysics', [1989, 2004], ('Oreily', 'Pearson'), 10, 30]"
      ]
     },
     "execution_count": 90,
     "metadata": {},
     "output_type": "execute_result"
    }
   ],
   "source": [
    "# extend([]) - Add new member as individual eliment list\n",
    "#List Extend \"with\" changing values in exitsing List\n",
    "L.extend([10,30])\n",
    "L"
   ]
  },
  {
   "cell_type": "code",
   "execution_count": 92,
   "id": "3c9a8e82",
   "metadata": {},
   "outputs": [
    {
     "data": {
      "text/plain": [
       "['Chemistry', 'Pshysics', [1989, 2004], ('Oreily', 'Pearson'), 10, 30]"
      ]
     },
     "execution_count": 92,
     "metadata": {},
     "output_type": "execute_result"
    }
   ],
   "source": [
    "L # List values extened here"
   ]
  },
  {
   "cell_type": "code",
   "execution_count": 93,
   "id": "dac3c748",
   "metadata": {},
   "outputs": [
    {
     "data": {
      "text/plain": [
       "['Chemistry', 'Pshysics', [1989, 2004], ('Oreily', 'Pearson'), 10, 30, [10.3]]"
      ]
     },
     "execution_count": 93,
     "metadata": {},
     "output_type": "execute_result"
    }
   ],
   "source": [
    "#append([]) it is similar to extend. it takes the \"whole list and as an EXTRA ELIMENT to the LIST\"\n",
    "# extend([]) - Add new member as individual eliment list, But Append Add New list \n",
    "L.append ([10.30])\n",
    "L"
   ]
  },
  {
   "cell_type": "code",
   "execution_count": 96,
   "id": "7aa82114",
   "metadata": {},
   "outputs": [
    {
     "data": {
      "text/plain": [
       "['Chemistry',\n",
       " 'Pshysics',\n",
       " [1989, 2004],\n",
       " ('Oreily', 'Pearson'),\n",
       " 10,\n",
       " 30,\n",
       " [10.3],\n",
       " [125],\n",
       " 125,\n",
       " 25]"
      ]
     },
     "execution_count": 96,
     "metadata": {},
     "output_type": "execute_result"
    }
   ],
   "source": [
    "L.append (25)\n",
    "L"
   ]
  },
  {
   "cell_type": "code",
   "execution_count": 97,
   "id": "e197f9a1",
   "metadata": {},
   "outputs": [],
   "source": [
    "# delete Command\n",
    "del L[-1]"
   ]
  },
  {
   "cell_type": "code",
   "execution_count": 98,
   "id": "1bf0c5f8",
   "metadata": {},
   "outputs": [
    {
     "data": {
      "text/plain": [
       "['Chemistry',\n",
       " 'Pshysics',\n",
       " [1989, 2004],\n",
       " ('Oreily', 'Pearson'),\n",
       " 10,\n",
       " 30,\n",
       " [10.3],\n",
       " [125],\n",
       " 125]"
      ]
     },
     "execution_count": 98,
     "metadata": {},
     "output_type": "execute_result"
    }
   ],
   "source": [
    "L"
   ]
  },
  {
   "cell_type": "code",
   "execution_count": 99,
   "id": "50836e8f",
   "metadata": {},
   "outputs": [],
   "source": [
    "del L[-2]"
   ]
  },
  {
   "cell_type": "code",
   "execution_count": 100,
   "id": "aee8ceeb",
   "metadata": {},
   "outputs": [
    {
     "data": {
      "text/plain": [
       "['Chemistry',\n",
       " 'Pshysics',\n",
       " [1989, 2004],\n",
       " ('Oreily', 'Pearson'),\n",
       " 10,\n",
       " 30,\n",
       " [10.3],\n",
       " 125]"
      ]
     },
     "execution_count": 100,
     "metadata": {},
     "output_type": "execute_result"
    }
   ],
   "source": [
    "L"
   ]
  },
  {
   "cell_type": "code",
   "execution_count": 101,
   "id": "8395ef79",
   "metadata": {},
   "outputs": [
    {
     "data": {
      "text/plain": [
       "125"
      ]
     },
     "execution_count": 101,
     "metadata": {},
     "output_type": "execute_result"
    }
   ],
   "source": [
    "# Pop removes the last eliment in the lsit\n",
    "\n",
    "L.pop()"
   ]
  },
  {
   "cell_type": "code",
   "execution_count": 102,
   "id": "ac7e96af",
   "metadata": {},
   "outputs": [
    {
     "data": {
      "text/plain": [
       "['Chemistry', 'Pshysics', [1989, 2004], ('Oreily', 'Pearson'), 10, 30, [10.3]]"
      ]
     },
     "execution_count": 102,
     "metadata": {},
     "output_type": "execute_result"
    }
   ],
   "source": [
    "L"
   ]
  },
  {
   "cell_type": "code",
   "execution_count": 103,
   "id": "a937bd5f",
   "metadata": {},
   "outputs": [
    {
     "ename": "ValueError",
     "evalue": "list.remove(x): x not in list",
     "output_type": "error",
     "traceback": [
      "\u001b[1;31m---------------------------------------------------------------------------\u001b[0m",
      "\u001b[1;31mValueError\u001b[0m                                Traceback (most recent call last)",
      "Cell \u001b[1;32mIn[103], line 2\u001b[0m\n\u001b[0;32m      1\u001b[0m \u001b[38;5;66;03m#remove()\u001b[39;00m\n\u001b[1;32m----> 2\u001b[0m \u001b[43mL\u001b[49m\u001b[38;5;241;43m.\u001b[39;49m\u001b[43mremove\u001b[49m\u001b[43m \u001b[49m\u001b[43m(\u001b[49m\u001b[38;5;124;43m'\u001b[39;49m\u001b[38;5;124;43mPhysics\u001b[39;49m\u001b[38;5;124;43m'\u001b[39;49m\u001b[43m)\u001b[49m\n",
      "\u001b[1;31mValueError\u001b[0m: list.remove(x): x not in list"
     ]
    }
   ],
   "source": [
    "#remove()\n",
    "L.remove ('Physics')"
   ]
  },
  {
   "cell_type": "code",
   "execution_count": 104,
   "id": "0113637f",
   "metadata": {},
   "outputs": [],
   "source": [
    "L.remove('Pshysics')"
   ]
  },
  {
   "cell_type": "code",
   "execution_count": 105,
   "id": "9e66ca9b",
   "metadata": {},
   "outputs": [
    {
     "data": {
      "text/plain": [
       "['Chemistry', [1989, 2004], ('Oreily', 'Pearson'), 10, 30, [10.3]]"
      ]
     },
     "execution_count": 105,
     "metadata": {},
     "output_type": "execute_result"
    }
   ],
   "source": [
    "L"
   ]
  },
  {
   "cell_type": "code",
   "execution_count": 106,
   "id": "f5a56c07",
   "metadata": {},
   "outputs": [
    {
     "data": {
      "text/plain": [
       "[10.3]"
      ]
     },
     "execution_count": 106,
     "metadata": {},
     "output_type": "execute_result"
    }
   ],
   "source": [
    "L.pop()"
   ]
  },
  {
   "cell_type": "code",
   "execution_count": 107,
   "id": "40ca748a",
   "metadata": {},
   "outputs": [
    {
     "data": {
      "text/plain": [
       "['Chemistry', [1989, 2004], ('Oreily', 'Pearson'), 10, 30]"
      ]
     },
     "execution_count": 107,
     "metadata": {},
     "output_type": "execute_result"
    }
   ],
   "source": [
    "L"
   ]
  },
  {
   "cell_type": "code",
   "execution_count": 108,
   "id": "1b9ad583",
   "metadata": {},
   "outputs": [
    {
     "data": {
      "text/plain": [
       "[1, 2, 3, 4, 5, 6, 7, 8, 9, 0]"
      ]
     },
     "execution_count": 108,
     "metadata": {},
     "output_type": "execute_result"
    }
   ],
   "source": [
    "L1"
   ]
  },
  {
   "cell_type": "code",
   "execution_count": 109,
   "id": "0ce92a8c",
   "metadata": {},
   "outputs": [
    {
     "data": {
      "text/plain": [
       "[1, 2, 3, 4, 5, 10, 9, 8, 7, 6]"
      ]
     },
     "execution_count": 109,
     "metadata": {},
     "output_type": "execute_result"
    }
   ],
   "source": [
    "L1 = [1,2,3,4,5,10,9,8,7,6]\n",
    "L1"
   ]
  },
  {
   "cell_type": "code",
   "execution_count": 110,
   "id": "03a47323",
   "metadata": {},
   "outputs": [
    {
     "data": {
      "text/plain": [
       "[1, 2, 3, 4, 5, 6, 7, 8, 9, 10]"
      ]
     },
     "execution_count": 110,
     "metadata": {},
     "output_type": "execute_result"
    }
   ],
   "source": [
    "L1.sort() # Assending Order Sorting\n",
    "L1"
   ]
  },
  {
   "cell_type": "code",
   "execution_count": 111,
   "id": "f29bbce3",
   "metadata": {},
   "outputs": [
    {
     "data": {
      "text/plain": [
       "[10, 9, 8, 7, 6, 5, 4, 3, 2, 1]"
      ]
     },
     "execution_count": 111,
     "metadata": {},
     "output_type": "execute_result"
    }
   ],
   "source": [
    "L1.sort(reverse=True)\n",
    "L1"
   ]
  },
  {
   "cell_type": "code",
   "execution_count": 112,
   "id": "371ab5ca",
   "metadata": {},
   "outputs": [
    {
     "data": {
      "text/plain": [
       "[10, 9, 8, 7, 6, 5, 4, 3, 2, 1]"
      ]
     },
     "execution_count": 112,
     "metadata": {},
     "output_type": "execute_result"
    }
   ],
   "source": [
    "L1"
   ]
  },
  {
   "cell_type": "markdown",
   "id": "814cec5c",
   "metadata": {},
   "source": [
    "#Diffreance netween SORT and Sorted"
   ]
  },
  {
   "cell_type": "code",
   "execution_count": 115,
   "id": "8b326274",
   "metadata": {},
   "outputs": [
    {
     "data": {
      "text/plain": [
       "['Orange', 'Apple', 'Mango', 'Pinapple', 'Dragon Froot']"
      ]
     },
     "execution_count": 115,
     "metadata": {},
     "output_type": "execute_result"
    }
   ],
   "source": [
    "A = [\"Orange\",\"Apple\",\"Mango\",\"Pinapple\",\"Dragon Froot\"]\n",
    "A"
   ]
  },
  {
   "cell_type": "code",
   "execution_count": 114,
   "id": "48528d1b",
   "metadata": {},
   "outputs": [
    {
     "data": {
      "text/plain": [
       "['Apple', 'Dragon Froot', 'Mango', 'Orange', 'Pinapple']"
      ]
     },
     "execution_count": 114,
     "metadata": {},
     "output_type": "execute_result"
    }
   ],
   "source": [
    "A.sort()\n",
    "A"
   ]
  },
  {
   "cell_type": "code",
   "execution_count": 116,
   "id": "eebbf540",
   "metadata": {},
   "outputs": [
    {
     "data": {
      "text/plain": [
       "['Orange', 'Apple', 'Mango', 'Pinapple', 'Dragon Froot']"
      ]
     },
     "execution_count": 116,
     "metadata": {},
     "output_type": "execute_result"
    }
   ],
   "source": [
    "A"
   ]
  },
  {
   "cell_type": "code",
   "execution_count": 117,
   "id": "b1e9e5ab",
   "metadata": {},
   "outputs": [
    {
     "name": "stdout",
     "output_type": "stream",
     "text": [
      "['Apple', 'Dragon Froot', 'Mango', 'Orange', 'Pinapple']\n",
      "None\n"
     ]
    }
   ],
   "source": [
    "B = A.sort()\n",
    "print (A)\n",
    "print (B)"
   ]
  },
  {
   "cell_type": "code",
   "execution_count": 118,
   "id": "0ef1ff36",
   "metadata": {},
   "outputs": [],
   "source": [
    "B"
   ]
  },
  {
   "cell_type": "code",
   "execution_count": 119,
   "id": "656c3dd6",
   "metadata": {},
   "outputs": [],
   "source": [
    "A = [\"Orange\",\"Apple\",\"Mango\",\"Pinapple\",\"Dragon Froot\"]"
   ]
  },
  {
   "cell_type": "code",
   "execution_count": 120,
   "id": "abb5c70d",
   "metadata": {},
   "outputs": [
    {
     "name": "stdout",
     "output_type": "stream",
     "text": [
      "['Orange', 'Apple', 'Mango', 'Pinapple', 'Dragon Froot']\n",
      "['Apple', 'Dragon Froot', 'Mango', 'Orange', 'Pinapple']\n"
     ]
    }
   ],
   "source": [
    "C = sorted(A)\n",
    "print(A) \n",
    "print(C)\n",
    "\n",
    "#Sort = write values order in same list\n",
    "#Sorted = will not change the order, use 3 rd valible will store the sorted values)\n",
    "#sort(): Sorts the elements of a list in place\n",
    "#sorted(): Assign the sorted elements to a new list and the original list is left as is. "
   ]
  },
  {
   "cell_type": "code",
   "execution_count": 121,
   "id": "bb03c704",
   "metadata": {},
   "outputs": [
    {
     "data": {
      "text/plain": [
       "2"
      ]
     },
     "execution_count": 121,
     "metadata": {},
     "output_type": "execute_result"
    }
   ],
   "source": [
    "list_1 =  [2, 33, 222, 14, 25]\n",
    "list_1[-5]"
   ]
  },
  {
   "cell_type": "code",
   "execution_count": 132,
   "id": "1d48c57d",
   "metadata": {},
   "outputs": [
    {
     "data": {
      "text/plain": [
       "['1', '2', '3', '4']"
      ]
     },
     "execution_count": 132,
     "metadata": {},
     "output_type": "execute_result"
    }
   ],
   "source": [
    "word = ['1','2','3','4']\n",
    "word[ : ]\n",
    "#print(word)"
   ]
  },
  {
   "cell_type": "code",
   "execution_count": 133,
   "id": "c4c1dcff",
   "metadata": {},
   "outputs": [],
   "source": [
    "word = ['1','2','3','4']\n",
    "word[ : ] = []\n",
    "#print(word)"
   ]
  },
  {
   "cell_type": "code",
   "execution_count": 134,
   "id": "f91ed4fa",
   "metadata": {},
   "outputs": [
    {
     "data": {
      "text/plain": [
       "[]"
      ]
     },
     "execution_count": 134,
     "metadata": {},
     "output_type": "execute_result"
    }
   ],
   "source": [
    "word"
   ]
  },
  {
   "cell_type": "code",
   "execution_count": 135,
   "id": "ebde822e",
   "metadata": {},
   "outputs": [
    {
     "name": "stdout",
     "output_type": "stream",
     "text": [
      "[]\n"
     ]
    }
   ],
   "source": [
    "word = ['1','2','3','4']\n",
    "word[ : ] = []\n",
    "print(word)"
   ]
  },
  {
   "cell_type": "code",
   "execution_count": 136,
   "id": "0589ea01",
   "metadata": {},
   "outputs": [],
   "source": [
    "L = ['one','two','three', 'four', 'five', 'six']"
   ]
  },
  {
   "cell_type": "code",
   "execution_count": 137,
   "id": "2483b6bc",
   "metadata": {},
   "outputs": [
    {
     "data": {
      "text/plain": [
       "['one', 'two', 'three', 'four', 'five', 'six']"
      ]
     },
     "execution_count": 137,
     "metadata": {},
     "output_type": "execute_result"
    }
   ],
   "source": [
    "L"
   ]
  },
  {
   "cell_type": "code",
   "execution_count": 141,
   "id": "d9d1fbca",
   "metadata": {},
   "outputs": [
    {
     "name": "stdout",
     "output_type": "stream",
     "text": [
      "['five', 'four', 'one', 'six', 'three', 'two']\n"
     ]
    }
   ],
   "source": [
    "print(sorted(L))"
   ]
  },
  {
   "cell_type": "code",
   "execution_count": 139,
   "id": "53d6eac6",
   "metadata": {},
   "outputs": [
    {
     "name": "stdout",
     "output_type": "stream",
     "text": [
      "['one', 'two', 'three', 'four', 'five', 'six']\n"
     ]
    }
   ],
   "source": [
    "print(L)"
   ]
  },
  {
   "cell_type": "code",
   "execution_count": 140,
   "id": "b6252b27",
   "metadata": {},
   "outputs": [
    {
     "name": "stdout",
     "output_type": "stream",
     "text": [
      "['five', 'four', 'one', 'six', 'three', 'two']\n",
      "['one', 'two', 'three', 'four', 'five', 'six']\n"
     ]
    }
   ],
   "source": [
    "L = ['one','two','three', 'four', 'five', 'six']\n",
    "print(sorted(L))\n",
    "print (L)"
   ]
  },
  {
   "cell_type": "markdown",
   "id": "b2f31577",
   "metadata": {},
   "source": [
    "# Shadow Copying "
   ]
  },
  {
   "cell_type": "code",
   "execution_count": 144,
   "id": "2fe2ff2e",
   "metadata": {},
   "outputs": [
    {
     "name": "stdout",
     "output_type": "stream",
     "text": [
      "['Orange', 'Apple', 'Mango', 'Pinapple', 'Dragon Froot']\n",
      "['Orange', 'Apple', 'Mango', 'Pinapple', 'Dragon Froot']\n"
     ]
    }
   ],
   "source": [
    "#Complete Shdow copy if any value change on D List , same will reflect on it Shadow Copy List E\n",
    "\n",
    "D = [\"Orange\",\"Apple\",\"Mango\",\"Pinapple\",\"Dragon Froot\"]\n",
    "E = D\n",
    "print( D)\n",
    "print(E)\n",
    "\n"
   ]
  },
  {
   "cell_type": "code",
   "execution_count": 145,
   "id": "3972f9b9",
   "metadata": {},
   "outputs": [
    {
     "name": "stdout",
     "output_type": "stream",
     "text": [
      "['Pomogranet', 'Apple', 'Mango', 'Pinapple', 'Dragon Froot']\n",
      "['Pomogranet', 'Apple', 'Mango', 'Pinapple', 'Dragon Froot']\n"
     ]
    }
   ],
   "source": [
    "D[0] = \"Pomogranet\"\n",
    "print( D)\n",
    "print(E)"
   ]
  },
  {
   "cell_type": "code",
   "execution_count": 146,
   "id": "64fe74cb",
   "metadata": {},
   "outputs": [
    {
     "name": "stdout",
     "output_type": "stream",
     "text": [
      "['Orange', 'Apple', 'Mango', 'Pinapple', 'Dragon Froot']\n",
      "['Orange', 'Apple', 'Mango', 'Pinapple', 'Dragon Froot']\n"
     ]
    }
   ],
   "source": [
    "# Only Copy the Data NO Shadowing\n",
    "\n",
    "D = [\"Orange\",\"Apple\",\"Mango\",\"Pinapple\",\"Dragon Froot\"]\n",
    "E = D[:]\n",
    "print( D)\n",
    "print(E)\n",
    "\n"
   ]
  },
  {
   "cell_type": "code",
   "execution_count": 147,
   "id": "fedf1280",
   "metadata": {},
   "outputs": [
    {
     "name": "stdout",
     "output_type": "stream",
     "text": [
      "['Pomogranet', 'Apple', 'Mango', 'Pinapple', 'Dragon Froot']\n",
      "['Orange', 'Apple', 'Mango', 'Pinapple', 'Dragon Froot']\n"
     ]
    }
   ],
   "source": [
    "D[0] = \"Pomogranet\"\n",
    "print( D)\n",
    "print(E)"
   ]
  },
  {
   "cell_type": "code",
   "execution_count": 148,
   "id": "3c9d89bd",
   "metadata": {},
   "outputs": [
    {
     "data": {
      "text/plain": [
       "'Python'"
      ]
     },
     "execution_count": 148,
     "metadata": {},
     "output_type": "execute_result"
    }
   ],
   "source": [
    "input_list =  [['SAS','R'],['Tableau','SQL'],['Python','Java']]\n",
    "input_list[2][0]"
   ]
  },
  {
   "cell_type": "markdown",
   "id": "54ce27f4",
   "metadata": {},
   "source": [
    "# Tuples"
   ]
  },
  {
   "cell_type": "code",
   "execution_count": null,
   "id": "5e2e6dda",
   "metadata": {},
   "outputs": [],
   "source": []
  },
  {
   "cell_type": "code",
   "execution_count": null,
   "id": "181e20fc",
   "metadata": {},
   "outputs": [],
   "source": []
  },
  {
   "cell_type": "code",
   "execution_count": 149,
   "id": "cd05c1ef",
   "metadata": {},
   "outputs": [],
   "source": [
    "x =(1,2,3)"
   ]
  },
  {
   "cell_type": "code",
   "execution_count": 150,
   "id": "db031f64",
   "metadata": {},
   "outputs": [
    {
     "ename": "TypeError",
     "evalue": "'tuple' object does not support item assignment",
     "output_type": "error",
     "traceback": [
      "\u001b[1;31m---------------------------------------------------------------------------\u001b[0m",
      "\u001b[1;31mTypeError\u001b[0m                                 Traceback (most recent call last)",
      "Cell \u001b[1;32mIn[150], line 1\u001b[0m\n\u001b[1;32m----> 1\u001b[0m \u001b[43mx\u001b[49m\u001b[43m[\u001b[49m\u001b[38;5;241;43m2\u001b[39;49m\u001b[43m]\u001b[49m \u001b[38;5;241m=\u001b[39m \u001b[38;5;241m5\u001b[39m\n",
      "\u001b[1;31mTypeError\u001b[0m: 'tuple' object does not support item assignment"
     ]
    }
   ],
   "source": [
    "x[2] = 5"
   ]
  },
  {
   "cell_type": "code",
   "execution_count": 151,
   "id": "9e32fd5a",
   "metadata": {},
   "outputs": [
    {
     "data": {
      "text/plain": [
       "(1, 2, 3)"
      ]
     },
     "execution_count": 151,
     "metadata": {},
     "output_type": "execute_result"
    }
   ],
   "source": [
    "x"
   ]
  },
  {
   "cell_type": "code",
   "execution_count": 152,
   "id": "b4c98e66",
   "metadata": {},
   "outputs": [
    {
     "ename": "TypeError",
     "evalue": "'tuple' object does not support item assignment",
     "output_type": "error",
     "traceback": [
      "\u001b[1;31m---------------------------------------------------------------------------\u001b[0m",
      "\u001b[1;31mTypeError\u001b[0m                                 Traceback (most recent call last)",
      "Cell \u001b[1;32mIn[152], line 1\u001b[0m\n\u001b[1;32m----> 1\u001b[0m \u001b[43mx\u001b[49m\u001b[43m[\u001b[49m\u001b[38;5;241;43m2\u001b[39;49m\u001b[43m]\u001b[49m \u001b[38;5;241m=\u001b[39m \u001b[38;5;241m5\u001b[39m\n",
      "\u001b[1;31mTypeError\u001b[0m: 'tuple' object does not support item assignment"
     ]
    }
   ],
   "source": [
    "x[2] = 5"
   ]
  },
  {
   "cell_type": "code",
   "execution_count": 173,
   "id": "7f1ca5f8",
   "metadata": {},
   "outputs": [
    {
     "data": {
      "text/plain": [
       "('disco', 12, 4.5)"
      ]
     },
     "execution_count": 173,
     "metadata": {},
     "output_type": "execute_result"
    }
   ],
   "source": [
    "t = (\"disco\", 12, 4.5)\n",
    "t"
   ]
  },
  {
   "cell_type": "code",
   "execution_count": 174,
   "id": "a1d09d99",
   "metadata": {},
   "outputs": [
    {
     "data": {
      "text/plain": [
       "tuple"
      ]
     },
     "execution_count": 174,
     "metadata": {},
     "output_type": "execute_result"
    }
   ],
   "source": [
    "type(t)"
   ]
  },
  {
   "cell_type": "markdown",
   "id": "9f0af63f",
   "metadata": {},
   "source": [
    "<h3> Tuples can be defined is various ways </h3>\n"
   ]
  },
  {
   "cell_type": "markdown",
   "id": "901e502f",
   "metadata": {},
   "source": [
    "#### A tuple can be defined without using parenthesis "
   ]
  },
  {
   "cell_type": "code",
   "execution_count": 178,
   "id": "e31cb051",
   "metadata": {},
   "outputs": [
    {
     "name": "stdout",
     "output_type": "stream",
     "text": [
      "(1, 2, 3, 4)\n"
     ]
    }
   ],
   "source": [
    "sample_tuple = 1,2,3,4\n",
    "\n",
    "print(sample_tuple)"
   ]
  },
  {
   "cell_type": "code",
   "execution_count": 183,
   "id": "001a1ec3",
   "metadata": {},
   "outputs": [
    {
     "name": "stdout",
     "output_type": "stream",
     "text": [
      "(1,)\n"
     ]
    },
    {
     "data": {
      "text/plain": [
       "tuple"
      ]
     },
     "execution_count": 183,
     "metadata": {},
     "output_type": "execute_result"
    }
   ],
   "source": [
    "#### Single value tuple\n",
    "\n",
    "sample_tuple = 1,  \n",
    "print(sample_tuple)\n",
    "type(sample_tuple)"
   ]
  },
  {
   "cell_type": "code",
   "execution_count": 184,
   "id": "b1c6a117",
   "metadata": {},
   "outputs": [
    {
     "name": "stdout",
     "output_type": "stream",
     "text": [
      "1\n"
     ]
    },
    {
     "data": {
      "text/plain": [
       "int"
      ]
     },
     "execution_count": 184,
     "metadata": {},
     "output_type": "execute_result"
    }
   ],
   "source": [
    "sample_tuple = 1 # This is not a tuple\n",
    "print(sample_tuple)\n",
    "type(sample_tuple)"
   ]
  },
  {
   "cell_type": "code",
   "execution_count": 185,
   "id": "29aa3bcf",
   "metadata": {},
   "outputs": [
    {
     "name": "stdout",
     "output_type": "stream",
     "text": [
      "1\n"
     ]
    },
    {
     "data": {
      "text/plain": [
       "int"
      ]
     },
     "execution_count": 185,
     "metadata": {},
     "output_type": "execute_result"
    }
   ],
   "source": [
    "sample_tuple = (1) #this is not a Tuple\n",
    "print(sample_tuple)\n",
    "type(sample_tuple)"
   ]
  },
  {
   "cell_type": "code",
   "execution_count": 189,
   "id": "4b8796f3",
   "metadata": {},
   "outputs": [
    {
     "name": "stdout",
     "output_type": "stream",
     "text": [
      "('Dinesh', 85, 'Dell EMC')\n"
     ]
    },
    {
     "data": {
      "text/plain": [
       "tuple"
      ]
     },
     "execution_count": 189,
     "metadata": {},
     "output_type": "execute_result"
    }
   ],
   "source": [
    "#indexing tuples\n",
    "t = (\"Dinesh\",85,\"Dell EMC\")\n",
    "print(t)\n",
    "type(t)"
   ]
  },
  {
   "cell_type": "markdown",
   "id": "077cecf6",
   "metadata": {},
   "source": [
    "#"
   ]
  },
  {
   "cell_type": "code",
   "execution_count": 190,
   "id": "f482b3ae",
   "metadata": {},
   "outputs": [
    {
     "data": {
      "text/plain": [
       "'Dell EMC'"
      ]
     },
     "execution_count": 190,
     "metadata": {},
     "output_type": "execute_result"
    }
   ],
   "source": [
    "t[-1]"
   ]
  },
  {
   "cell_type": "code",
   "execution_count": 192,
   "id": "83c24d8d",
   "metadata": {},
   "outputs": [
    {
     "data": {
      "text/plain": [
       "'Dinesh'"
      ]
     },
     "execution_count": 192,
     "metadata": {},
     "output_type": "execute_result"
    }
   ],
   "source": [
    "t[0]"
   ]
  },
  {
   "cell_type": "code",
   "execution_count": null,
   "id": "5ff37e52",
   "metadata": {},
   "outputs": [],
   "source": [
    "# slicing in Tuple "
   ]
  },
  {
   "cell_type": "code",
   "execution_count": 193,
   "id": "c18719d5",
   "metadata": {},
   "outputs": [
    {
     "data": {
      "text/plain": [
       "tuple"
      ]
     },
     "execution_count": 193,
     "metadata": {},
     "output_type": "execute_result"
    }
   ],
   "source": [
    "t = (\"Dinesh\", 20,35,\"Dell EMC\", \"Python\", \"GenAI\")\n",
    "type(t)"
   ]
  },
  {
   "cell_type": "code",
   "execution_count": 194,
   "id": "9b9886a9",
   "metadata": {},
   "outputs": [
    {
     "data": {
      "text/plain": [
       "('Dinesh', 20, 35, 'Dell EMC', 'Python', 'GenAI')"
      ]
     },
     "execution_count": 194,
     "metadata": {},
     "output_type": "execute_result"
    }
   ],
   "source": [
    "t"
   ]
  },
  {
   "cell_type": "code",
   "execution_count": 195,
   "id": "2d6e084d",
   "metadata": {},
   "outputs": [
    {
     "data": {
      "text/plain": [
       "()"
      ]
     },
     "execution_count": 195,
     "metadata": {},
     "output_type": "execute_result"
    }
   ],
   "source": [
    "t [0:0]"
   ]
  },
  {
   "cell_type": "code",
   "execution_count": 198,
   "id": "4830575a",
   "metadata": {},
   "outputs": [
    {
     "data": {
      "text/plain": [
       "('Dinesh',)"
      ]
     },
     "execution_count": 198,
     "metadata": {},
     "output_type": "execute_result"
    }
   ],
   "source": [
    "t [0:1]\n"
   ]
  },
  {
   "cell_type": "code",
   "execution_count": 199,
   "id": "2af8db5e",
   "metadata": {},
   "outputs": [
    {
     "data": {
      "text/plain": [
       "20"
      ]
     },
     "execution_count": 199,
     "metadata": {},
     "output_type": "execute_result"
    }
   ],
   "source": [
    "t [1]"
   ]
  },
  {
   "cell_type": "code",
   "execution_count": 200,
   "id": "1a4c0380",
   "metadata": {},
   "outputs": [
    {
     "data": {
      "text/plain": [
       "('Dinesh', 20, 35)"
      ]
     },
     "execution_count": 200,
     "metadata": {},
     "output_type": "execute_result"
    }
   ],
   "source": [
    "t [0:3]"
   ]
  },
  {
   "cell_type": "code",
   "execution_count": 201,
   "id": "28f95d73",
   "metadata": {},
   "outputs": [
    {
     "data": {
      "text/plain": [
       "(20, 35)"
      ]
     },
     "execution_count": 201,
     "metadata": {},
     "output_type": "execute_result"
    }
   ],
   "source": [
    "t [1:3]"
   ]
  },
  {
   "cell_type": "code",
   "execution_count": 202,
   "id": "4b35e35b",
   "metadata": {},
   "outputs": [
    {
     "data": {
      "text/plain": [
       "('Python', 'GenAI')"
      ]
     },
     "execution_count": 202,
     "metadata": {},
     "output_type": "execute_result"
    }
   ],
   "source": [
    "t[-2:]"
   ]
  },
  {
   "cell_type": "code",
   "execution_count": 203,
   "id": "78090d3d",
   "metadata": {},
   "outputs": [
    {
     "data": {
      "text/plain": [
       "('Dinesh', 20, 35, 'Dell EMC', 'Python', 'GenAI')"
      ]
     },
     "execution_count": 203,
     "metadata": {},
     "output_type": "execute_result"
    }
   ],
   "source": [
    "t"
   ]
  },
  {
   "cell_type": "code",
   "execution_count": 204,
   "id": "c42a1d39",
   "metadata": {},
   "outputs": [
    {
     "data": {
      "text/plain": [
       "6"
      ]
     },
     "execution_count": 204,
     "metadata": {},
     "output_type": "execute_result"
    }
   ],
   "source": [
    "len(t)"
   ]
  },
  {
   "cell_type": "markdown",
   "id": "f84d4c16",
   "metadata": {},
   "source": [
    "###### Concatinating Tuples"
   ]
  },
  {
   "cell_type": "code",
   "execution_count": 206,
   "id": "ae499ef5",
   "metadata": {},
   "outputs": [
    {
     "name": "stdout",
     "output_type": "stream",
     "text": [
      "('Aventers', 'Please', 'Asselblle ', 2, 'Fight', 'With Thanos')\n"
     ]
    }
   ],
   "source": [
    "tup1 = (\"Aventers\", \"Please\", \"Asselblle \",2)\n",
    "tup2 = (\"Fight\", \"With Thanos\")\n",
    "tup3 = tup1+tup2\n",
    "print(tup3)"
   ]
  },
  {
   "cell_type": "code",
   "execution_count": 179,
   "id": "6365128d",
   "metadata": {},
   "outputs": [],
   "source": [
    " t = (1, 2, 4, 3)\n",
    " "
   ]
  },
  {
   "cell_type": "code",
   "execution_count": 180,
   "id": "9ee96065",
   "metadata": {},
   "outputs": [
    {
     "ename": "IndexError",
     "evalue": "tuple index out of range",
     "output_type": "error",
     "traceback": [
      "\u001b[1;31m---------------------------------------------------------------------------\u001b[0m",
      "\u001b[1;31mIndexError\u001b[0m                                Traceback (most recent call last)",
      "Cell \u001b[1;32mIn[180], line 1\u001b[0m\n\u001b[1;32m----> 1\u001b[0m \u001b[38;5;28mprint\u001b[39m(\u001b[43mt\u001b[49m\u001b[43m[\u001b[49m\u001b[38;5;241;43m4\u001b[39;49m\u001b[43m]\u001b[49m)\n",
      "\u001b[1;31mIndexError\u001b[0m: tuple index out of range"
     ]
    }
   ],
   "source": [
    "print(t[4])"
   ]
  },
  {
   "cell_type": "code",
   "execution_count": 156,
   "id": "a25c8089",
   "metadata": {},
   "outputs": [
    {
     "ename": "TypeError",
     "evalue": "'tuple' object does not support item assignment",
     "output_type": "error",
     "traceback": [
      "\u001b[1;31m---------------------------------------------------------------------------\u001b[0m",
      "\u001b[1;31mTypeError\u001b[0m                                 Traceback (most recent call last)",
      "Cell \u001b[1;32mIn[156], line 1\u001b[0m\n\u001b[1;32m----> 1\u001b[0m \u001b[43mt\u001b[49m\u001b[43m[\u001b[49m\u001b[38;5;241;43m3\u001b[39;49m\u001b[43m]\u001b[49m \u001b[38;5;241m=\u001b[39m \u001b[38;5;241m5\u001b[39m\n",
      "\u001b[1;31mTypeError\u001b[0m: 'tuple' object does not support item assignment"
     ]
    }
   ],
   "source": [
    "\n",
    "t[3] = 5"
   ]
  },
  {
   "cell_type": "code",
   "execution_count": 157,
   "id": "c062ffd3",
   "metadata": {},
   "outputs": [
    {
     "name": "stdout",
     "output_type": "stream",
     "text": [
      "()\n"
     ]
    }
   ],
   "source": [
    "print(t[1:-4])"
   ]
  },
  {
   "cell_type": "code",
   "execution_count": 158,
   "id": "7969e47e",
   "metadata": {},
   "outputs": [
    {
     "name": "stdout",
     "output_type": "stream",
     "text": [
      "4\n"
     ]
    }
   ],
   "source": [
    "print(len(t))"
   ]
  },
  {
   "cell_type": "code",
   "execution_count": 159,
   "id": "5d82f9b2",
   "metadata": {},
   "outputs": [
    {
     "ename": "NameError",
     "evalue": "name 'Hello' is not defined",
     "output_type": "error",
     "traceback": [
      "\u001b[1;31m---------------------------------------------------------------------------\u001b[0m",
      "\u001b[1;31mNameError\u001b[0m                                 Traceback (most recent call last)",
      "Cell \u001b[1;32mIn[159], line 1\u001b[0m\n\u001b[1;32m----> 1\u001b[0m x \u001b[38;5;241m=\u001b[39m (\u001b[43mHello\u001b[49m,\u001b[38;5;124m'\u001b[39m\u001b[38;5;124m2\u001b[39m\u001b[38;5;124m'\u001b[39m,\u001b[38;5;124m'\u001b[39m\u001b[38;5;124m3\u001b[39m\u001b[38;5;124m'\u001b[39m)\n",
      "\u001b[1;31mNameError\u001b[0m: name 'Hello' is not defined"
     ]
    }
   ],
   "source": [
    "x = (Hello,'2','3')"
   ]
  },
  {
   "cell_type": "code",
   "execution_count": 160,
   "id": "a0aeccb3",
   "metadata": {},
   "outputs": [],
   "source": [
    "\n",
    "x = ((1,2,3), 4,5)"
   ]
  },
  {
   "cell_type": "code",
   "execution_count": 161,
   "id": "7ce1754c",
   "metadata": {},
   "outputs": [
    {
     "data": {
      "text/plain": [
       "((1, 2, 3), 4, 5)"
      ]
     },
     "execution_count": 161,
     "metadata": {},
     "output_type": "execute_result"
    }
   ],
   "source": [
    "x"
   ]
  },
  {
   "cell_type": "code",
   "execution_count": 162,
   "id": "dcae98b6",
   "metadata": {},
   "outputs": [],
   "source": [
    "\n",
    "x = 1,2,"
   ]
  },
  {
   "cell_type": "code",
   "execution_count": 163,
   "id": "7975f9fa",
   "metadata": {},
   "outputs": [
    {
     "data": {
      "text/plain": [
       "(1, 2)"
      ]
     },
     "execution_count": 163,
     "metadata": {},
     "output_type": "execute_result"
    }
   ],
   "source": [
    "x"
   ]
  },
  {
   "cell_type": "code",
   "execution_count": 164,
   "id": "d0de16c0",
   "metadata": {},
   "outputs": [],
   "source": [
    "\n",
    "x = ('2')"
   ]
  },
  {
   "cell_type": "code",
   "execution_count": 165,
   "id": "d06a2653",
   "metadata": {},
   "outputs": [
    {
     "data": {
      "text/plain": [
       "'2'"
      ]
     },
     "execution_count": 165,
     "metadata": {},
     "output_type": "execute_result"
    }
   ],
   "source": [
    "x"
   ]
  },
  {
   "cell_type": "code",
   "execution_count": 167,
   "id": "72dcad8e",
   "metadata": {},
   "outputs": [
    {
     "data": {
      "text/plain": [
       "str"
      ]
     },
     "execution_count": 167,
     "metadata": {},
     "output_type": "execute_result"
    }
   ],
   "source": [
    "type(x)"
   ]
  },
  {
   "cell_type": "code",
   "execution_count": 168,
   "id": "a00205d6",
   "metadata": {},
   "outputs": [],
   "source": [
    "x = 1,2,"
   ]
  },
  {
   "cell_type": "code",
   "execution_count": 169,
   "id": "303d601d",
   "metadata": {},
   "outputs": [
    {
     "data": {
      "text/plain": [
       "tuple"
      ]
     },
     "execution_count": 169,
     "metadata": {},
     "output_type": "execute_result"
    }
   ],
   "source": [
    "type(x)"
   ]
  },
  {
   "cell_type": "code",
   "execution_count": 170,
   "id": "4a5b2a62",
   "metadata": {},
   "outputs": [],
   "source": [
    "\n",
    "x = ((1,2,3), 4,5)"
   ]
  },
  {
   "cell_type": "code",
   "execution_count": 171,
   "id": "aa540900",
   "metadata": {},
   "outputs": [
    {
     "data": {
      "text/plain": [
       "((1, 2, 3), 4, 5)"
      ]
     },
     "execution_count": 171,
     "metadata": {},
     "output_type": "execute_result"
    }
   ],
   "source": [
    "x"
   ]
  },
  {
   "cell_type": "code",
   "execution_count": 172,
   "id": "b2729072",
   "metadata": {},
   "outputs": [
    {
     "data": {
      "text/plain": [
       "tuple"
      ]
     },
     "execution_count": 172,
     "metadata": {},
     "output_type": "execute_result"
    }
   ],
   "source": [
    "type(x)"
   ]
  },
  {
   "cell_type": "code",
   "execution_count": 213,
   "id": "0372d46c",
   "metadata": {},
   "outputs": [
    {
     "data": {
      "text/plain": [
       "(1, 2, 3, 4, 5, 10, 9, 8, 7, 6, -1, -5)"
      ]
     },
     "execution_count": 213,
     "metadata": {},
     "output_type": "execute_result"
    }
   ],
   "source": [
    "# min() max() sum() of tuples\n",
    "\n",
    "t =(1,2,3,4,5,10,9,8,7,6,-1,-5)\n",
    "t"
   ]
  },
  {
   "cell_type": "code",
   "execution_count": 208,
   "id": "5c08ead8",
   "metadata": {},
   "outputs": [
    {
     "data": {
      "text/plain": [
       "tuple"
      ]
     },
     "execution_count": 208,
     "metadata": {},
     "output_type": "execute_result"
    }
   ],
   "source": [
    "type(t)"
   ]
  },
  {
   "cell_type": "code",
   "execution_count": 214,
   "id": "770f262d",
   "metadata": {},
   "outputs": [
    {
     "data": {
      "text/plain": [
       "-5"
      ]
     },
     "execution_count": 214,
     "metadata": {},
     "output_type": "execute_result"
    }
   ],
   "source": [
    "min(t)"
   ]
  },
  {
   "cell_type": "code",
   "execution_count": 210,
   "id": "8a59f37a",
   "metadata": {},
   "outputs": [
    {
     "data": {
      "text/plain": [
       "10"
      ]
     },
     "execution_count": 210,
     "metadata": {},
     "output_type": "execute_result"
    }
   ],
   "source": [
    "max(t)"
   ]
  },
  {
   "cell_type": "code",
   "execution_count": 215,
   "id": "4b99eabd",
   "metadata": {},
   "outputs": [
    {
     "data": {
      "text/plain": [
       "49"
      ]
     },
     "execution_count": 215,
     "metadata": {},
     "output_type": "execute_result"
    }
   ],
   "source": [
    "sum(t)"
   ]
  },
  {
   "cell_type": "code",
   "execution_count": 219,
   "id": "ecf50253",
   "metadata": {},
   "outputs": [
    {
     "data": {
      "text/plain": [
       "(1, 2, 3, 4, 5, 10, 9, 8, 7, 6, -1, -5)"
      ]
     },
     "execution_count": 219,
     "metadata": {},
     "output_type": "execute_result"
    }
   ],
   "source": [
    "t =(1,2,3,4,5,10,9,8,7,6,-1,-5,)\n",
    "t"
   ]
  },
  {
   "cell_type": "code",
   "execution_count": 217,
   "id": "315e425d",
   "metadata": {},
   "outputs": [
    {
     "ename": "TypeError",
     "evalue": "'<' not supported between instances of 'str' and 'int'",
     "output_type": "error",
     "traceback": [
      "\u001b[1;31m---------------------------------------------------------------------------\u001b[0m",
      "\u001b[1;31mTypeError\u001b[0m                                 Traceback (most recent call last)",
      "Cell \u001b[1;32mIn[217], line 1\u001b[0m\n\u001b[1;32m----> 1\u001b[0m \u001b[38;5;28;43mmin\u001b[39;49m\u001b[43m(\u001b[49m\u001b[43mt\u001b[49m\u001b[43m)\u001b[49m\n",
      "\u001b[1;31mTypeError\u001b[0m: '<' not supported between instances of 'str' and 'int'"
     ]
    }
   ],
   "source": [
    "min(t)"
   ]
  },
  {
   "cell_type": "code",
   "execution_count": 222,
   "id": "883473e2",
   "metadata": {},
   "outputs": [
    {
     "ename": "NameError",
     "evalue": "name 'sort' is not defined",
     "output_type": "error",
     "traceback": [
      "\u001b[1;31m---------------------------------------------------------------------------\u001b[0m",
      "\u001b[1;31mNameError\u001b[0m                                 Traceback (most recent call last)",
      "Cell \u001b[1;32mIn[222], line 1\u001b[0m\n\u001b[1;32m----> 1\u001b[0m \u001b[43msort\u001b[49m\u001b[38;5;241m.\u001b[39mt\n",
      "\u001b[1;31mNameError\u001b[0m: name 'sort' is not defined"
     ]
    }
   ],
   "source": []
  },
  {
   "cell_type": "code",
   "execution_count": 223,
   "id": "2cdeb422",
   "metadata": {},
   "outputs": [
    {
     "ename": "AttributeError",
     "evalue": "'tuple' object has no attribute 'sort'",
     "output_type": "error",
     "traceback": [
      "\u001b[1;31m---------------------------------------------------------------------------\u001b[0m",
      "\u001b[1;31mAttributeError\u001b[0m                            Traceback (most recent call last)",
      "Cell \u001b[1;32mIn[223], line 1\u001b[0m\n\u001b[1;32m----> 1\u001b[0m \u001b[43mt\u001b[49m\u001b[38;5;241;43m.\u001b[39;49m\u001b[43msort\u001b[49m()\n",
      "\u001b[1;31mAttributeError\u001b[0m: 'tuple' object has no attribute 'sort'"
     ]
    }
   ],
   "source": [
    "t.sort()"
   ]
  },
  {
   "cell_type": "code",
   "execution_count": 224,
   "id": "8c8b7497",
   "metadata": {},
   "outputs": [
    {
     "data": {
      "text/plain": [
       "('USA', 4, 3, 'Disco', 7.5)"
      ]
     },
     "execution_count": 224,
     "metadata": {},
     "output_type": "execute_result"
    }
   ],
   "source": [
    "t = (\"USA\", 4,3,\"Disco\",7.5)\n",
    "t"
   ]
  },
  {
   "cell_type": "code",
   "execution_count": 225,
   "id": "5d0b5fef",
   "metadata": {},
   "outputs": [
    {
     "ename": "TypeError",
     "evalue": "'tuple' object does not support item assignment",
     "output_type": "error",
     "traceback": [
      "\u001b[1;31m---------------------------------------------------------------------------\u001b[0m",
      "\u001b[1;31mTypeError\u001b[0m                                 Traceback (most recent call last)",
      "Cell \u001b[1;32mIn[225], line 1\u001b[0m\n\u001b[1;32m----> 1\u001b[0m \u001b[43mt\u001b[49m\u001b[43m[\u001b[49m\u001b[38;5;241;43m3\u001b[39;49m\u001b[43m]\u001b[49m\u001b[38;5;241m=\u001b[39m\u001b[38;5;124m\"\u001b[39m\u001b[38;5;124mHard Rock\u001b[39m\u001b[38;5;124m\"\u001b[39m\n",
      "\u001b[1;31mTypeError\u001b[0m: 'tuple' object does not support item assignment"
     ]
    }
   ],
   "source": [
    "t[3]=\"Hard Rock\""
   ]
  },
  {
   "cell_type": "code",
   "execution_count": 226,
   "id": "d69f28d2",
   "metadata": {},
   "outputs": [
    {
     "data": {
      "text/plain": [
       "('USA', 4, 3, 'Disco', 7.5)"
      ]
     },
     "execution_count": 226,
     "metadata": {},
     "output_type": "execute_result"
    }
   ],
   "source": [
    "t"
   ]
  },
  {
   "cell_type": "code",
   "execution_count": 227,
   "id": "2260d957",
   "metadata": {},
   "outputs": [
    {
     "data": {
      "text/plain": [
       "('USA', 4, 3)"
      ]
     },
     "execution_count": 227,
     "metadata": {},
     "output_type": "execute_result"
    }
   ],
   "source": [
    "# modify Disco to \"Hard Rock\"\n",
    "new_t= t[0:3]\n",
    "new_t"
   ]
  },
  {
   "cell_type": "code",
   "execution_count": 230,
   "id": "a09738ab",
   "metadata": {},
   "outputs": [
    {
     "data": {
      "text/plain": [
       "('USA', 4, 3, 'Hard Rock', 7.5)"
      ]
     },
     "execution_count": 230,
     "metadata": {},
     "output_type": "execute_result"
    }
   ],
   "source": [
    "new_t= t[0:3] + (\"Hard Rock\",) + t[4:]\n",
    "new_t"
   ]
  },
  {
   "cell_type": "code",
   "execution_count": 234,
   "id": "fd579a22",
   "metadata": {},
   "outputs": [
    {
     "data": {
      "text/plain": [
       "'Hard Rock'"
      ]
     },
     "execution_count": 234,
     "metadata": {},
     "output_type": "execute_result"
    }
   ],
   "source": [
    "new_t[-2]"
   ]
  },
  {
   "cell_type": "code",
   "execution_count": 236,
   "id": "29a45693",
   "metadata": {},
   "outputs": [
    {
     "data": {
      "text/plain": [
       "'Disco'"
      ]
     },
     "execution_count": 236,
     "metadata": {},
     "output_type": "execute_result"
    }
   ],
   "source": [
    "t[-2]"
   ]
  },
  {
   "cell_type": "code",
   "execution_count": 237,
   "id": "d9ef6925",
   "metadata": {},
   "outputs": [
    {
     "data": {
      "text/plain": [
       "(1, 2, 3, 4, 5, 10, 9, 8, 7, 6, -1, -10, -2)"
      ]
     },
     "execution_count": 237,
     "metadata": {},
     "output_type": "execute_result"
    }
   ],
   "source": [
    "#Sorting Tuples\n",
    "#sort() not available in Tuples\n",
    "# Only \" sorted()\" function work on tuples\n",
    "\n",
    "t=(1,2,3,4,5,10,9,8,7,6,-1,-10,-2)\n",
    "t"
   ]
  },
  {
   "cell_type": "code",
   "execution_count": 238,
   "id": "dc984971",
   "metadata": {},
   "outputs": [
    {
     "data": {
      "text/plain": [
       "[-10, -2, -1, 1, 2, 3, 4, 5, 6, 7, 8, 9, 10]"
      ]
     },
     "execution_count": 238,
     "metadata": {},
     "output_type": "execute_result"
    }
   ],
   "source": [
    "sorted(t)"
   ]
  },
  {
   "cell_type": "code",
   "execution_count": 239,
   "id": "ff5d45ce",
   "metadata": {},
   "outputs": [
    {
     "data": {
      "text/plain": [
       "(1, 2, 3, 4, 5, 10, 9, 8, 7, 6, -1, -10, -2)"
      ]
     },
     "execution_count": 239,
     "metadata": {},
     "output_type": "execute_result"
    }
   ],
   "source": [
    "t"
   ]
  },
  {
   "cell_type": "code",
   "execution_count": 242,
   "id": "b268cb47",
   "metadata": {},
   "outputs": [
    {
     "name": "stdout",
     "output_type": "stream",
     "text": [
      "(-10, -2, -1, 1, 2, 3, 4, 5, 6, 7, 8, 9, 10)\n",
      "(1, 2, 3, 4, 5, 10, 9, 8, 7, 6, -1, -10, -2)\n"
     ]
    }
   ],
   "source": [
    "x = sorted(t)\n",
    "y = tuple(x)\n",
    "print(y)\n",
    "print(t)"
   ]
  },
  {
   "cell_type": "code",
   "execution_count": 243,
   "id": "82d36aa3",
   "metadata": {},
   "outputs": [
    {
     "data": {
      "text/plain": [
       "(-10, -2, -1, 1, 2, 3, 4, 5, 6, 7, 8, 9, 10)"
      ]
     },
     "execution_count": 243,
     "metadata": {},
     "output_type": "execute_result"
    }
   ],
   "source": [
    "y"
   ]
  },
  {
   "cell_type": "code",
   "execution_count": 244,
   "id": "42318f74",
   "metadata": {},
   "outputs": [
    {
     "data": {
      "text/plain": [
       "(1, 2, 3, 4, 5, 10, 9, 8, 7, 6, -1, -10, -2)"
      ]
     },
     "execution_count": 244,
     "metadata": {},
     "output_type": "execute_result"
    }
   ],
   "source": [
    "t"
   ]
  },
  {
   "cell_type": "code",
   "execution_count": 245,
   "id": "265f4faf",
   "metadata": {},
   "outputs": [
    {
     "ename": "AttributeError",
     "evalue": "'tuple' object has no attribute 'sort'",
     "output_type": "error",
     "traceback": [
      "\u001b[1;31m---------------------------------------------------------------------------\u001b[0m",
      "\u001b[1;31mAttributeError\u001b[0m                            Traceback (most recent call last)",
      "Cell \u001b[1;32mIn[245], line 1\u001b[0m\n\u001b[1;32m----> 1\u001b[0m \u001b[43mt\u001b[49m\u001b[38;5;241;43m.\u001b[39;49m\u001b[43msort\u001b[49m()\n",
      "\u001b[1;31mAttributeError\u001b[0m: 'tuple' object has no attribute 'sort'"
     ]
    }
   ],
   "source": [
    "t.sort()"
   ]
  },
  {
   "cell_type": "code",
   "execution_count": 246,
   "id": "11272a51",
   "metadata": {},
   "outputs": [],
   "source": [
    "#Tuple Nesting\n",
    "# Immutability is the differentiating property between lists and tuples.\n",
    "# The elements in a tuple cannot be changed once the tuple is declared. You have to make a new tuple using concatenation if you wish to change a value in a given tuple. \n",
    "# You also saw tuples can be sorted just like lists.  Let us now see how to iterate over a tuple in the upcoming video\n",
    "\n",
    "\n",
    "\n"
   ]
  },
  {
   "cell_type": "code",
   "execution_count": 247,
   "id": "06237a5a",
   "metadata": {},
   "outputs": [
    {
     "data": {
      "text/plain": [
       "(1, 5, 'Disco', ('Python', 'JAVA'))"
      ]
     },
     "execution_count": 247,
     "metadata": {},
     "output_type": "execute_result"
    }
   ],
   "source": [
    "t1 = (1),5,\"Disco\",(\"Python\", \"JAVA\")\n",
    "t1"
   ]
  },
  {
   "cell_type": "code",
   "execution_count": 248,
   "id": "a5583ba6",
   "metadata": {},
   "outputs": [
    {
     "data": {
      "text/plain": [
       "tuple"
      ]
     },
     "execution_count": 248,
     "metadata": {},
     "output_type": "execute_result"
    }
   ],
   "source": [
    "type(t1)"
   ]
  },
  {
   "cell_type": "code",
   "execution_count": 249,
   "id": "c6f38fd2",
   "metadata": {},
   "outputs": [
    {
     "data": {
      "text/plain": [
       "('Python', 'JAVA')"
      ]
     },
     "execution_count": 249,
     "metadata": {},
     "output_type": "execute_result"
    }
   ],
   "source": [
    "t1[3]"
   ]
  },
  {
   "cell_type": "code",
   "execution_count": 253,
   "id": "27a8f877",
   "metadata": {},
   "outputs": [
    {
     "data": {
      "text/plain": [
       "'JAVA'"
      ]
     },
     "execution_count": 253,
     "metadata": {},
     "output_type": "execute_result"
    }
   ],
   "source": [
    "t1[3][1]"
   ]
  },
  {
   "cell_type": "code",
   "execution_count": 254,
   "id": "e2bee674",
   "metadata": {},
   "outputs": [
    {
     "data": {
      "text/plain": [
       "'Python'"
      ]
     },
     "execution_count": 254,
     "metadata": {},
     "output_type": "execute_result"
    }
   ],
   "source": [
    "t1[3][-2]"
   ]
  },
  {
   "cell_type": "code",
   "execution_count": 255,
   "id": "b2305fe8",
   "metadata": {},
   "outputs": [
    {
     "data": {
      "text/plain": [
       "(1, 2, 3, 4)"
      ]
     },
     "execution_count": 255,
     "metadata": {},
     "output_type": "execute_result"
    }
   ],
   "source": [
    "# Tuples Packing and unpacking\n",
    "\n",
    "tp = (1,2,3,4) # Packing\n",
    "tp"
   ]
  },
  {
   "cell_type": "code",
   "execution_count": 256,
   "id": "8113704f",
   "metadata": {},
   "outputs": [
    {
     "data": {
      "text/plain": [
       "4"
      ]
     },
     "execution_count": 256,
     "metadata": {},
     "output_type": "execute_result"
    }
   ],
   "source": [
    "len(tp)"
   ]
  },
  {
   "cell_type": "code",
   "execution_count": 257,
   "id": "e93084e7",
   "metadata": {},
   "outputs": [
    {
     "data": {
      "text/plain": [
       "3"
      ]
     },
     "execution_count": 257,
     "metadata": {},
     "output_type": "execute_result"
    }
   ],
   "source": [
    "(a,b,c,d) = tp # Unpacking\n",
    "c"
   ]
  },
  {
   "cell_type": "code",
   "execution_count": 259,
   "id": "595a672c",
   "metadata": {},
   "outputs": [
    {
     "name": "stdout",
     "output_type": "stream",
     "text": [
      "['__add__', '__class__', '__class_getitem__', '__contains__', '__delattr__', '__dir__', '__doc__', '__eq__', '__format__', '__ge__', '__getattribute__', '__getitem__', '__getnewargs__', '__gt__', '__hash__', '__init__', '__init_subclass__', '__iter__', '__le__', '__len__', '__lt__', '__mul__', '__ne__', '__new__', '__reduce__', '__reduce_ex__', '__repr__', '__rmul__', '__setattr__', '__sizeof__', '__str__', '__subclasshook__', 'count', 'index']\n"
     ]
    }
   ],
   "source": [
    "print(dir(tp))"
   ]
  },
  {
   "cell_type": "code",
   "execution_count": null,
   "id": "bd10cba8",
   "metadata": {},
   "outputs": [],
   "source": []
  },
  {
   "cell_type": "markdown",
   "id": "deb3816e",
   "metadata": {},
   "source": [
    "<h1 style=\"color:Brown\"> Sets </h1>\n",
    "\n",
    "- Sets are a type of collection like lists and tuples, storing mixed data.\n",
    "- Sets are enclosed within curly brackets and elements are written as comma-separated.\n",
    "- Sets are unordered\n",
    "- Sets do not allow duplicates"
   ]
  },
  {
   "cell_type": "code",
   "execution_count": 261,
   "id": "a43f079b",
   "metadata": {},
   "outputs": [
    {
     "name": "stdout",
     "output_type": "stream",
     "text": [
      "[1, 3, 2, 4, 5, 5]\n"
     ]
    },
    {
     "data": {
      "text/plain": [
       "{1, 2, 3, 4, 5}"
      ]
     },
     "execution_count": 261,
     "metadata": {},
     "output_type": "execute_result"
    }
   ],
   "source": [
    "l = [1,3,2,4,5,5]\n",
    "print(l)\n",
    "\n",
    "set_l = set(l)\n",
    "\n",
    "set_l"
   ]
  },
  {
   "cell_type": "code",
   "execution_count": 271,
   "id": "6df132ca",
   "metadata": {},
   "outputs": [
    {
     "data": {
      "text/plain": [
       "set"
      ]
     },
     "execution_count": 271,
     "metadata": {},
     "output_type": "execute_result"
    }
   ],
   "source": [
    "type(set_l)\n"
   ]
  },
  {
   "cell_type": "code",
   "execution_count": 272,
   "id": "3ea9c151",
   "metadata": {},
   "outputs": [
    {
     "data": {
      "text/plain": [
       "5"
      ]
     },
     "execution_count": 272,
     "metadata": {},
     "output_type": "execute_result"
    }
   ],
   "source": [
    "len(set_l)"
   ]
  },
  {
   "cell_type": "code",
   "execution_count": 287,
   "id": "475901d2",
   "metadata": {},
   "outputs": [
    {
     "data": {
      "text/plain": [
       "5"
      ]
     },
     "execution_count": 287,
     "metadata": {},
     "output_type": "execute_result"
    }
   ],
   "source": [
    "l[-1] \n"
   ]
  },
  {
   "cell_type": "code",
   "execution_count": 288,
   "id": "0d6878c5",
   "metadata": {},
   "outputs": [
    {
     "data": {
      "text/plain": [
       "list"
      ]
     },
     "execution_count": 288,
     "metadata": {},
     "output_type": "execute_result"
    }
   ],
   "source": [
    "type(l)"
   ]
  },
  {
   "cell_type": "code",
   "execution_count": 289,
   "id": "b5e570b3",
   "metadata": {},
   "outputs": [
    {
     "data": {
      "text/plain": [
       "{1, 2, 3, 4, 5}"
      ]
     },
     "execution_count": 289,
     "metadata": {},
     "output_type": "execute_result"
    }
   ],
   "source": [
    "set_l"
   ]
  },
  {
   "cell_type": "code",
   "execution_count": 290,
   "id": "5e0b434d",
   "metadata": {},
   "outputs": [
    {
     "ename": "TypeError",
     "evalue": "'set' object is not subscriptable",
     "output_type": "error",
     "traceback": [
      "\u001b[1;31m---------------------------------------------------------------------------\u001b[0m",
      "\u001b[1;31mTypeError\u001b[0m                                 Traceback (most recent call last)",
      "Cell \u001b[1;32mIn[290], line 1\u001b[0m\n\u001b[1;32m----> 1\u001b[0m \u001b[43mset_l\u001b[49m\u001b[43m[\u001b[49m\u001b[38;5;241;43m-\u001b[39;49m\u001b[38;5;241;43m1\u001b[39;49m\u001b[43m]\u001b[49m\n",
      "\u001b[1;31mTypeError\u001b[0m: 'set' object is not subscriptable"
     ]
    }
   ],
   "source": [
    "set_l[-1]"
   ]
  },
  {
   "cell_type": "code",
   "execution_count": 274,
   "id": "46bb9c09",
   "metadata": {},
   "outputs": [
    {
     "data": {
      "text/plain": [
       "{1, 2, 3, 4, 5, 6, 7}"
      ]
     },
     "execution_count": 274,
     "metadata": {},
     "output_type": "execute_result"
    }
   ],
   "source": [
    "a = {1, 2, 3, 4, 5,7,6,}\n",
    "a"
   ]
  },
  {
   "cell_type": "code",
   "execution_count": 282,
   "id": "e4aea6e3",
   "metadata": {},
   "outputs": [
    {
     "data": {
      "text/plain": [
       "{1, 2, 3, 4, 5, 6, 7, 'Australia'}"
      ]
     },
     "execution_count": 282,
     "metadata": {},
     "output_type": "execute_result"
    }
   ],
   "source": [
    "a.add(\"Australia\") # Mutable or Modofiable\n",
    "a"
   ]
  },
  {
   "cell_type": "code",
   "execution_count": 284,
   "id": "3e22359c",
   "metadata": {},
   "outputs": [
    {
     "data": {
      "text/plain": [
       "{1, 2, 3, 4, 5, 6, 7}"
      ]
     },
     "execution_count": 284,
     "metadata": {},
     "output_type": "execute_result"
    }
   ],
   "source": [
    "a.remove(\"Australia\")\n",
    "a\n"
   ]
  },
  {
   "cell_type": "code",
   "execution_count": 262,
   "id": "9e85a7ad",
   "metadata": {},
   "outputs": [
    {
     "ename": "SyntaxError",
     "evalue": "invalid syntax (2217791746.py, line 3)",
     "output_type": "error",
     "traceback": [
      "\u001b[1;36m  Cell \u001b[1;32mIn[262], line 3\u001b[1;36m\u001b[0m\n\u001b[1;33m    'B', 'C', 'A', 'B', 'F', 'B', 'A', 'E', 'B', 'B', 'C', 'D'...]\u001b[0m\n\u001b[1;37m                                                              ^\u001b[0m\n\u001b[1;31mSyntaxError\u001b[0m\u001b[1;31m:\u001b[0m invalid syntax\n"
     ]
    }
   ],
   "source": [
    "Grades = ['A', 'A', 'B', 'C', 'D', 'B', 'B', 'C', 'D', 'E', 'C', 'C', 'A', 'B', 'F', 'D', 'C', \n",
    "\n",
    "          'B', 'C', 'A', 'B', 'F', 'B', 'A', 'E', 'B', 'B', 'C', 'D'...]"
   ]
  },
  {
   "cell_type": "code",
   "execution_count": 267,
   "id": "1b7192d7",
   "metadata": {},
   "outputs": [],
   "source": [
    "# Let’s say you have a huge list that contains student grades:\n",
    "# You want to identify distinct grades allotted to students. Obviously, you cannot check every element of this list; instead, we make use of sets which gets our job done here\n",
    "\n",
    "\n",
    "Grades = ['A', 'A', 'B', 'C', 'D', 'B', 'B', 'C', 'D', 'E', 'C', 'C', 'A', 'B', 'F', 'D', 'C', \n",
    "\n",
    "          'B', 'C', 'A', 'B', 'F', 'B', 'A', 'E', 'B', 'B', 'C', 'D']"
   ]
  },
  {
   "cell_type": "code",
   "execution_count": 265,
   "id": "5119a896",
   "metadata": {},
   "outputs": [
    {
     "data": {
      "text/plain": [
       "list"
      ]
     },
     "execution_count": 265,
     "metadata": {},
     "output_type": "execute_result"
    }
   ],
   "source": [
    "type(Grades)"
   ]
  },
  {
   "cell_type": "code",
   "execution_count": 266,
   "id": "58645d0c",
   "metadata": {},
   "outputs": [
    {
     "name": "stdout",
     "output_type": "stream",
     "text": [
      "['A', 'A', 'B', 'C', 'D', 'B', 'B', 'C', 'D', 'E', 'C', 'C', 'A', 'B', 'F', 'D', 'C', 'B', 'C', 'A', 'B', 'F', 'B', 'A', 'E', 'B', 'B', 'C', 'D']\n"
     ]
    }
   ],
   "source": [
    "print (Grades)"
   ]
  },
  {
   "cell_type": "code",
   "execution_count": 268,
   "id": "f6da5651",
   "metadata": {},
   "outputs": [
    {
     "data": {
      "text/plain": [
       "{'A', 'B', 'C', 'D', 'E', 'F'}"
      ]
     },
     "execution_count": 268,
     "metadata": {},
     "output_type": "execute_result"
    }
   ],
   "source": [
    "\n",
    "# By using the set function on the grades, you would get the distinct grades in the form of a set:        \n",
    "\n",
    "\n",
    "set(Grades)\n",
    "{'A', 'B', 'C', 'D', 'E', 'F'}"
   ]
  },
  {
   "cell_type": "code",
   "execution_count": 295,
   "id": "c2a7e2be",
   "metadata": {},
   "outputs": [
    {
     "name": "stdout",
     "output_type": "stream",
     "text": [
      "{0, 2, 4, 6, 8} {1, 2, 3, 4, 5}\n"
     ]
    }
   ],
   "source": [
    "# Set Opration\n",
    "A = {0,2,4,6,8}\n",
    "B = {1,2,3,4,5}\n",
    "print ( A, B)"
   ]
  },
  {
   "cell_type": "code",
   "execution_count": 297,
   "id": "aab72f1b",
   "metadata": {},
   "outputs": [
    {
     "name": "stdout",
     "output_type": "stream",
     "text": [
      "{0, 1, 2, 3, 4, 5, 6, 8}\n",
      "{0, 1, 2, 3, 4, 5, 6, 8}\n"
     ]
    }
   ],
   "source": [
    "print (A | B) # union\n",
    "print(A.union(B))"
   ]
  },
  {
   "cell_type": "code",
   "execution_count": 298,
   "id": "b13f69a7",
   "metadata": {},
   "outputs": [
    {
     "name": "stdout",
     "output_type": "stream",
     "text": [
      "{2, 4}\n",
      "{2, 4}\n"
     ]
    }
   ],
   "source": [
    "print (A & B) # Intersection \n",
    "print (A.intersection(B))"
   ]
  },
  {
   "cell_type": "code",
   "execution_count": 300,
   "id": "23a043f9",
   "metadata": {},
   "outputs": [
    {
     "name": "stdout",
     "output_type": "stream",
     "text": [
      "{0, 8, 6}\n"
     ]
    }
   ],
   "source": [
    "print (A-B) # Diffrence"
   ]
  },
  {
   "cell_type": "code",
   "execution_count": 302,
   "id": "4571d634",
   "metadata": {},
   "outputs": [
    {
     "name": "stdout",
     "output_type": "stream",
     "text": [
      "{0, 8, 6}\n",
      "{0, 8, 6}\n"
     ]
    }
   ],
   "source": [
    "print( A - B) # Diffrence\n",
    "print (A.difference(B))"
   ]
  },
  {
   "cell_type": "code",
   "execution_count": 303,
   "id": "7c194653",
   "metadata": {},
   "outputs": [
    {
     "name": "stdout",
     "output_type": "stream",
     "text": [
      "{0, 1, 3, 5, 6, 8}\n"
     ]
    }
   ],
   "source": [
    "print ( A ^ B) # Symmetric Diffrence, The Values mighe be there in Set A or Set B. But not Both A & B\n",
    "# The Example Set A & B  , the value 2 and 4 are there both the set.  Symmetric Diffrence provide output removing these values\n"
   ]
  },
  {
   "cell_type": "code",
   "execution_count": 304,
   "id": "71725f4a",
   "metadata": {},
   "outputs": [
    {
     "name": "stdout",
     "output_type": "stream",
     "text": [
      "4\n"
     ]
    }
   ],
   "source": [
    "nums = set([1,1,2,3,3,3,4])\n",
    "print(len(nums))"
   ]
  },
  {
   "cell_type": "code",
   "execution_count": 305,
   "id": "122eaa81",
   "metadata": {},
   "outputs": [
    {
     "data": {
      "text/plain": [
       "{0, 1, 3, 5, 6, 8}"
      ]
     },
     "execution_count": 305,
     "metadata": {},
     "output_type": "execute_result"
    }
   ],
   "source": [
    "(A.union(B)).difference(A.intersection(B))"
   ]
  },
  {
   "cell_type": "code",
   "execution_count": null,
   "id": "46da90d7",
   "metadata": {},
   "outputs": [],
   "source": []
  },
  {
   "cell_type": "markdown",
   "id": "7b5d0a38",
   "metadata": {},
   "source": [
    "<h1 style=\"color:Brown\"> Dictionaries </h1>\n",
    "\n",
    "- A dictionary stores element as keys and values pairs.\n",
    "- The key is like an index, it's is always unique and immutable. \n",
    "- The values are the objects that contain information.\n",
    "- Values are accessed using their keys.\n",
    "- Each key is followed by a value separated by a colon. \n",
    "- The values can be immutable, mutable, and duplicates. \n",
    "- Each key and value pair is separated by a comma enclosed inside curly brackets."
   ]
  },
  {
   "cell_type": "markdown",
   "id": "dd5f482a",
   "metadata": {},
   "source": [
    "In this session, we are going to talk about dictionaries. In Python, we use dictionaries to store key-value pairs.\n",
    "Here is an example -\n",
    "Let's take the example of a customer as seen earlier.\n",
    "Now a customer could have multiple attributes such as \n",
    "1. Name\n",
    "2. Email\n",
    "3. Userid\n",
    "4. Address \n",
    "5. Phone number\n",
    "\n",
    "Now each of these attributes would be our key and corresponding we'll have values against each on them\n",
    "\n",
    "With a dictionary, we can store a bunch of key-value pairs, let us now see have a look at the 'Dictionary' data type in Python"
   ]
  },
  {
   "cell_type": "code",
   "execution_count": 306,
   "id": "0dbc9fcb",
   "metadata": {},
   "outputs": [
    {
     "data": {
      "text/plain": [
       "{'India': '₹', 'USA': '$', 'French': 'Euro'}"
      ]
     },
     "execution_count": 306,
     "metadata": {},
     "output_type": "execute_result"
    }
   ],
   "source": [
    "# Cuntry = Key\n",
    "# Values = Currency\n",
    "\n",
    "d = {\"India\": \"₹\",\"USA\":\"$\", \"French\":\"Euro\"}\n",
    "d"
   ]
  },
  {
   "cell_type": "code",
   "execution_count": 308,
   "id": "7ee5106b",
   "metadata": {},
   "outputs": [
    {
     "name": "stdout",
     "output_type": "stream",
     "text": [
      "$\n",
      "₹\n",
      "Euro\n"
     ]
    }
   ],
   "source": [
    "print(d[\"USA\"])\n",
    "print(d[\"India\"])\n",
    "print(d[\"French\"])"
   ]
  },
  {
   "cell_type": "code",
   "execution_count": 309,
   "id": "2e0a386b",
   "metadata": {},
   "outputs": [
    {
     "name": "stdout",
     "output_type": "stream",
     "text": [
      "€\n"
     ]
    }
   ],
   "source": [
    "# Replacing the value for a Key in a Dictionary\n",
    "\n",
    "d[\"French\"] = \"€\"\n",
    "print(d[\"French\"])"
   ]
  },
  {
   "cell_type": "code",
   "execution_count": 310,
   "id": "f6306d66",
   "metadata": {},
   "outputs": [
    {
     "data": {
      "text/plain": [
       "{'India': '₹', 'USA': '$', 'French': '€'}"
      ]
     },
     "execution_count": 310,
     "metadata": {},
     "output_type": "execute_result"
    }
   ],
   "source": [
    "d"
   ]
  },
  {
   "cell_type": "code",
   "execution_count": 311,
   "id": "142ae080",
   "metadata": {},
   "outputs": [
    {
     "name": "stdout",
     "output_type": "stream",
     "text": [
      "$\n",
      "₹\n",
      "€\n"
     ]
    }
   ],
   "source": [
    "print(d[\"USA\"])\n",
    "print(d[\"India\"])\n",
    "print(d[\"French\"])"
   ]
  },
  {
   "cell_type": "code",
   "execution_count": 321,
   "id": "854da0d2",
   "metadata": {},
   "outputs": [
    {
     "data": {
      "text/plain": [
       "{'India': '₹', 'USA': '$', 'French': 'Euro', 'Japan': 'Yen'}"
      ]
     },
     "execution_count": 321,
     "metadata": {},
     "output_type": "execute_result"
    }
   ],
   "source": [
    "# Insert new key value pair into a dictionary\n",
    "d[\"Japan\"] = \"Yen\"\n",
    "\n",
    "\n",
    "d"
   ]
  },
  {
   "cell_type": "code",
   "execution_count": 313,
   "id": "55bb478a",
   "metadata": {},
   "outputs": [
    {
     "data": {
      "text/plain": [
       "{'India': '₹', 'USA': '$', 'French': '€'}"
      ]
     },
     "execution_count": 313,
     "metadata": {},
     "output_type": "execute_result"
    }
   ],
   "source": [
    "# Deleting  new key-value  pair from Dictonlary\n",
    "\n",
    "del d [\"Japan\"]\n",
    "d"
   ]
  },
  {
   "cell_type": "code",
   "execution_count": 314,
   "id": "4b71d153",
   "metadata": {},
   "outputs": [
    {
     "ename": "KeyError",
     "evalue": "'Japan'",
     "output_type": "error",
     "traceback": [
      "\u001b[1;31m---------------------------------------------------------------------------\u001b[0m",
      "\u001b[1;31mKeyError\u001b[0m                                  Traceback (most recent call last)",
      "Cell \u001b[1;32mIn[314], line 1\u001b[0m\n\u001b[1;32m----> 1\u001b[0m \u001b[43md\u001b[49m\u001b[43m[\u001b[49m\u001b[38;5;124;43m\"\u001b[39;49m\u001b[38;5;124;43mJapan\u001b[39;49m\u001b[38;5;124;43m\"\u001b[39;49m\u001b[43m]\u001b[49m\n",
      "\u001b[1;31mKeyError\u001b[0m: 'Japan'"
     ]
    }
   ],
   "source": [
    "d[\"Japan\"]"
   ]
  },
  {
   "cell_type": "code",
   "execution_count": 315,
   "id": "6e758351",
   "metadata": {},
   "outputs": [
    {
     "data": {
      "text/plain": [
       "'$'"
      ]
     },
     "execution_count": 315,
     "metadata": {},
     "output_type": "execute_result"
    }
   ],
   "source": [
    "d[\"USA\"]"
   ]
  },
  {
   "cell_type": "code",
   "execution_count": 318,
   "id": "fd7cae9c",
   "metadata": {},
   "outputs": [
    {
     "data": {
      "text/plain": [
       "['French', 'India', 'USA']"
      ]
     },
     "execution_count": 318,
     "metadata": {},
     "output_type": "execute_result"
    }
   ],
   "source": [
    "# Sorting a Dictionary - in Alphabetical order\n",
    "d\n",
    "sorted(d)"
   ]
  },
  {
   "cell_type": "code",
   "execution_count": 322,
   "id": "a7274147",
   "metadata": {},
   "outputs": [
    {
     "data": {
      "text/plain": [
       "{'India': '₹', 'USA': '$', 'French': '€', 'Japan': 'Yen', 'japan': 'YEN'}"
      ]
     },
     "execution_count": 322,
     "metadata": {},
     "output_type": "execute_result"
    }
   ],
   "source": [
    "d[\"French\"] = \"€\"\n",
    "d[\"japan\"] = \"YEN\"\n",
    "\n",
    "d"
   ]
  },
  {
   "cell_type": "code",
   "execution_count": 326,
   "id": "b344e826",
   "metadata": {},
   "outputs": [
    {
     "data": {
      "text/plain": [
       "dict_values(['₹', '$', '€', 'Yen'])"
      ]
     },
     "execution_count": 326,
     "metadata": {},
     "output_type": "execute_result"
    }
   ],
   "source": [
    "# Extract All Values from Dictionary\n",
    "d.values()"
   ]
  },
  {
   "cell_type": "code",
   "execution_count": 327,
   "id": "e9299734",
   "metadata": {},
   "outputs": [
    {
     "data": {
      "text/plain": [
       "dict_values(['₹', '$', '€', 'Yen'])"
      ]
     },
     "execution_count": 327,
     "metadata": {},
     "output_type": "execute_result"
    }
   ],
   "source": [
    "d.values()"
   ]
  },
  {
   "cell_type": "code",
   "execution_count": 328,
   "id": "7be239b6",
   "metadata": {},
   "outputs": [
    {
     "data": {
      "text/plain": [
       "dict_keys(['India', 'USA', 'French', 'Japan'])"
      ]
     },
     "execution_count": 328,
     "metadata": {},
     "output_type": "execute_result"
    }
   ],
   "source": [
    "# Extract the Key from Dictionary\n",
    "d.keys()"
   ]
  },
  {
   "cell_type": "code",
   "execution_count": 333,
   "id": "4ce8b4b8",
   "metadata": {},
   "outputs": [
    {
     "data": {
      "text/plain": [
       "{'India': '₹', 'USA': '$', 'French': '€', 'Japan': '¥'}"
      ]
     },
     "execution_count": 333,
     "metadata": {},
     "output_type": "execute_result"
    }
   ],
   "source": [
    "#update () Methon 2\n",
    "d.update({'Japan':'¥'})\n",
    "d"
   ]
  },
  {
   "cell_type": "code",
   "execution_count": 334,
   "id": "46786484",
   "metadata": {},
   "outputs": [
    {
     "data": {
      "text/plain": [
       "dict_keys(['India', 'USA', 'French', 'Japan'])"
      ]
     },
     "execution_count": 334,
     "metadata": {},
     "output_type": "execute_result"
    }
   ],
   "source": [
    "d.keys()"
   ]
  },
  {
   "cell_type": "code",
   "execution_count": 335,
   "id": "f5eaa749",
   "metadata": {},
   "outputs": [
    {
     "data": {
      "text/plain": [
       "dict_values(['₹', '$', '€', '¥'])"
      ]
     },
     "execution_count": 335,
     "metadata": {},
     "output_type": "execute_result"
    }
   ],
   "source": [
    "d.values()"
   ]
  },
  {
   "cell_type": "code",
   "execution_count": 336,
   "id": "ec22b153",
   "metadata": {},
   "outputs": [],
   "source": [
    "dd = {}"
   ]
  },
  {
   "cell_type": "code",
   "execution_count": 337,
   "id": "a2ccc457",
   "metadata": {},
   "outputs": [
    {
     "data": {
      "text/plain": [
       "{}"
      ]
     },
     "execution_count": 337,
     "metadata": {},
     "output_type": "execute_result"
    }
   ],
   "source": [
    "dd"
   ]
  },
  {
   "cell_type": "code",
   "execution_count": 338,
   "id": "338c8543",
   "metadata": {},
   "outputs": [
    {
     "data": {
      "text/plain": [
       "dict"
      ]
     },
     "execution_count": 338,
     "metadata": {},
     "output_type": "execute_result"
    }
   ],
   "source": [
    "type(dd)"
   ]
  },
  {
   "cell_type": "code",
   "execution_count": 339,
   "id": "0d672246",
   "metadata": {},
   "outputs": [],
   "source": [
    "dd = {'a':1, 'b':2}"
   ]
  },
  {
   "cell_type": "code",
   "execution_count": 340,
   "id": "9614c5b9",
   "metadata": {},
   "outputs": [
    {
     "data": {
      "text/plain": [
       "dict"
      ]
     },
     "execution_count": 340,
     "metadata": {},
     "output_type": "execute_result"
    }
   ],
   "source": [
    "type(dd)"
   ]
  },
  {
   "cell_type": "code",
   "execution_count": 341,
   "id": "a3b5a049",
   "metadata": {},
   "outputs": [],
   "source": [
    "dd = dict(a=1, b=2)"
   ]
  },
  {
   "cell_type": "code",
   "execution_count": 342,
   "id": "1f03bf2c",
   "metadata": {},
   "outputs": [
    {
     "data": {
      "text/plain": [
       "{'a': 1, 'b': 2}"
      ]
     },
     "execution_count": 342,
     "metadata": {},
     "output_type": "execute_result"
    }
   ],
   "source": [
    "dd"
   ]
  },
  {
   "cell_type": "code",
   "execution_count": 343,
   "id": "1bbdca47",
   "metadata": {},
   "outputs": [
    {
     "ename": "SyntaxError",
     "evalue": "invalid syntax (4154918484.py, line 1)",
     "output_type": "error",
     "traceback": [
      "\u001b[1;36m  Cell \u001b[1;32mIn[343], line 1\u001b[1;36m\u001b[0m\n\u001b[1;33m    del.dd\u001b[0m\n\u001b[1;37m       ^\u001b[0m\n\u001b[1;31mSyntaxError\u001b[0m\u001b[1;31m:\u001b[0m invalid syntax\n"
     ]
    }
   ],
   "source": [
    "del.dd"
   ]
  },
  {
   "cell_type": "code",
   "execution_count": 344,
   "id": "5a5c87dc",
   "metadata": {},
   "outputs": [],
   "source": [
    "del dd"
   ]
  },
  {
   "cell_type": "code",
   "execution_count": 345,
   "id": "aa21a7fb",
   "metadata": {},
   "outputs": [
    {
     "ename": "NameError",
     "evalue": "name 'dd' is not defined",
     "output_type": "error",
     "traceback": [
      "\u001b[1;31m---------------------------------------------------------------------------\u001b[0m",
      "\u001b[1;31mNameError\u001b[0m                                 Traceback (most recent call last)",
      "Cell \u001b[1;32mIn[345], line 1\u001b[0m\n\u001b[1;32m----> 1\u001b[0m \u001b[43mdd\u001b[49m\n",
      "\u001b[1;31mNameError\u001b[0m: name 'dd' is not defined"
     ]
    }
   ],
   "source": [
    "dd"
   ]
  },
  {
   "cell_type": "code",
   "execution_count": 346,
   "id": "9e8b9d51",
   "metadata": {},
   "outputs": [],
   "source": [
    "ds = dict(a=1, b=2)"
   ]
  },
  {
   "cell_type": "code",
   "execution_count": 347,
   "id": "3962055b",
   "metadata": {},
   "outputs": [
    {
     "data": {
      "text/plain": [
       "dict"
      ]
     },
     "execution_count": 347,
     "metadata": {},
     "output_type": "execute_result"
    }
   ],
   "source": [
    "type(ds)"
   ]
  },
  {
   "cell_type": "code",
   "execution_count": 348,
   "id": "2b552c9b",
   "metadata": {},
   "outputs": [
    {
     "data": {
      "text/plain": [
       "{'a': 1, 'b': 2}"
      ]
     },
     "execution_count": 348,
     "metadata": {},
     "output_type": "execute_result"
    }
   ],
   "source": [
    "ds"
   ]
  },
  {
   "cell_type": "code",
   "execution_count": 349,
   "id": "ade9609d",
   "metadata": {},
   "outputs": [
    {
     "data": {
      "text/plain": [
       "dict_keys(['a', 'b'])"
      ]
     },
     "execution_count": 349,
     "metadata": {},
     "output_type": "execute_result"
    }
   ],
   "source": [
    "ds.keys()\n"
   ]
  },
  {
   "cell_type": "code",
   "execution_count": 350,
   "id": "e7b356de",
   "metadata": {},
   "outputs": [
    {
     "ename": "SyntaxError",
     "evalue": "invalid syntax (3030965932.py, line 2)",
     "output_type": "error",
     "traceback": [
      "\u001b[1;36m  Cell \u001b[1;32mIn[350], line 2\u001b[1;36m\u001b[0m\n\u001b[1;33m    d1 = ('a':1, 'b':2)\u001b[0m\n\u001b[1;37m             ^\u001b[0m\n\u001b[1;31mSyntaxError\u001b[0m\u001b[1;31m:\u001b[0m invalid syntax\n"
     ]
    }
   ],
   "source": [
    "del ds\n",
    "d1 = ('a':1, 'b':2)"
   ]
  },
  {
   "cell_type": "code",
   "execution_count": 351,
   "id": "f2a9233d",
   "metadata": {},
   "outputs": [
    {
     "name": "stdout",
     "output_type": "stream",
     "text": [
      "['Python', 'R']\n"
     ]
    }
   ],
   "source": [
    "d1 = {'Python':40, 'R':45}\n",
    "print(list(d1.keys()))"
   ]
  },
  {
   "cell_type": "markdown",
   "id": "0214148f",
   "metadata": {},
   "source": [
    "# Control Structures and Functions\n",
    "Control structures are the essence of programming; they help computers do what they do best: automate repetitive tasks intelligently. The most common control structures are if-else statements, for and while loops, and list and dictionary comprehensions. This session will cover all these concepts."
   ]
  },
  {
   "cell_type": "markdown",
   "id": "04e39ecf",
   "metadata": {},
   "source": [
    "### If statements\n",
    "\"IF\" statements are imperative in Python and they help us build programs that could make decisions based on a specified condition\n",
    "\n",
    "\n",
    "*   If I am tired, I'll go to bed\n",
    "\n",
    "*   If I am hungry, I'll order food\n",
    "\n",
    "Notice all these applications start with the word 'IF' and that is the first way we are going to control our applications.\n",
    "\n",
    "And before writing down a code to mimic a decision, let us first look at the relational operators that would help us test or define some kind of relation between two entities.\n",
    "\n",
    "Relational operators are used to test equality or inequality of a condition and that condition might change based on your preference.\n",
    "\n",
    "```\n",
    "Example -\n",
    "If its raining == True:\n",
    "  I'll get an umbrella\n",
    "\n",
    "```\n",
    "\n",
    "\n",
    "\n",
    "\n",
    "\n",
    "\n",
    "\n"
   ]
  },
  {
   "cell_type": "markdown",
   "id": "29ec1be0",
   "metadata": {},
   "source": [
    "<h2 style = \"color:Brown\">Relation Operator\n"
   ]
  },
  {
   "cell_type": "markdown",
   "id": "de4b4e64",
   "metadata": {},
   "source": [
    "#### Double equal to operator"
   ]
  },
  {
   "cell_type": "code",
   "execution_count": 11,
   "id": "f95fa790",
   "metadata": {},
   "outputs": [
    {
     "data": {
      "text/plain": [
       "True"
      ]
     },
     "execution_count": 11,
     "metadata": {},
     "output_type": "execute_result"
    }
   ],
   "source": [
    "10 == 10"
   ]
  },
  {
   "cell_type": "markdown",
   "id": "7d9099fd",
   "metadata": {},
   "source": [
    "<h4 style = \"color:Red\">Note</h3>\n",
    "\n",
    "#####' = ' is an assignment operator; it is used to assign value to a variable on the left.\n",
    "\n",
    "#####'==' is a relational operator; it is used for comparision of equality."
   ]
  },
  {
   "cell_type": "code",
   "execution_count": 15,
   "id": "7ed405f4",
   "metadata": {},
   "outputs": [
    {
     "data": {
      "text/plain": [
       "5"
      ]
     },
     "execution_count": 15,
     "metadata": {},
     "output_type": "execute_result"
    }
   ],
   "source": [
    "a = 5 # Assigning value to Variable\n",
    "a"
   ]
  },
  {
   "cell_type": "code",
   "execution_count": 16,
   "id": "1003c013",
   "metadata": {},
   "outputs": [
    {
     "data": {
      "text/plain": [
       "True"
      ]
     },
     "execution_count": 16,
     "metadata": {},
     "output_type": "execute_result"
    }
   ],
   "source": [
    "a == 5 # Checking if varilable A is eqal to 5 = Relation Operation"
   ]
  },
  {
   "cell_type": "code",
   "execution_count": 17,
   "id": "e6ef716e",
   "metadata": {},
   "outputs": [
    {
     "data": {
      "text/plain": [
       "False"
      ]
     },
     "execution_count": 17,
     "metadata": {},
     "output_type": "execute_result"
    }
   ],
   "source": [
    "10 == 5"
   ]
  },
  {
   "cell_type": "markdown",
   "id": "08034913",
   "metadata": {},
   "source": [
    "#### Not equal to operator"
   ]
  },
  {
   "cell_type": "code",
   "execution_count": 18,
   "id": "e80c0259",
   "metadata": {},
   "outputs": [
    {
     "data": {
      "text/plain": [
       "True"
      ]
     },
     "execution_count": 18,
     "metadata": {},
     "output_type": "execute_result"
    }
   ],
   "source": [
    "10 != 5"
   ]
  },
  {
   "cell_type": "code",
   "execution_count": 19,
   "id": "22759742",
   "metadata": {},
   "outputs": [
    {
     "data": {
      "text/plain": [
       "True"
      ]
     },
     "execution_count": 19,
     "metadata": {},
     "output_type": "execute_result"
    }
   ],
   "source": [
    "10 > 5"
   ]
  },
  {
   "cell_type": "code",
   "execution_count": 20,
   "id": "23b8e957",
   "metadata": {},
   "outputs": [
    {
     "data": {
      "text/plain": [
       "False"
      ]
     },
     "execution_count": 20,
     "metadata": {},
     "output_type": "execute_result"
    }
   ],
   "source": [
    "10 < 5 "
   ]
  },
  {
   "cell_type": "code",
   "execution_count": 21,
   "id": "d15f53ce",
   "metadata": {},
   "outputs": [
    {
     "data": {
      "text/plain": [
       "True"
      ]
     },
     "execution_count": 21,
     "metadata": {},
     "output_type": "execute_result"
    }
   ],
   "source": [
    "10 >= 5 # Checking weather 10 is bigger than 5 or Equal to 5. OR Gate Any one value is true the output is True (1)"
   ]
  },
  {
   "cell_type": "code",
   "execution_count": 22,
   "id": "ec196ea2",
   "metadata": {},
   "outputs": [
    {
     "data": {
      "text/plain": [
       "False"
      ]
     },
     "execution_count": 22,
     "metadata": {},
     "output_type": "execute_result"
    }
   ],
   "source": [
    "10 <= 5 # Checking weather 10 is smaller than 5 or Equal to 5. OR Gate Any one value is true the output is True (1)"
   ]
  },
  {
   "cell_type": "markdown",
   "id": "1745416b",
   "metadata": {},
   "source": [
    "<h2 style = \"color:Brown\">Decision Making\n"
   ]
  },
  {
   "cell_type": "markdown",
   "id": "7f0efa11",
   "metadata": {},
   "source": [
    "Now let's get back to writing a conditional statement with the 'if' condition\n",
    "\n",
    "To do that we would write it 'if' followed by an expression"
   ]
  },
  {
   "cell_type": "markdown",
   "id": "966d1d92",
   "metadata": {},
   "source": [
    "#### Write a program to check value in variable x is less than 99"
   ]
  },
  {
   "cell_type": "code",
   "execution_count": 13,
   "id": "45ff1210",
   "metadata": {},
   "outputs": [
    {
     "name": "stdout",
     "output_type": "stream",
     "text": [
      "49  is is less than 99\n"
     ]
    }
   ],
   "source": [
    "x = 49\n",
    "if x < 99 : # The \"colon\":  1that indicates the start of block creation, The indentation here defines the scope of the if or else statement, Either code under the if block is executed or under the else block is executed, not both of them. \n",
    "\n",
    "    # inside the if-Statement\n",
    "    print(x, \" is is less than 99\")\n",
    "else:\n",
    "    # inside Else statement\n",
    "    print(x, \" is grater than 99\")\n"
   ]
  },
  {
   "cell_type": "markdown",
   "id": "2a660995",
   "metadata": {},
   "source": [
    "######\n",
    "Important things to note here are as follows:\n",
    "\n",
    " \n",
    "\n",
    "The \"colon\" that indicates the start of block creation, The indentation here defines the scope of the if or else statement, Either code under the if block is executed or under the else block is executed, not both of them. \n",
    "\n",
    " \n",
    "\n",
    "So now that you have understood the basic if-else construct, can you try to write a code to return YES if x lies in the range of 1000 to 1100, else return NO?\n",
    "\n",
    " \n",
    "\n",
    "If you break this down, you can get the following conditions:"
   ]
  },
  {
   "cell_type": "code",
   "execution_count": 24,
   "id": "bbc0b29f",
   "metadata": {},
   "outputs": [
    {
     "data": {
      "text/plain": [
       "True"
      ]
     },
     "execution_count": 24,
     "metadata": {},
     "output_type": "execute_result"
    }
   ],
   "source": [
    "x < 99"
   ]
  },
  {
   "cell_type": "code",
   "execution_count": 14,
   "id": "c8abc57a",
   "metadata": {},
   "outputs": [
    {
     "name": "stdout",
     "output_type": "stream",
     "text": [
      "490  is grater than 99\n"
     ]
    }
   ],
   "source": [
    "x = 490\n",
    "if x < 99 :\n",
    "    # inside the if-Statement\n",
    "    print(x, \" is is less than 99\")\n",
    "else:\n",
    "    # inside Else statement\n",
    "    print(x, \" is grater than 99\")\n"
   ]
  },
  {
   "cell_type": "code",
   "execution_count": 26,
   "id": "70db0833",
   "metadata": {},
   "outputs": [
    {
     "data": {
      "text/plain": [
       "False"
      ]
     },
     "execution_count": 26,
     "metadata": {},
     "output_type": "execute_result"
    }
   ],
   "source": [
    "x < 99"
   ]
  },
  {
   "cell_type": "code",
   "execution_count": 15,
   "id": "8812fae2",
   "metadata": {},
   "outputs": [
    {
     "name": "stdout",
     "output_type": "stream",
     "text": [
      "No\n"
     ]
    }
   ],
   "source": [
    "if (X<1000):\n",
    "    print('No')\n",
    "else:\n",
    "    if (X>1100 ):\n",
    "        print('No')\n",
    "    else:\n",
    "        print('Yes')"
   ]
  },
  {
   "cell_type": "markdown",
   "id": "770fe1dc",
   "metadata": {},
   "source": [
    "## Logical Operators\n",
    "We use logical operators in situations where we have multiple conditions\n",
    "\n",
    "####   AND\n",
    "####   OR\n",
    "####   NOR\n",
    "####   XOR\n",
    "\n",
    "Are some of the common and most widely used logical operators\n",
    "You can learn more about them from this link: https://pythonlessons.net/python-logic-gates/\n",
    "\n",
    "\n"
   ]
  },
  {
   "cell_type": "markdown",
   "id": "34b70a3d",
   "metadata": {},
   "source": [
    "#### Write a program to record the age of visitor and allows him to an exclusive children's day party hosted by Mr Obama only if he or she is above 60 years or below 18 years of age"
   ]
  },
  {
   "cell_type": "code",
   "execution_count": 32,
   "id": "8d9f0478",
   "metadata": {},
   "outputs": [
    {
     "name": "stdout",
     "output_type": "stream",
     "text": [
      "32 \n",
      " Sorry !! You are not fit in the age criteria\n"
     ]
    }
   ],
   "source": [
    "age = int(input(\"Enter your Age Please!!\"))\n",
    "if age <= 18 or age >=60:\n",
    "    print(age,\"\\n Plesure to have you, Please Welcome to the Party\")\n",
    "else:\n",
    "    print(age, \"\\n Sorry !! You are not fit in the age criteria\")"
   ]
  },
  {
   "cell_type": "markdown",
   "id": "a3601813",
   "metadata": {},
   "source": [
    "#### Write a program which offers \"various\" discounts based on purchase bills"
   ]
  },
  {
   "cell_type": "code",
   "execution_count": 36,
   "id": "e4dd0d63",
   "metadata": {},
   "outputs": [
    {
     "name": "stdout",
     "output_type": "stream",
     "text": [
      "You Won a discount voucher of flat 99 on next opurchase\n"
     ]
    }
   ],
   "source": [
    "total_bill = 349\n",
    "\n",
    "if total_bill >= 500:\n",
    "    print( \"You Won a discount voucher of flat 1000 on next opurchase\")\n",
    "elif total_bill >= 350:\n",
    "    print( \"You Won a discount voucher of flat 500 on next opurchase\")\n",
    "elif total_bill >= 100:\n",
    "    print( \"You Won a discount voucher of flat 99 on next opurchase\")\n",
    "else:\n",
    "    print( \"SORRY!! no discount for you !!! \")\n",
    "\n"
   ]
  },
  {
   "cell_type": "code",
   "execution_count": 9,
   "id": "d8232647",
   "metadata": {},
   "outputs": [
    {
     "name": "stdout",
     "output_type": "stream",
     "text": [
      "Yes\n",
      "10\n"
     ]
    }
   ],
   "source": [
    "X = 10\n",
    "if (X > 1000 & X < 1100):\n",
    "    print('Yes')\n",
    "else:\n",
    "    print('No')\n",
    "    \n",
    "print(X)"
   ]
  },
  {
   "cell_type": "code",
   "execution_count": 45,
   "id": "052160ee",
   "metadata": {},
   "outputs": [
    {
     "data": {
      "text/plain": [
       "False"
      ]
     },
     "execution_count": 45,
     "metadata": {},
     "output_type": "execute_result"
    }
   ],
   "source": [
    "X > 1000"
   ]
  },
  {
   "cell_type": "code",
   "execution_count": 46,
   "id": "20fddd7f",
   "metadata": {},
   "outputs": [
    {
     "data": {
      "text/plain": [
       "True"
      ]
     },
     "execution_count": 46,
     "metadata": {},
     "output_type": "execute_result"
    }
   ],
   "source": [
    "X < 1000"
   ]
  },
  {
   "cell_type": "code",
   "execution_count": 8,
   "id": "edcd1e3e",
   "metadata": {},
   "outputs": [
    {
     "name": "stdout",
     "output_type": "stream",
     "text": [
      "No\n"
     ]
    }
   ],
   "source": [
    "#So now that you have understood the basic if-else construct, can you try to write a code to return YES if x lies in the range of 1000 to 1100, else return NO?\n",
    "\n",
    "\n",
    "if (X<1000):\n",
    "    print('No')\n",
    "else:\n",
    "    if (X>1100 ):\n",
    "        print('No')\n",
    "    else:\n",
    "        print('Yes')\n",
    "        X"
   ]
  },
  {
   "cell_type": "code",
   "execution_count": 2,
   "id": "8a9ea091",
   "metadata": {},
   "outputs": [
    {
     "name": "stdout",
     "output_type": "stream",
     "text": [
      "No\n"
     ]
    }
   ],
   "source": [
    "# So now that you have understood the basic if-else construct, can you try to write a code to return YES if x lies in the range of 1000 to 1100, else return NO?\n",
    "\n",
    "X = 99\n",
    "if (X<1000):\n",
    "    print('No')\n",
    "else:\n",
    "    if (X>1100 ):\n",
    "        print('No')\n",
    "    else:\n",
    "        print('Yes')"
   ]
  },
  {
   "cell_type": "code",
   "execution_count": 3,
   "id": "e0d927dd",
   "metadata": {},
   "outputs": [
    {
     "data": {
      "text/plain": [
       "99"
      ]
     },
     "execution_count": 3,
     "metadata": {},
     "output_type": "execute_result"
    }
   ],
   "source": [
    "X\n"
   ]
  },
  {
   "cell_type": "code",
   "execution_count": 4,
   "id": "5a38d32e",
   "metadata": {},
   "outputs": [
    {
     "name": "stdout",
     "output_type": "stream",
     "text": [
      "YES\n"
     ]
    }
   ],
   "source": [
    "X = 12\n",
    "\n",
    "if (X > 10 and  X < 15):\n",
    "    print (\"YES\")\n",
    "else:\n",
    "    print (\"No\")"
   ]
  },
  {
   "cell_type": "code",
   "execution_count": 10,
   "id": "ebfe156b",
   "metadata": {},
   "outputs": [
    {
     "data": {
      "text/plain": [
       "False"
      ]
     },
     "execution_count": 10,
     "metadata": {},
     "output_type": "execute_result"
    }
   ],
   "source": [
    "X > 10"
   ]
  },
  {
   "cell_type": "code",
   "execution_count": 11,
   "id": "286f0021",
   "metadata": {},
   "outputs": [
    {
     "data": {
      "text/plain": [
       "10"
      ]
     },
     "execution_count": 11,
     "metadata": {},
     "output_type": "execute_result"
    }
   ],
   "source": [
    "X"
   ]
  },
  {
   "cell_type": "markdown",
   "id": "55ad0d7e",
   "metadata": {},
   "source": [
    "#### Example on nested if-else"
   ]
  },
  {
   "cell_type": "code",
   "execution_count": 24,
   "id": "79b643c9",
   "metadata": {},
   "outputs": [],
   "source": [
    "world_cups = {2019 : ['England', 'New-Zeland'], 2015:[\"Australia\", \"New-Zeland\"], 2011 : [\"India\", \"Sri Lanka\"], 2007: [\"Australia\", \"Sri Lanka\"], 2003: [\"Australia\", \"India\"]}\n",
    "\n"
   ]
  },
  {
   "cell_type": "code",
   "execution_count": 7,
   "id": "8bfa1c30",
   "metadata": {},
   "outputs": [
    {
     "data": {
      "text/plain": [
       "{2019: ['England', 'New Zealand'],\n",
       " 2015: ['Australia', 'New Zealand'],\n",
       " 2011: ['India', 'Sri Lanka'],\n",
       " 2007: ['Australia', 'Sri Lanka'],\n",
       " 2003: ['Australia', 'India']}"
      ]
     },
     "execution_count": 7,
     "metadata": {},
     "output_type": "execute_result"
    }
   ],
   "source": [
    "world_cups"
   ]
  },
  {
   "cell_type": "code",
   "execution_count": 11,
   "id": "83f936dc",
   "metadata": {},
   "outputs": [
    {
     "data": {
      "text/plain": [
       "dict_keys([2019, 2015, 2011, 2007, 2003])"
      ]
     },
     "execution_count": 11,
     "metadata": {},
     "output_type": "execute_result"
    }
   ],
   "source": [
    "world_cups.keys()"
   ]
  },
  {
   "cell_type": "code",
   "execution_count": 12,
   "id": "e112238f",
   "metadata": {},
   "outputs": [
    {
     "data": {
      "text/plain": [
       "dict_values([['England', 'New Zealand'], ['Australia', 'New Zealand'], ['India', 'Sri Lanka'], ['Australia', 'Sri Lanka'], ['Australia', 'India']])"
      ]
     },
     "execution_count": 12,
     "metadata": {},
     "output_type": "execute_result"
    }
   ],
   "source": [
    "world_cups.values()"
   ]
  },
  {
   "cell_type": "code",
   "execution_count": 14,
   "id": "b32b76c5",
   "metadata": {},
   "outputs": [
    {
     "data": {
      "text/plain": [
       "['Australia', 'India']"
      ]
     },
     "execution_count": 14,
     "metadata": {},
     "output_type": "execute_result"
    }
   ],
   "source": [
    "world_cups[2003]"
   ]
  },
  {
   "cell_type": "code",
   "execution_count": 20,
   "id": "79c27bdf",
   "metadata": {},
   "outputs": [],
   "source": [
    "year = int(input(\"Enter the Year to checck if New Zealand made it to the Finals in 20th Centrure : \"))  "
   ]
  },
  {
   "cell_type": "code",
   "execution_count": 21,
   "id": "6fbd1971",
   "metadata": {},
   "outputs": [
    {
     "data": {
      "text/plain": [
       "2015"
      ]
     },
     "execution_count": 21,
     "metadata": {},
     "output_type": "execute_result"
    }
   ],
   "source": [
    "year"
   ]
  },
  {
   "cell_type": "code",
   "execution_count": 22,
   "id": "60f65897",
   "metadata": {},
   "outputs": [
    {
     "data": {
      "text/plain": [
       "['Australia', 'New Zealand']"
      ]
     },
     "execution_count": 22,
     "metadata": {},
     "output_type": "execute_result"
    }
   ],
   "source": [
    "world_cups[2015]"
   ]
  },
  {
   "cell_type": "code",
   "execution_count": 23,
   "id": "80197970",
   "metadata": {},
   "outputs": [
    {
     "data": {
      "text/plain": [
       "{2019: ['England', 'New Zealand'],\n",
       " 2015: ['Australia', 'New Zealand'],\n",
       " 2011: ['India', 'Sri Lanka'],\n",
       " 2007: ['Australia', 'Sri Lanka'],\n",
       " 2003: ['Australia', 'India']}"
      ]
     },
     "execution_count": 23,
     "metadata": {},
     "output_type": "execute_result"
    }
   ],
   "source": [
    "world_cups"
   ]
  },
  {
   "cell_type": "code",
   "execution_count": 25,
   "id": "c0cac5b4",
   "metadata": {},
   "outputs": [
    {
     "data": {
      "text/plain": [
       "{2019: ['England', 'New-Zeland'],\n",
       " 2015: ['Australia', 'New-Zeland'],\n",
       " 2011: ['India', 'Sri Lanka'],\n",
       " 2007: ['Australia', 'Sri Lanka'],\n",
       " 2003: ['Australia', 'India']}"
      ]
     },
     "execution_count": 25,
     "metadata": {},
     "output_type": "execute_result"
    }
   ],
   "source": [
    "world_cups"
   ]
  },
  {
   "cell_type": "code",
   "execution_count": 26,
   "id": "fbdafeae",
   "metadata": {},
   "outputs": [
    {
     "data": {
      "text/plain": [
       "['England', 'New-Zeland']"
      ]
     },
     "execution_count": 26,
     "metadata": {},
     "output_type": "execute_result"
    }
   ],
   "source": [
    "world_cups[2019]"
   ]
  },
  {
   "cell_type": "code",
   "execution_count": 27,
   "id": "d009f16b",
   "metadata": {},
   "outputs": [
    {
     "data": {
      "text/plain": [
       "['Australia', 'New-Zeland']"
      ]
     },
     "execution_count": 27,
     "metadata": {},
     "output_type": "execute_result"
    }
   ],
   "source": [
    "world_cups[2015]"
   ]
  },
  {
   "cell_type": "code",
   "execution_count": 29,
   "id": "3300a57b",
   "metadata": {},
   "outputs": [
    {
     "name": "stdout",
     "output_type": "stream",
     "text": [
      "New-Zeland made it ti Finals in the YEAR:  2015\n"
     ]
    }
   ],
   "source": [
    "if year in world_cups:\n",
    "    # do some stuff\n",
    "    if \"New-Zeland\" in world_cups[year]:\n",
    "        print(\"New-Zeland made it ti Finals in the YEAR: \",year)\n",
    "    else:\n",
    "        print (\"New-Zeland Did NOT Made it to Finals\",year)\n",
    "else:\n",
    "    print(\"World Cup was not palyed in\", year)"
   ]
  },
  {
   "cell_type": "code",
   "execution_count": 30,
   "id": "54617947",
   "metadata": {},
   "outputs": [],
   "source": [
    "year = int(input(\"Enter the Year to checck if New Zealand made it to the Finals in 20th Centrure : \"))"
   ]
  },
  {
   "cell_type": "code",
   "execution_count": 31,
   "id": "80c5336c",
   "metadata": {},
   "outputs": [
    {
     "data": {
      "text/plain": [
       "2020"
      ]
     },
     "execution_count": 31,
     "metadata": {},
     "output_type": "execute_result"
    }
   ],
   "source": [
    "year"
   ]
  },
  {
   "cell_type": "code",
   "execution_count": 32,
   "id": "d44b3684",
   "metadata": {},
   "outputs": [
    {
     "name": "stdout",
     "output_type": "stream",
     "text": [
      "World Cup was not palyed in 2020\n"
     ]
    }
   ],
   "source": [
    "if year in world_cups:\n",
    "    # do some stuff\n",
    "    if \"New-Zeland\" in world_cups[year]:\n",
    "        print(\"New-Zeland made it ti Finals in the YEAR: \",year)\n",
    "    else:\n",
    "        print (\"New-Zeland Did NOT Made it to Finals\",year)\n",
    "else:\n",
    "    print(\"World Cup was not palyed in\", year)"
   ]
  },
  {
   "cell_type": "markdown",
   "id": "115d3448",
   "metadata": {},
   "source": [
    "######What is the output of the following code?\n",
    "\n",
    "\n",
    "\n",
    "\n",
    "X = 12 \\\n",
    "\n",
    "if (X > 10 & X < 15):\n",
    "print('YES')\n",
    "else:\n",
    "print('No')\n"
   ]
  },
  {
   "cell_type": "code",
   "execution_count": 37,
   "id": "060b0849",
   "metadata": {},
   "outputs": [
    {
     "ename": "IndentationError",
     "evalue": "expected an indented block (1826772815.py, line 4)",
     "output_type": "error",
     "traceback": [
      "\u001b[1;36m  Cell \u001b[1;32mIn[37], line 4\u001b[1;36m\u001b[0m\n\u001b[1;33m    print('YES')\u001b[0m\n\u001b[1;37m    ^\u001b[0m\n\u001b[1;31mIndentationError\u001b[0m\u001b[1;31m:\u001b[0m expected an indented block\n"
     ]
    }
   ],
   "source": [
    "X = 12\n",
    "\n",
    "if (X > 10 & X < 15):\n",
    "print('YES')\n",
    "else:\n",
    "print('No')\n"
   ]
  },
  {
   "cell_type": "markdown",
   "id": "da74439e",
   "metadata": {},
   "source": [
    "###### Maximum of Three Numbers\n",
    "Complete the piece of code to print a maximum of three variables, a, b and c.\n",
    "\n",
    "a=10\n",
    "b=16\n",
    "c=20\n",
    "\n",
    "if( # missing part 1 # ):\n",
    "    print(\"a\")\n",
    "elif( # missing part 2 #):\n",
    "    print(\"b\")\n",
    "else:\n",
    "     print(\"c\")\n"
   ]
  },
  {
   "cell_type": "code",
   "execution_count": 36,
   "id": "e272519d",
   "metadata": {},
   "outputs": [
    {
     "name": "stdout",
     "output_type": "stream",
     "text": [
      "20\n"
     ]
    }
   ],
   "source": [
    "a=10\n",
    "b=16\n",
    "c=20\n",
    "if a > b and a > c:\n",
    "    print(a)\n",
    "elif b > a and b > c:\n",
    "    print(b)\n",
    "else:\n",
    "    print(c)"
   ]
  },
  {
   "cell_type": "markdown",
   "id": "65c094e5",
   "metadata": {},
   "source": [
    "##### Reverse Engineering\n",
    "\n",
    "Given the code below, the output obtained in several runs is 'C' 'A' 'D' 'B'.\n",
    "if score >= 90:\n",
    "   print('A')\n",
    "elif score >=80:\n",
    "   print('B')\n",
    "elif score >= 70:\n",
    "   print('C')\n",
    "elif score >= 60:\n",
    "   print('D')\n",
    "else:\n",
    "   print('F')"
   ]
  },
  {
   "cell_type": "code",
   "execution_count": 47,
   "id": "2b19a679",
   "metadata": {},
   "outputs": [
    {
     "name": "stdout",
     "output_type": "stream",
     "text": [
      "B\n"
     ]
    }
   ],
   "source": [
    "# Given the code below, the output obtained in several runs is 'C' 'A' 'D' 'B'.\n",
    "score = int(input(\"Enter the SCORE\"))\n",
    "if score >= 90:\n",
    "   print('A')\n",
    "elif score >=80:\n",
    "   print('B')\n",
    "elif score >= 70:\n",
    "   print('C')\n",
    "elif score >= 60:\n",
    "   print('D')\n",
    "else:\n",
    "   print('F')"
   ]
  },
  {
   "cell_type": "code",
   "execution_count": 48,
   "id": "d43cb585",
   "metadata": {},
   "outputs": [
    {
     "data": {
      "text/plain": [
       "(72, 93, 67)"
      ]
     },
     "execution_count": 48,
     "metadata": {},
     "output_type": "execute_result"
    }
   ],
   "source": [
    "72,93,67"
   ]
  },
  {
   "cell_type": "code",
   "execution_count": 49,
   "id": "a1d5d701",
   "metadata": {},
   "outputs": [
    {
     "name": "stdout",
     "output_type": "stream",
     "text": [
      "B\n"
     ]
    }
   ],
   "source": [
    "if (10 < 0) and (0 < -10):\n",
    "    print(\"A\")\n",
    "elif (10 > 0) or False:\n",
    "    print(\"B\")\n",
    "else:\n",
    "    print(\"C\")"
   ]
  },
  {
   "cell_type": "code",
   "execution_count": 51,
   "id": "3d3785b3",
   "metadata": {},
   "outputs": [
    {
     "name": "stdout",
     "output_type": "stream",
     "text": [
      "B\n"
     ]
    }
   ],
   "source": [
    "if True or True:\n",
    "    if False and True or False:\n",
    "        print('A')\n",
    "    elif False and False or True and True:\n",
    "        print('B')\n",
    "    else:\n",
    "        print('C')\n",
    "else:\n",
    "    print('D')\n",
    "\n",
    "\n",
    "    #Feedback:\n",
    "# T or T will be a T. \n",
    "# The code will return the value that satisfies these statements. \n",
    "# \"A\"  will be returned for an F, as (F and T) = F, (F or F) = F. B will be returned for a T, as (F and F) = F, (T and T) = T, (F or T) = T.\n",
    "    #1 or 1 = 1\n",
    "    #0 and 1 = 0\n",
    "    #0 or 0 = 0\n",
    "    #============\n",
    "    #0 or 0 = 0\n",
    "    #1 and 1 = 1\n",
    "    #0 or 1 = 1 \n",
    "\n",
    "    \n",
    "\n"
   ]
  },
  {
   "cell_type": "markdown",
   "id": "41f43a64",
   "metadata": {},
   "source": [
    "<h2 style = \"color:Brown\">Loops and Iterations\n"
   ]
  },
  {
   "cell_type": "markdown",
   "id": "36066ef8",
   "metadata": {},
   "source": [
    "Let’s look at a small example where you have a person’s income and expense data across five months in the form of a list, and you want to compute his savings across these five months. You may be thinking of doing this manually by taking the first elements from the two lists and subtracting them, then again taking the second elements and subtracting, and so on. This may look simple, but let’s say it is across 10 or 20 years. Would you do the same? \n",
    "\n",
    " \n",
    "\n",
    "This is where the concept of iteration comes in handy, as you are repeating the same operation multiple times. With this in mind, let’s learn more about it."
   ]
  },
  {
   "cell_type": "markdown",
   "id": "051ff570",
   "metadata": {},
   "source": [
    "Let's start with a simple 'While' loop - \n",
    "##### A while loop begins with a keyword 'While' followed by an expression \n",
    "##### So While this condition is satisfied keep running the loop"
   ]
  },
  {
   "cell_type": "code",
   "execution_count": 1,
   "id": "237e53bc",
   "metadata": {},
   "outputs": [
    {
     "name": "stdout",
     "output_type": "stream",
     "text": [
      "Pin validation successful.\n"
     ]
    }
   ],
   "source": [
    "# Let's create a pin checker which we generally have in our phones or ATMs\n",
    "pin = input(\"Enter your four digit pin: \")\n",
    "while pin != '1234':\n",
    "    pin = input('Invalid input, please try again: ')  \n",
    "print(\"Pin validation successful.\")"
   ]
  },
  {
   "cell_type": "code",
   "execution_count": 1,
   "id": "706ab714",
   "metadata": {},
   "outputs": [
    {
     "name": "stdout",
     "output_type": "stream",
     "text": [
      "Enter your four digit pin: 11\n",
      "Invalid input, please try again: 125\n",
      "Invalid input, please try again: 136\n"
     ]
    },
    {
     "ename": "SystemExit",
     "evalue": "Too many invalid attempts",
     "output_type": "error",
     "traceback": [
      "An exception has occurred, use %tb to see the full traceback.\n",
      "\u001b[1;31mSystemExit\u001b[0m\u001b[1;31m:\u001b[0m Too many invalid attempts\n"
     ]
    },
    {
     "name": "stderr",
     "output_type": "stream",
     "text": [
      "C:\\Users\\kumard54\\AppData\\Local\\anaconda3\\Lib\\site-packages\\IPython\\core\\interactiveshell.py:3534: UserWarning: To exit: use 'exit', 'quit', or Ctrl-D.\n",
      "  warn(\"To exit: use 'exit', 'quit', or Ctrl-D.\", stacklevel=1)\n"
     ]
    }
   ],
   "source": [
    "# Now if we want to add a maximum number of tries allowed condition we'll use the if loop\n",
    "\n",
    "import sys    #required for exiting the code and displaying an error\n",
    "\n",
    "pin = input(\"Enter your four digit pin: \")\n",
    "attempt_count = 1\n",
    "while pin != '1234':\n",
    "    if attempt_count >= 3:\n",
    "     sys.exit(\"Too many invalid attempts\")   #error code\n",
    "    pin = input('Invalid input, please try again: ')  \n",
    "    attempt_count += 1\n",
    "print(\"Pin validation successful.\")\n"
   ]
  },
  {
   "cell_type": "markdown",
   "id": "4577fac5",
   "metadata": {},
   "source": []
  },
  {
   "cell_type": "code",
   "execution_count": 2,
   "id": "6d92ce68",
   "metadata": {},
   "outputs": [
    {
     "name": "stdout",
     "output_type": "stream",
     "text": [
      "Enter your four digit pin: 1122\n",
      "Invalid input, please try again: 9875\n",
      "Invalid input, please try again: 1234\n",
      "Pin validation successful.\n"
     ]
    }
   ],
   "source": [
    "# Now if we want to add a maximum number of tries allowed condition we'll use the if loop\n",
    "\n",
    "import sys    #required for exiting the code and displaying an error\n",
    "\n",
    "pin = input(\"Enter your four digit pin: \")\n",
    "attempt_count = 1\n",
    "while pin != '1234':\n",
    "    if attempt_count >= 3:\n",
    "     sys.exit(\"Too many invalid attempts\")   #error code\n",
    "    pin = input('Invalid input, please try again: ')  \n",
    "    attempt_count += 1\n",
    "print(\"Pin validation successful.\")\n"
   ]
  },
  {
   "cell_type": "markdown",
   "id": "8109c1b7",
   "metadata": {},
   "source": [
    "### For Loop"
   ]
  },
  {
   "cell_type": "code",
   "execution_count": 8,
   "id": "b4e375f5",
   "metadata": {},
   "outputs": [
    {
     "data": {
      "text/plain": [
       "[1, 3, 4, 2, 5, 6]"
      ]
     },
     "execution_count": 8,
     "metadata": {},
     "output_type": "execute_result"
    }
   ],
   "source": [
    "# iterate over list of integers\n",
    "\n",
    "l = [1,3,4,2,5,6]\n",
    "l"
   ]
  },
  {
   "cell_type": "code",
   "execution_count": 9,
   "id": "2d3f4031",
   "metadata": {},
   "outputs": [
    {
     "name": "stdout",
     "output_type": "stream",
     "text": [
      "1\n",
      "3\n",
      "4\n",
      "2\n",
      "5\n",
      "6\n"
     ]
    }
   ],
   "source": [
    "l = [1,3,4,2,5,6]\n",
    "for var in l : \n",
    "    print(var)"
   ]
  },
  {
   "cell_type": "code",
   "execution_count": 14,
   "id": "1f7a6405",
   "metadata": {},
   "outputs": [
    {
     "name": "stdout",
     "output_type": "stream",
     "text": [
      "W\n",
      "e\n",
      "l\n",
      "c\n",
      "o\n",
      "m\n",
      "e\n",
      " \n",
      "t\n",
      "o\n",
      " \n",
      "B\n",
      "e\n",
      "n\n",
      "g\n",
      "a\n",
      "l\n",
      "u\n",
      "r\n",
      "u\n"
     ]
    }
   ],
   "source": [
    "# iterate over a string\n",
    "\n",
    "string = \"Welcome to Bengaluru\"\n",
    "for char in string:\n",
    "    print(char)"
   ]
  },
  {
   "cell_type": "code",
   "execution_count": 15,
   "id": "aa0f979f",
   "metadata": {},
   "outputs": [
    {
     "name": "stdout",
     "output_type": "stream",
     "text": [
      "W\n",
      "E\n",
      "L\n",
      "C\n",
      "O\n",
      "M\n",
      "E\n",
      " \n",
      "T\n",
      "O\n",
      " \n",
      "B\n",
      "E\n",
      "N\n",
      "G\n",
      "A\n",
      "L\n",
      "U\n",
      "R\n",
      "U\n"
     ]
    }
   ],
   "source": [
    "# iterate over a string anc convert to upper case\n",
    "\n",
    "string = \"Welcome to Bengaluru\"\n",
    "for char in string:\n",
    "    print(char.upper())"
   ]
  },
  {
   "cell_type": "code",
   "execution_count": 16,
   "id": "53092498",
   "metadata": {},
   "outputs": [
    {
     "name": "stdout",
     "output_type": "stream",
     "text": [
      "W:E:L:C:O:M:E: :T:O: :B:E:N:G:A:L:U:R:U:"
     ]
    }
   ],
   "source": [
    "# iterate over a string  - modify print using end\n",
    "string = \"Welcome to Bengaluru\"\n",
    "for char in string:\n",
    "    print(char.upper(),end = \":\") #default value of end = \"\\n\"\n",
    "    "
   ]
  },
  {
   "cell_type": "code",
   "execution_count": 19,
   "id": "d10ecfa4",
   "metadata": {},
   "outputs": [
    {
     "data": {
      "text/plain": [
       "{1: ['Sam', 24],\n",
       " 2: ['Rob', 25],\n",
       " 3: ['Jack', 26],\n",
       " 4: ['Cornor', 24],\n",
       " 5: ['Trump', 27]}"
      ]
     },
     "execution_count": 19,
     "metadata": {},
     "output_type": "execute_result"
    }
   ],
   "source": [
    "#simple dictionary\n",
    "students_data = {1:['Sam', 24] , 2:['Rob',25], 3:['Jack', 26], 4:['Cornor',24], 5:['Trump',27]}\n",
    "students_data\n"
   ]
  },
  {
   "cell_type": "code",
   "execution_count": 20,
   "id": "fafc3d80",
   "metadata": {},
   "outputs": [
    {
     "name": "stdout",
     "output_type": "stream",
     "text": [
      "1 ['Sam', 24]\n",
      "2 ['Rob', 25]\n",
      "3 ['Jack', 26]\n",
      "4 ['Cornor', 24]\n",
      "5 ['Trump', 27]\n"
     ]
    }
   ],
   "source": [
    "# iterating over a dictionary\n",
    "# for loop can be applied over the dictionaries. \n",
    "\n",
    "students_data = {1:['Sam', 24] , 2:['Rob',25], 3:['Jack', 26], 4:['Cornor',24], 5:['Trump',27]}\n",
    "for key, val in students_data.items():\n",
    "    print(key,val)\n",
    "    \n"
   ]
  },
  {
   "cell_type": "code",
   "execution_count": 21,
   "id": "f2eb1690",
   "metadata": {},
   "outputs": [
    {
     "name": "stdout",
     "output_type": "stream",
     "text": [
      "1\n",
      "2\n",
      "3\n",
      "4\n",
      "5\n"
     ]
    }
   ],
   "source": [
    "# iterating only key over a dictionary\n",
    "for key in students_data.keys():\n",
    "    print(key)"
   ]
  },
  {
   "cell_type": "code",
   "execution_count": 31,
   "id": "5057cdbb",
   "metadata": {},
   "outputs": [
    {
     "name": "stdout",
     "output_type": "stream",
     "text": [
      "[2, 1, 2, 3, 4]\n",
      "[2, 6, 2, 3, 4]\n",
      "[2, 6, 15, 3, 4]\n",
      "[2, 6, 15, 4, 4]\n",
      "[2, 6, 15, 4, 8]\n"
     ]
    }
   ],
   "source": [
    "#Now that you have learnt about the 'for statement', can you answer our initial question of calculating savings \n",
    "#using a person’s income and expenses data? Let’s try this out.\n",
    "\n",
    "\n",
    "#Assume you have -\n",
    "\n",
    "# L1 = [10, 20, 30, 24, 18] (in thousands)\n",
    "# L2 = [8, 14, 15, 20, 10]\n",
    "\n",
    "# What you were doing manually is subtracting the first element of each list and then the second element, and so on. \n",
    "# In other words, it is L1[i] - L2[i].\n",
    "\n",
    "#Let’s implement the for loop using the list L3:\n",
    "\n",
    "L1 = [10, 20, 30, 24, 18]\n",
    "L2 = [8, 14, 15, 20, 10]\n",
    "L3 = [0, 1, 2, 3, 4]\n",
    "\n",
    "for j in L3:\n",
    "    L3[j] = L1[j] - L2[j] #[j] = index value of Arry or list\n",
    "    print(L3)"
   ]
  },
  {
   "cell_type": "code",
   "execution_count": 30,
   "id": "9f23eca4",
   "metadata": {},
   "outputs": [
    {
     "data": {
      "text/plain": [
       "[2, 6, 15, 4, 8]"
      ]
     },
     "execution_count": 30,
     "metadata": {},
     "output_type": "execute_result"
    }
   ],
   "source": [
    "L3"
   ]
  },
  {
   "cell_type": "code",
   "execution_count": 32,
   "id": "dd025275",
   "metadata": {},
   "outputs": [
    {
     "data": {
      "text/plain": [
       "18"
      ]
     },
     "execution_count": 32,
     "metadata": {},
     "output_type": "execute_result"
    }
   ],
   "source": [
    "L1[j]"
   ]
  },
  {
   "cell_type": "code",
   "execution_count": 33,
   "id": "ebbd96f3",
   "metadata": {},
   "outputs": [
    {
     "data": {
      "text/plain": [
       "range(1, 7)"
      ]
     },
     "execution_count": 33,
     "metadata": {},
     "output_type": "execute_result"
    }
   ],
   "source": [
    "# Genarating Range values\n",
    "\n",
    "range(1,7)\n"
   ]
  },
  {
   "cell_type": "code",
   "execution_count": 34,
   "id": "84f58d3e",
   "metadata": {},
   "outputs": [
    {
     "data": {
      "text/plain": [
       "range"
      ]
     },
     "execution_count": 34,
     "metadata": {},
     "output_type": "execute_result"
    }
   ],
   "source": [
    "range"
   ]
  },
  {
   "cell_type": "code",
   "execution_count": 36,
   "id": "7004c5af",
   "metadata": {},
   "outputs": [
    {
     "data": {
      "text/plain": [
       "[1, 2, 3, 4, 5, 6]"
      ]
     },
     "execution_count": 36,
     "metadata": {},
     "output_type": "execute_result"
    }
   ],
   "source": [
    "l = list(range(1,7))\n",
    "l"
   ]
  },
  {
   "cell_type": "code",
   "execution_count": 37,
   "id": "e2f3d6d2",
   "metadata": {},
   "outputs": [
    {
     "name": "stdout",
     "output_type": "stream",
     "text": [
      "1\n",
      "2\n",
      "3\n",
      "4\n",
      "5\n",
      "6\n"
     ]
    }
   ],
   "source": [
    "for i in range(1,7):\n",
    "    print(i)"
   ]
  },
  {
   "cell_type": "code",
   "execution_count": 38,
   "id": "1302ee97",
   "metadata": {},
   "outputs": [
    {
     "name": "stdout",
     "output_type": "stream",
     "text": [
      "1 2 3 4 5 6 "
     ]
    }
   ],
   "source": [
    "for i in range(1,7):\n",
    "    print(i, end = \" \")"
   ]
  },
  {
   "cell_type": "code",
   "execution_count": 39,
   "id": "abb94ded",
   "metadata": {},
   "outputs": [
    {
     "name": "stdout",
     "output_type": "stream",
     "text": [
      "[1, 3, 5, 7, 9, 11, 13, 15, 17, 19, 21, 23, 25, 27, 29, 31, 33, 35, 37, 39, 41, 43, 45, 47, 49, 51, 53, 55, 57, 59, 61, 63, 65, 67, 69, 71, 73, 75, 77, 79, 81, 83, 85, 87, 89, 91, 93, 95, 97, 99]\n"
     ]
    }
   ],
   "source": [
    "# diffrent variations in range\n",
    "\n",
    "print(list(range(1,100,2))) # gives number from 1 to 100 with a step count of 2"
   ]
  },
  {
   "cell_type": "code",
   "execution_count": 42,
   "id": "edef9f83",
   "metadata": {},
   "outputs": [
    {
     "name": "stdout",
     "output_type": "stream",
     "text": [
      "[100, 99, 98, 97, 96, 95, 94, 93, 92, 91, 90, 89, 88, 87, 86, 85, 84, 83, 82, 81, 80, 79, 78, 77, 76, 75, 74, 73, 72, 71, 70, 69, 68, 67, 66, 65, 64, 63, 62, 61, 60, 59, 58, 57, 56, 55, 54, 53, 52, 51, 50, 49, 48, 47, 46, 45, 44, 43, 42, 41, 40, 39, 38, 37, 36, 35, 34, 33, 32, 31, 30, 29, 28, 27, 26, 25, 24, 23, 22, 21, 20, 19, 18, 17, 16, 15, 14, 13, 12, 11, 10, 9, 8, 7, 6, 5, 4, 3, 2, 1]\n"
     ]
    }
   ],
   "source": [
    "print (list(range(100,0, -1))) # gives a reversed sequesnce of number from 100 to 1"
   ]
  },
  {
   "cell_type": "markdown",
   "id": "13a82342",
   "metadata": {},
   "source": [
    "#Complete the Code\n",
    "#Complete this piece of code for calculating the element-wise difference between two lists and storing them in L3.\n",
    "\n",
    "[Assume that the lists are of the same length.]\n",
    "\n",
    "L1 = [10, 20, 30, 24, 18]\n",
    "L2 = [8, 14, 15, 20, 10]\n",
    "L3=[]\n",
    "for  i in ##1###:\n",
    "    L3.###2##\n",
    "L3"
   ]
  },
  {
   "cell_type": "code",
   "execution_count": 56,
   "id": "3be51a78",
   "metadata": {},
   "outputs": [
    {
     "data": {
      "text/plain": [
       "[2, 6, 15, 4, 8]"
      ]
     },
     "execution_count": 56,
     "metadata": {},
     "output_type": "execute_result"
    }
   ],
   "source": [
    "L1 = [10, 20, 30, 24, 18]\n",
    "L2 = [8, 14, 15, 20, 10]\n",
    "L3=[]\n",
    "for i in range(len(L1)):\n",
    "    L3.append(L1[i] - L2[i])\n",
    "L3"
   ]
  },
  {
   "cell_type": "code",
   "execution_count": 60,
   "id": "d5256384",
   "metadata": {},
   "outputs": [
    {
     "data": {
      "text/plain": [
       "range(0, 100)"
      ]
     },
     "execution_count": 60,
     "metadata": {},
     "output_type": "execute_result"
    }
   ],
   "source": [
    "range(100)\n"
   ]
  },
  {
   "cell_type": "code",
   "execution_count": 73,
   "id": "5698b151",
   "metadata": {},
   "outputs": [
    {
     "data": {
      "text/plain": [
       "[0,\n",
       " 1,\n",
       " 2,\n",
       " 3,\n",
       " 4,\n",
       " 5,\n",
       " 6,\n",
       " 7,\n",
       " 8,\n",
       " 9,\n",
       " 10,\n",
       " 11,\n",
       " 12,\n",
       " 13,\n",
       " 14,\n",
       " 15,\n",
       " 16,\n",
       " 17,\n",
       " 18,\n",
       " 19,\n",
       " 20,\n",
       " 21,\n",
       " 22,\n",
       " 23,\n",
       " 24,\n",
       " 25,\n",
       " 26,\n",
       " 27,\n",
       " 28,\n",
       " 29]"
      ]
     },
     "execution_count": 73,
     "metadata": {},
     "output_type": "execute_result"
    }
   ],
   "source": [
    "l1 = list(range(30))\n",
    "l1"
   ]
  },
  {
   "cell_type": "code",
   "execution_count": 75,
   "id": "cb6b790b",
   "metadata": {},
   "outputs": [
    {
     "data": {
      "text/plain": [
       "[1, 2, 3, 4, 5, 6, 7, 8, 9, 10, 11, 12, 13, 14]"
      ]
     },
     "execution_count": 75,
     "metadata": {},
     "output_type": "execute_result"
    }
   ],
   "source": [
    "l1 = list(range(1,15))\n",
    "l1"
   ]
  },
  {
   "cell_type": "code",
   "execution_count": 76,
   "id": "b3d302e8",
   "metadata": {},
   "outputs": [
    {
     "data": {
      "text/plain": [
       "[1, 2, 3, 4, 5, 6, 7, 8, 9, 10, 11, 12, 13, 14]"
      ]
     },
     "execution_count": 76,
     "metadata": {},
     "output_type": "execute_result"
    }
   ],
   "source": [
    "l1 = list(range(1,15,1))\n",
    "l1"
   ]
  },
  {
   "cell_type": "code",
   "execution_count": 77,
   "id": "fdf16eb4",
   "metadata": {},
   "outputs": [
    {
     "data": {
      "text/plain": [
       "[1, 3, 5, 7, 9, 11, 13]"
      ]
     },
     "execution_count": 77,
     "metadata": {},
     "output_type": "execute_result"
    }
   ],
   "source": [
    "l1 = list(range(1,15,2))\n",
    "l1"
   ]
  },
  {
   "cell_type": "code",
   "execution_count": 78,
   "id": "df810e50",
   "metadata": {},
   "outputs": [
    {
     "data": {
      "text/plain": [
       "[15, 13, 11, 9, 7, 5, 3]"
      ]
     },
     "execution_count": 78,
     "metadata": {},
     "output_type": "execute_result"
    }
   ],
   "source": [
    "l1 = list(range(15,1,-2))\n",
    "l1"
   ]
  },
  {
   "cell_type": "code",
   "execution_count": 79,
   "id": "6fc98a33",
   "metadata": {},
   "outputs": [
    {
     "data": {
      "text/plain": [
       "[1, 2, 3, 4, 5, 6, 7, 8, 9, 10, 11, 12, 13, 14]"
      ]
     },
     "execution_count": 79,
     "metadata": {},
     "output_type": "execute_result"
    }
   ],
   "source": [
    "l1 = list(range(1,15,1))\n",
    "l1"
   ]
  },
  {
   "cell_type": "code",
   "execution_count": null,
   "id": "6a080b01",
   "metadata": {},
   "outputs": [],
   "source": []
  }
 ],
 "metadata": {
  "kernelspec": {
   "display_name": "Python 3 (ipykernel)",
   "language": "python",
   "name": "python3"
  },
  "language_info": {
   "codemirror_mode": {
    "name": "ipython",
    "version": 3
   },
   "file_extension": ".py",
   "mimetype": "text/x-python",
   "name": "python",
   "nbconvert_exporter": "python",
   "pygments_lexer": "ipython3",
   "version": "3.11.5"
  }
 },
 "nbformat": 4,
 "nbformat_minor": 5
}
